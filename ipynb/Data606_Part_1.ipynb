{
  "nbformat": 4,
  "nbformat_minor": 0,
  "metadata": {
    "colab": {
      "name": "Data606_Part_1.ipynb",
      "provenance": [],
      "collapsed_sections": [],
      "authorship_tag": "ABX9TyPejOk8fX73k8Lif3Bq/Yuw",
      "include_colab_link": true
    },
    "kernelspec": {
      "name": "python3",
      "display_name": "Python 3"
    },
    "language_info": {
      "name": "python"
    }
  },
  "cells": [
    {
      "cell_type": "markdown",
      "metadata": {
        "id": "view-in-github",
        "colab_type": "text"
      },
      "source": [
        "<a href=\"https://colab.research.google.com/github/camaduzzi/CAmaduzzi_DATA606/blob/main/ipynb/Data606_Part_1.ipynb\" target=\"_parent\"><img src=\"https://colab.research.google.com/assets/colab-badge.svg\" alt=\"Open In Colab\"/></a>"
      ]
    },
    {
      "cell_type": "markdown",
      "source": [
        "## DATA 606 Part I\n",
        "\n",
        "# Author: Carlotta Amaduzzi"
      ],
      "metadata": {
        "id": "_SsbkcxnPbHA"
      }
    },
    {
      "cell_type": "markdown",
      "source": [
        "I am now testing if I can upload these changes into the  right place "
      ],
      "metadata": {
        "id": "dVy5T9_ea1hp"
      }
    },
    {
      "cell_type": "markdown",
      "source": [
        "I am trying to test what we talked aboiut at the end of class when I lost the connection **now**\n",
        "\n",
        "I am trying to test what we talked aboiut at the end of class when I lost the connection **now**\n",
        "\n",
        "I am trying to test what we talked aboiut at the end of class when I lost the connection **now**"
      ],
      "metadata": {
        "id": "tkzd3BhBHU7U"
      }
    },
    {
      "cell_type": "markdown",
      "source": [
        "prova"
      ],
      "metadata": {
        "id": "w6c3aY6RPaFb"
      }
    }
  ]
}