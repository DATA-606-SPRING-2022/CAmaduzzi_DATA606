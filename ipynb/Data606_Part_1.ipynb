{
  "nbformat": 4,
  "nbformat_minor": 0,
  "metadata": {
    "colab": {
      "name": "Data606_Part_1.ipynb",
      "provenance": [],
      "authorship_tag": "ABX9TyPJ3WDByk5rV19fk9jmPBzR",
      "include_colab_link": true
    },
    "kernelspec": {
      "name": "python3",
      "display_name": "Python 3"
    },
    "language_info": {
      "name": "python"
    }
  },
  "cells": [
    {
      "cell_type": "markdown",
      "metadata": {
        "id": "view-in-github",
        "colab_type": "text"
      },
      "source": [
        "<a href=\"https://colab.research.google.com/github/camaduzzi/CAmaduzzi_DATA606/blob/main/ipynb/Data606_Part_1.ipynb\" target=\"_parent\"><img src=\"https://colab.research.google.com/assets/colab-badge.svg\" alt=\"Open In Colab\"/></a>"
      ]
    },
    {
      "cell_type": "code",
      "execution_count": null,
      "metadata": {
        "id": "tDILZ2d6R_4Z"
      },
      "outputs": [],
      "source": [
        ""
      ]
    },
    {
      "cell_type": "markdown",
      "source": [
        "## Data606 Part 1 \n",
        "\n",
        "# Author: Carlotta Amaduzzi "
      ],
      "metadata": {
        "id": "zdcy0FpXSAZG"
      }
    },
    {
      "cell_type": "code",
      "source": [
        "# text"
      ],
      "metadata": {
        "id": "6u9LGlQtSHkI"
      },
      "execution_count": null,
      "outputs": []
    }
  ]
}