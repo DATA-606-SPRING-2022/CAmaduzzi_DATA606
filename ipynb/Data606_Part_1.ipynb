{
  "nbformat": 4,
  "nbformat_minor": 0,
  "metadata": {
    "colab": {
      "name": "Data606_Part_1.ipynb",
      "provenance": [],
      "authorship_tag": "ABX9TyPwbpsX0TshxJo0pGPEu6gt",
      "include_colab_link": true
    },
    "kernelspec": {
      "name": "python3",
      "display_name": "Python 3"
    },
    "language_info": {
      "name": "python"
    }
  },
  "cells": [
    {
      "cell_type": "markdown",
      "metadata": {
        "id": "view-in-github",
        "colab_type": "text"
      },
      "source": [
        "<a href=\"https://colab.research.google.com/github/camaduzzi/CAmaduzzi_DATA606/blob/main/ipynb/Data606_Part_1.ipynb\" target=\"_parent\"><img src=\"https://colab.research.google.com/assets/colab-badge.svg\" alt=\"Open In Colab\"/></a>"
      ]
    },
    {
      "cell_type": "markdown",
      "source": [
        "## DATA 606 Part I\n",
        "\n",
        "# Author: Carlotta Amaduzzi"
      ],
      "metadata": {
        "id": "_SsbkcxnPbHA"
      }
    },
    {
      "cell_type": "markdown",
      "source": [
        "prova"
      ],
      "metadata": {
        "id": "w6c3aY6RPaFb"
      }
    }
  ]
}