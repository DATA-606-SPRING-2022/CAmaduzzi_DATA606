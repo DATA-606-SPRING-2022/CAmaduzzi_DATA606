{
  "nbformat": 4,
  "nbformat_minor": 0,
  "metadata": {
    "colab": {
      "name": "Data606_Part2v1_1_03_01_2022.ipynb",
      "provenance": []
    },
    "kernelspec": {
      "name": "python3",
      "display_name": "Python 3"
    },
    "language_info": {
      "name": "python"
    }
  },
  "cells": [
    {
      "cell_type": "markdown",
      "source": [
        "# Part II - Continuing Data Merging and Cleaning \n",
        "\n",
        "### Using thwe data merged in our previous step we are now  going to add Institutional Admissions Data \n",
        "\n",
        "### First we will proceed with the data cleaning then we will merge this new information with our previously df merging Student and Institutional data together"
      ],
      "metadata": {
        "id": "6AcVD3rH1fm-"
      }
    },
    {
      "cell_type": "code",
      "execution_count": 1,
      "metadata": {
        "colab": {
          "base_uri": "https://localhost:8080/"
        },
        "id": "E4v38G6j1cvL",
        "outputId": "f9f9de40-6007-43d0-a770-5d96996ab048"
      },
      "outputs": [
        {
          "output_type": "stream",
          "name": "stdout",
          "text": [
            "Mounted at /content/gdrive\n"
          ]
        }
      ],
      "source": [
        "from google.colab import drive\n",
        "drive.mount ('/content/gdrive')"
      ]
    },
    {
      "cell_type": "code",
      "source": [
        "import pandas as pd\n",
        "# import glob\n",
        "# import os \n",
        "\n",
        "import numpy as np \n",
        "\n",
        "# from datetime import datetime \n",
        "import time \n",
        "import csv\n",
        "\n",
        "import matplotlib.pyplot as plt\n",
        "\n",
        "import seaborn as sns"
      ],
      "metadata": {
        "id": "H6KV68-W2DuO"
      },
      "execution_count": 2,
      "outputs": []
    },
    {
      "cell_type": "code",
      "source": [
        "def read_data(filename):\n",
        "    start_time = time.time()\n",
        "    df=pd.read_csv(filename,low_memory=False,encoding='cp1252') # added encoding because I was getting an error in reading the files \n",
        "    # https://stackoverflow.com/questions/45529507/unicodedecodeerror-utf-8-codec-cant-decode-byte-0x96-in-position-35-invalid\n",
        "        # df=pd.read_csv(filename,low_memory=False)\n",
        "    print(time.time() - start_time, 'seconds')\n",
        "    return df"
      ],
      "metadata": {
        "id": "nijDGNX72NCI"
      },
      "execution_count": 3,
      "outputs": []
    },
    {
      "cell_type": "code",
      "source": [
        "# /content/gdrive/Shareddrives/DATA_606_Capstone/Merged_data/df_merged_two.csv\n",
        "df_merged_two = read_data('/content/gdrive/Shareddrives/DATA_606_Capstone/Merged_data/df_merged_two.csv')\n"
      ],
      "metadata": {
        "colab": {
          "base_uri": "https://localhost:8080/"
        },
        "id": "5c0xtuYdfw3l",
        "outputId": "88fce635-e895-4f83-e566-42c934645e99"
      },
      "execution_count": 4,
      "outputs": [
        {
          "output_type": "stream",
          "name": "stdout",
          "text": [
            "0.9836678504943848 seconds\n"
          ]
        }
      ]
    },
    {
      "cell_type": "code",
      "source": [
        "\n",
        "df = read_data('/content/gdrive/Shareddrives/DATA_606_Capstone/Data/adm2020.csv')\n",
        "#\n",
        "df.head()"
      ],
      "metadata": {
        "colab": {
          "base_uri": "https://localhost:8080/",
          "height": 253
        },
        "id": "YoB9hev22PhC",
        "outputId": "7a48c1fb-f974-4937-bf76-d21685e25d1f"
      },
      "execution_count": 5,
      "outputs": [
        {
          "output_type": "stream",
          "name": "stdout",
          "text": [
            "0.3225059509277344 seconds\n"
          ]
        },
        {
          "output_type": "execute_result",
          "data": {
            "text/html": [
              "\n",
              "  <div id=\"df-d63c1df5-4cd8-46dc-89c7-fe14b82b154a\">\n",
              "    <div class=\"colab-df-container\">\n",
              "      <div>\n",
              "<style scoped>\n",
              "    .dataframe tbody tr th:only-of-type {\n",
              "        vertical-align: middle;\n",
              "    }\n",
              "\n",
              "    .dataframe tbody tr th {\n",
              "        vertical-align: top;\n",
              "    }\n",
              "\n",
              "    .dataframe thead th {\n",
              "        text-align: right;\n",
              "    }\n",
              "</style>\n",
              "<table border=\"1\" class=\"dataframe\">\n",
              "  <thead>\n",
              "    <tr style=\"text-align: right;\">\n",
              "      <th></th>\n",
              "      <th>UNITID</th>\n",
              "      <th>ADMCON1</th>\n",
              "      <th>ADMCON2</th>\n",
              "      <th>ADMCON3</th>\n",
              "      <th>ADMCON4</th>\n",
              "      <th>ADMCON5</th>\n",
              "      <th>ADMCON6</th>\n",
              "      <th>ADMCON7</th>\n",
              "      <th>ADMCON8</th>\n",
              "      <th>ADMCON9</th>\n",
              "      <th>...</th>\n",
              "      <th>XACTCM75</th>\n",
              "      <th>ACTCM75</th>\n",
              "      <th>XACTEN25</th>\n",
              "      <th>ACTEN25</th>\n",
              "      <th>XACTEN75</th>\n",
              "      <th>ACTEN75</th>\n",
              "      <th>XACTMT25</th>\n",
              "      <th>ACTMT25</th>\n",
              "      <th>XACTMT75</th>\n",
              "      <th>ACTMT75</th>\n",
              "    </tr>\n",
              "  </thead>\n",
              "  <tbody>\n",
              "    <tr>\n",
              "      <th>0</th>\n",
              "      <td>100654</td>\n",
              "      <td>1</td>\n",
              "      <td>2</td>\n",
              "      <td>1</td>\n",
              "      <td>2</td>\n",
              "      <td>3</td>\n",
              "      <td>2</td>\n",
              "      <td>1</td>\n",
              "      <td>1</td>\n",
              "      <td>3</td>\n",
              "      <td>...</td>\n",
              "      <td>R</td>\n",
              "      <td>20.0</td>\n",
              "      <td>R</td>\n",
              "      <td>14.0</td>\n",
              "      <td>R</td>\n",
              "      <td>20.0</td>\n",
              "      <td>R</td>\n",
              "      <td>15.0</td>\n",
              "      <td>R</td>\n",
              "      <td>18.0</td>\n",
              "    </tr>\n",
              "    <tr>\n",
              "      <th>1</th>\n",
              "      <td>100663</td>\n",
              "      <td>1</td>\n",
              "      <td>3</td>\n",
              "      <td>1</td>\n",
              "      <td>1</td>\n",
              "      <td>3</td>\n",
              "      <td>3</td>\n",
              "      <td>1</td>\n",
              "      <td>3</td>\n",
              "      <td>3</td>\n",
              "      <td>...</td>\n",
              "      <td>R</td>\n",
              "      <td>30.0</td>\n",
              "      <td>R</td>\n",
              "      <td>22.0</td>\n",
              "      <td>R</td>\n",
              "      <td>33.0</td>\n",
              "      <td>R</td>\n",
              "      <td>20.0</td>\n",
              "      <td>R</td>\n",
              "      <td>27.0</td>\n",
              "    </tr>\n",
              "    <tr>\n",
              "      <th>2</th>\n",
              "      <td>100706</td>\n",
              "      <td>1</td>\n",
              "      <td>2</td>\n",
              "      <td>1</td>\n",
              "      <td>3</td>\n",
              "      <td>3</td>\n",
              "      <td>2</td>\n",
              "      <td>1</td>\n",
              "      <td>1</td>\n",
              "      <td>3</td>\n",
              "      <td>...</td>\n",
              "      <td>R</td>\n",
              "      <td>31.0</td>\n",
              "      <td>R</td>\n",
              "      <td>24.0</td>\n",
              "      <td>R</td>\n",
              "      <td>33.0</td>\n",
              "      <td>R</td>\n",
              "      <td>23.0</td>\n",
              "      <td>R</td>\n",
              "      <td>29.0</td>\n",
              "    </tr>\n",
              "    <tr>\n",
              "      <th>3</th>\n",
              "      <td>100724</td>\n",
              "      <td>1</td>\n",
              "      <td>3</td>\n",
              "      <td>2</td>\n",
              "      <td>3</td>\n",
              "      <td>3</td>\n",
              "      <td>3</td>\n",
              "      <td>1</td>\n",
              "      <td>1</td>\n",
              "      <td>3</td>\n",
              "      <td>...</td>\n",
              "      <td>R</td>\n",
              "      <td>20.0</td>\n",
              "      <td>R</td>\n",
              "      <td>14.0</td>\n",
              "      <td>R</td>\n",
              "      <td>20.0</td>\n",
              "      <td>R</td>\n",
              "      <td>14.0</td>\n",
              "      <td>R</td>\n",
              "      <td>20.0</td>\n",
              "    </tr>\n",
              "    <tr>\n",
              "      <th>4</th>\n",
              "      <td>100751</td>\n",
              "      <td>1</td>\n",
              "      <td>2</td>\n",
              "      <td>1</td>\n",
              "      <td>1</td>\n",
              "      <td>3</td>\n",
              "      <td>3</td>\n",
              "      <td>1</td>\n",
              "      <td>1</td>\n",
              "      <td>3</td>\n",
              "      <td>...</td>\n",
              "      <td>R</td>\n",
              "      <td>31.0</td>\n",
              "      <td>R</td>\n",
              "      <td>23.0</td>\n",
              "      <td>R</td>\n",
              "      <td>33.0</td>\n",
              "      <td>R</td>\n",
              "      <td>21.0</td>\n",
              "      <td>R</td>\n",
              "      <td>29.0</td>\n",
              "    </tr>\n",
              "  </tbody>\n",
              "</table>\n",
              "<p>5 rows × 68 columns</p>\n",
              "</div>\n",
              "      <button class=\"colab-df-convert\" onclick=\"convertToInteractive('df-d63c1df5-4cd8-46dc-89c7-fe14b82b154a')\"\n",
              "              title=\"Convert this dataframe to an interactive table.\"\n",
              "              style=\"display:none;\">\n",
              "        \n",
              "  <svg xmlns=\"http://www.w3.org/2000/svg\" height=\"24px\"viewBox=\"0 0 24 24\"\n",
              "       width=\"24px\">\n",
              "    <path d=\"M0 0h24v24H0V0z\" fill=\"none\"/>\n",
              "    <path d=\"M18.56 5.44l.94 2.06.94-2.06 2.06-.94-2.06-.94-.94-2.06-.94 2.06-2.06.94zm-11 1L8.5 8.5l.94-2.06 2.06-.94-2.06-.94L8.5 2.5l-.94 2.06-2.06.94zm10 10l.94 2.06.94-2.06 2.06-.94-2.06-.94-.94-2.06-.94 2.06-2.06.94z\"/><path d=\"M17.41 7.96l-1.37-1.37c-.4-.4-.92-.59-1.43-.59-.52 0-1.04.2-1.43.59L10.3 9.45l-7.72 7.72c-.78.78-.78 2.05 0 2.83L4 21.41c.39.39.9.59 1.41.59.51 0 1.02-.2 1.41-.59l7.78-7.78 2.81-2.81c.8-.78.8-2.07 0-2.86zM5.41 20L4 18.59l7.72-7.72 1.47 1.35L5.41 20z\"/>\n",
              "  </svg>\n",
              "      </button>\n",
              "      \n",
              "  <style>\n",
              "    .colab-df-container {\n",
              "      display:flex;\n",
              "      flex-wrap:wrap;\n",
              "      gap: 12px;\n",
              "    }\n",
              "\n",
              "    .colab-df-convert {\n",
              "      background-color: #E8F0FE;\n",
              "      border: none;\n",
              "      border-radius: 50%;\n",
              "      cursor: pointer;\n",
              "      display: none;\n",
              "      fill: #1967D2;\n",
              "      height: 32px;\n",
              "      padding: 0 0 0 0;\n",
              "      width: 32px;\n",
              "    }\n",
              "\n",
              "    .colab-df-convert:hover {\n",
              "      background-color: #E2EBFA;\n",
              "      box-shadow: 0px 1px 2px rgba(60, 64, 67, 0.3), 0px 1px 3px 1px rgba(60, 64, 67, 0.15);\n",
              "      fill: #174EA6;\n",
              "    }\n",
              "\n",
              "    [theme=dark] .colab-df-convert {\n",
              "      background-color: #3B4455;\n",
              "      fill: #D2E3FC;\n",
              "    }\n",
              "\n",
              "    [theme=dark] .colab-df-convert:hover {\n",
              "      background-color: #434B5C;\n",
              "      box-shadow: 0px 1px 3px 1px rgba(0, 0, 0, 0.15);\n",
              "      filter: drop-shadow(0px 1px 2px rgba(0, 0, 0, 0.3));\n",
              "      fill: #FFFFFF;\n",
              "    }\n",
              "  </style>\n",
              "\n",
              "      <script>\n",
              "        const buttonEl =\n",
              "          document.querySelector('#df-d63c1df5-4cd8-46dc-89c7-fe14b82b154a button.colab-df-convert');\n",
              "        buttonEl.style.display =\n",
              "          google.colab.kernel.accessAllowed ? 'block' : 'none';\n",
              "\n",
              "        async function convertToInteractive(key) {\n",
              "          const element = document.querySelector('#df-d63c1df5-4cd8-46dc-89c7-fe14b82b154a');\n",
              "          const dataTable =\n",
              "            await google.colab.kernel.invokeFunction('convertToInteractive',\n",
              "                                                     [key], {});\n",
              "          if (!dataTable) return;\n",
              "\n",
              "          const docLinkHtml = 'Like what you see? Visit the ' +\n",
              "            '<a target=\"_blank\" href=https://colab.research.google.com/notebooks/data_table.ipynb>data table notebook</a>'\n",
              "            + ' to learn more about interactive tables.';\n",
              "          element.innerHTML = '';\n",
              "          dataTable['output_type'] = 'display_data';\n",
              "          await google.colab.output.renderOutput(dataTable, element);\n",
              "          const docLink = document.createElement('div');\n",
              "          docLink.innerHTML = docLinkHtml;\n",
              "          element.appendChild(docLink);\n",
              "        }\n",
              "      </script>\n",
              "    </div>\n",
              "  </div>\n",
              "  "
            ],
            "text/plain": [
              "   UNITID  ADMCON1  ADMCON2  ADMCON3  ADMCON4  ADMCON5  ADMCON6  ADMCON7  \\\n",
              "0  100654        1        2        1        2        3        2        1   \n",
              "1  100663        1        3        1        1        3        3        1   \n",
              "2  100706        1        2        1        3        3        2        1   \n",
              "3  100724        1        3        2        3        3        3        1   \n",
              "4  100751        1        2        1        1        3        3        1   \n",
              "\n",
              "   ADMCON8  ADMCON9  ... XACTCM75  ACTCM75 XACTEN25  ACTEN25 XACTEN75  \\\n",
              "0        1        3  ...        R     20.0        R     14.0        R   \n",
              "1        3        3  ...        R     30.0        R     22.0        R   \n",
              "2        1        3  ...        R     31.0        R     24.0        R   \n",
              "3        1        3  ...        R     20.0        R     14.0        R   \n",
              "4        1        3  ...        R     31.0        R     23.0        R   \n",
              "\n",
              "   ACTEN75 XACTMT25  ACTMT25 XACTMT75  ACTMT75   \n",
              "0     20.0        R     15.0        R      18.0  \n",
              "1     33.0        R     20.0        R      27.0  \n",
              "2     33.0        R     23.0        R      29.0  \n",
              "3     20.0        R     14.0        R      20.0  \n",
              "4     33.0        R     21.0        R      29.0  \n",
              "\n",
              "[5 rows x 68 columns]"
            ]
          },
          "metadata": {},
          "execution_count": 5
        }
      ]
    },
    {
      "cell_type": "code",
      "source": [
        "df.columns = df.columns.str.replace(' ','')"
      ],
      "metadata": {
        "id": "djtShSsu2TqI"
      },
      "execution_count": 6,
      "outputs": []
    },
    {
      "cell_type": "code",
      "source": [
        "df.columns"
      ],
      "metadata": {
        "colab": {
          "base_uri": "https://localhost:8080/"
        },
        "id": "X0FfIvTs2WSZ",
        "outputId": "c8235dc0-0c65-4e6c-f567-11d21fd01dbf"
      },
      "execution_count": 7,
      "outputs": [
        {
          "output_type": "execute_result",
          "data": {
            "text/plain": [
              "Index(['UNITID', 'ADMCON1', 'ADMCON2', 'ADMCON3', 'ADMCON4', 'ADMCON5',\n",
              "       'ADMCON6', 'ADMCON7', 'ADMCON8', 'ADMCON9', 'XAPPLCN', 'APPLCN',\n",
              "       'XAPPLCNM', 'APPLCNM', 'XAPPLCNW', 'APPLCNW', 'XADMSSN', 'ADMSSN',\n",
              "       'XADMSSNM', 'ADMSSNM', 'XADMSSNW', 'ADMSSNW', 'XENRLT', 'ENRLT',\n",
              "       'XENRLM', 'ENRLM', 'XENRLW', 'ENRLW', 'XENRLFT', 'ENRLFT', 'XENRLFTM',\n",
              "       'ENRLFTM', 'XENRLFTW', 'ENRLFTW', 'XENRLPT', 'ENRLPT', 'XENRLPTM',\n",
              "       'ENRLPTM', 'XENRLPTW', 'ENRLPTW', 'XSATNUM', 'SATNUM', 'XSATPCT',\n",
              "       'SATPCT', 'XACTNUM', 'ACTNUM', 'XACTPCT', 'ACTPCT', 'XSATVR25',\n",
              "       'SATVR25', 'XSATVR75', 'SATVR75', 'XSATMT25', 'SATMT25', 'XSATMT75',\n",
              "       'SATMT75', 'XACTCM25', 'ACTCM25', 'XACTCM75', 'ACTCM75', 'XACTEN25',\n",
              "       'ACTEN25', 'XACTEN75', 'ACTEN75', 'XACTMT25', 'ACTMT25', 'XACTMT75',\n",
              "       'ACTMT75'],\n",
              "      dtype='object')"
            ]
          },
          "metadata": {},
          "execution_count": 7
        }
      ]
    },
    {
      "cell_type": "markdown",
      "source": [
        "# Please note that all of the data included in this file refers to Institutions who do not have an Open Enrollment Policy only."
      ],
      "metadata": {
        "id": "AkjOQ6jzNLYh"
      }
    },
    {
      "cell_type": "markdown",
      "source": [
        "### As far as analyzing the variables that affect enrollment for first time undergraduate students, we can select the first ten variables from the data file as potentially directly affecting enrollment:\n",
        "\n",
        "Variable Label     Variable Description\n",
        "\n",
        "1\tUNITID\tUnique identification number of the institution\n",
        "\n",
        "2\tADMCON1\tSecondary school GPA\n",
        "\n",
        "3\tADMCON2\tSecondary school rank\n",
        "\n",
        "4\tADMCON3\tSecondary school record\n",
        "\n",
        "5\tADMCON4\tCompletion of college-preparatory program\n",
        "\n",
        "6\tADMCON5\tRecommendations\n",
        "\n",
        "7\tADMCON6\tFormal demonstration of competencies\n",
        "\n",
        "8\tADMCON7\tAdmission test scores\n",
        "\n",
        "9\tADMCON8\tTOEFL (Test of English as a Foreign Language\n",
        "\n",
        "10\tADMCON9\tOther Test (Wonderlic, WISC-III, etc.)\n",
        " \n",
        "   -\n",
        " \n",
        "### The remaining 29 variables and their associated imputation variables are, however, just as interesting.\n",
        " \n",
        "1\tAPPLCN\tXAPPLCN\tApplicants total\n",
        "\n",
        "2\tAPPLCNM\tXAPPLCNM\tApplicants men\n",
        "\n",
        "3\tAPPLCNW\tXAPPLCNW\tApplicants women\n",
        "\n",
        "4\tADMSSN\tXADMSSN\tAdmissions total\n",
        "\n",
        "5\tADMSSNM\tXADMSSNM\tAdmissions men\n",
        "\n",
        "6\tADMSSNW\tXADMSSNW\tAdmissions women\n",
        "\n",
        "7\tENRLT\tXENRLT\tEnrolled total\n",
        "\n",
        "8\tENRLM\tXENRLM\tEnrolled  men\n",
        "\n",
        "9\tENRLW\tXENRLW\tEnrolled  women\n",
        "\n",
        "10\tENRLFT\tXENRLFT\tEnrolled full time total\n",
        "\n",
        "11\tENRLFTM\tXENRLFTM\tEnrolled full time men\n",
        "\n",
        "12\tENRLFTW\tXENRLFTW\tEnrolled full time women\n",
        "\n",
        "13\tENRLPT\tXENRLPT\tEnrolled part time total\n",
        "\n",
        "14\tENRLPTM\tXENRLPTM\tEnrolled part time men\n",
        "\n",
        "15\tENRLPTW\tXENRLPTW\tEnrolled part time women\n",
        "\n",
        "16\tSATNUM\tXSATNUM\tNumber of first-time degree/certificate-seeking students submitting SAT scores\n",
        "\n",
        "17\tSATPCT\tXSATPCT\tPercent of first-time degree/certificate-seeking students submitting SAT scores\n",
        "\n",
        "18\tACTNUM\tXACTNUM\tNumber of first-time degree/certificate-seeking students submitting ACT scores\n",
        "\n",
        "19\tACTPCT\tXACTPCT\tPercent of first-time degree/certificate-seeking students submitting ACT scores\n",
        "\n",
        "20\tSATVR25\tXSATVR25   \t  SAT Evidence-Based Reading and Writing 25th percentile score\n",
        "\n",
        "21\tSATVR75\tXSATVR75    \tSAT Evidence-Based Reading and Writing 75th percentile score\n",
        "\n",
        "22\tSATMT25\tXSATMT25\t    SAT Math 25th percentile score\n",
        "\n",
        "23\tSATMT75\tXSATMT75    \tSAT Math 75th percentile score\n",
        "\n",
        "24\tACTCM25\tXACTCM25\t    ACT Composite 25th percentile score\n",
        "\n",
        "25\tACTCM75\tXACTCM75\t    ACT Composite 75th percentile score\n",
        "\n",
        "26\tACTEN25\tXACTEN25\t    ACT English 25th percentile score\n",
        "\n",
        "27\tACTEN75\tXACTEN75\t    ACT English 75th percentile score\n",
        "\n",
        "28\tACTMT25\tXACTMT25\t    ACT Math 25th percentile score\n",
        "\n",
        "29\tACTMT75\tXACTMT75\t    ACT Math 75th percentile score"
      ],
      "metadata": {
        "id": "xpwWgD3P7iI7"
      }
    },
    {
      "cell_type": "markdown",
      "source": [
        "### Let's look a moment at the first ten variables separately - Only the variables that address specifically admissions policies (without including standardized tests data)"
      ],
      "metadata": {
        "id": "Fscl8YOgXUu-"
      }
    },
    {
      "cell_type": "code",
      "source": [
        "# columns=['UNITID', 'ADMCON1', 'ADMCON2', 'ADMCON3', 'ADMCON4', 'ADMCON5',\n",
        "      #  'ADMCON6', 'ADMCON7', 'ADMCON8', 'ADMCON9', 'XAPPLCN', 'APPLCN',\n",
        "      #  'XAPPLCNM', 'APPLCNM', 'XAPPLCNW', 'APPLCNW', 'XADMSSN', 'ADMSSN',\n",
        "      #  'XADMSSNM', 'ADMSSNM', 'XADMSSNW', 'ADMSSNW', 'XENRLT', 'ENRLT',\n",
        "      #  'XENRLM', 'ENRLM', 'XENRLW', 'ENRLW', 'XENRLFT', 'ENRLFT', 'XENRLFTM',\n",
        "      #  'ENRLFTM', 'XENRLFTW', 'ENRLFTW', 'XENRLPT', 'ENRLPT', 'XENRLPTM',\n",
        "      #  'ENRLPTM', 'XENRLPTW', 'ENRLPTW', 'XSATNUM', 'SATNUM', 'XSATPCT',\n",
        "      #  'SATPCT', 'XACTNUM', 'ACTNUM', 'XACTPCT', 'ACTPCT', 'XSATVR25',\n",
        "      #  'SATVR25', 'XSATVR75', 'SATVR75', 'XSATMT25', 'SATMT25', 'XSATMT75',\n",
        "      #  'SATMT75', 'XACTCM25', 'ACTCM25', 'XACTCM75', 'ACTCM75', 'XACTEN25',\n",
        "      #  'ACTEN25', 'XACTEN75', 'ACTEN75', 'XACTMT25', 'ACTMT25', 'XACTMT75',\n",
        "      #  'ACTMT75']\n",
        "\n",
        "# Taking a look at only the first ten variables which specifically look at Admission Policies\n",
        "#  without looking at the numbers of admitted students or  Standardized Tests Policies\n",
        "\n",
        "df_adm = df[['UNITID', 'ADMCON1', 'ADMCON2', 'ADMCON3', 'ADMCON4', 'ADMCON5',\n",
        "       'ADMCON6', 'ADMCON7', 'ADMCON8', 'ADMCON9']].reset_index(drop=True)\n",
        "df_adm"
      ],
      "metadata": {
        "colab": {
          "base_uri": "https://localhost:8080/",
          "height": 424
        },
        "id": "Rv8AD1pIKqwp",
        "outputId": "8ab7f59e-a71f-41c0-fb49-c56d06aa1f79"
      },
      "execution_count": 8,
      "outputs": [
        {
          "output_type": "execute_result",
          "data": {
            "text/html": [
              "\n",
              "  <div id=\"df-d41d3676-9c1a-4abf-9988-40cc344f6046\">\n",
              "    <div class=\"colab-df-container\">\n",
              "      <div>\n",
              "<style scoped>\n",
              "    .dataframe tbody tr th:only-of-type {\n",
              "        vertical-align: middle;\n",
              "    }\n",
              "\n",
              "    .dataframe tbody tr th {\n",
              "        vertical-align: top;\n",
              "    }\n",
              "\n",
              "    .dataframe thead th {\n",
              "        text-align: right;\n",
              "    }\n",
              "</style>\n",
              "<table border=\"1\" class=\"dataframe\">\n",
              "  <thead>\n",
              "    <tr style=\"text-align: right;\">\n",
              "      <th></th>\n",
              "      <th>UNITID</th>\n",
              "      <th>ADMCON1</th>\n",
              "      <th>ADMCON2</th>\n",
              "      <th>ADMCON3</th>\n",
              "      <th>ADMCON4</th>\n",
              "      <th>ADMCON5</th>\n",
              "      <th>ADMCON6</th>\n",
              "      <th>ADMCON7</th>\n",
              "      <th>ADMCON8</th>\n",
              "      <th>ADMCON9</th>\n",
              "    </tr>\n",
              "  </thead>\n",
              "  <tbody>\n",
              "    <tr>\n",
              "      <th>0</th>\n",
              "      <td>100654</td>\n",
              "      <td>1</td>\n",
              "      <td>2</td>\n",
              "      <td>1</td>\n",
              "      <td>2</td>\n",
              "      <td>3</td>\n",
              "      <td>2</td>\n",
              "      <td>1</td>\n",
              "      <td>1</td>\n",
              "      <td>3</td>\n",
              "    </tr>\n",
              "    <tr>\n",
              "      <th>1</th>\n",
              "      <td>100663</td>\n",
              "      <td>1</td>\n",
              "      <td>3</td>\n",
              "      <td>1</td>\n",
              "      <td>1</td>\n",
              "      <td>3</td>\n",
              "      <td>3</td>\n",
              "      <td>1</td>\n",
              "      <td>3</td>\n",
              "      <td>3</td>\n",
              "    </tr>\n",
              "    <tr>\n",
              "      <th>2</th>\n",
              "      <td>100706</td>\n",
              "      <td>1</td>\n",
              "      <td>2</td>\n",
              "      <td>1</td>\n",
              "      <td>3</td>\n",
              "      <td>3</td>\n",
              "      <td>2</td>\n",
              "      <td>1</td>\n",
              "      <td>1</td>\n",
              "      <td>3</td>\n",
              "    </tr>\n",
              "    <tr>\n",
              "      <th>3</th>\n",
              "      <td>100724</td>\n",
              "      <td>1</td>\n",
              "      <td>3</td>\n",
              "      <td>2</td>\n",
              "      <td>3</td>\n",
              "      <td>3</td>\n",
              "      <td>3</td>\n",
              "      <td>1</td>\n",
              "      <td>1</td>\n",
              "      <td>3</td>\n",
              "    </tr>\n",
              "    <tr>\n",
              "      <th>4</th>\n",
              "      <td>100751</td>\n",
              "      <td>1</td>\n",
              "      <td>2</td>\n",
              "      <td>1</td>\n",
              "      <td>1</td>\n",
              "      <td>3</td>\n",
              "      <td>3</td>\n",
              "      <td>1</td>\n",
              "      <td>1</td>\n",
              "      <td>3</td>\n",
              "    </tr>\n",
              "    <tr>\n",
              "      <th>...</th>\n",
              "      <td>...</td>\n",
              "      <td>...</td>\n",
              "      <td>...</td>\n",
              "      <td>...</td>\n",
              "      <td>...</td>\n",
              "      <td>...</td>\n",
              "      <td>...</td>\n",
              "      <td>...</td>\n",
              "      <td>...</td>\n",
              "      <td>...</td>\n",
              "    </tr>\n",
              "    <tr>\n",
              "      <th>1984</th>\n",
              "      <td>495439</td>\n",
              "      <td>1</td>\n",
              "      <td>3</td>\n",
              "      <td>1</td>\n",
              "      <td>3</td>\n",
              "      <td>3</td>\n",
              "      <td>3</td>\n",
              "      <td>3</td>\n",
              "      <td>3</td>\n",
              "      <td>1</td>\n",
              "    </tr>\n",
              "    <tr>\n",
              "      <th>1985</th>\n",
              "      <td>495448</td>\n",
              "      <td>1</td>\n",
              "      <td>3</td>\n",
              "      <td>1</td>\n",
              "      <td>3</td>\n",
              "      <td>3</td>\n",
              "      <td>3</td>\n",
              "      <td>3</td>\n",
              "      <td>3</td>\n",
              "      <td>1</td>\n",
              "    </tr>\n",
              "    <tr>\n",
              "      <th>1986</th>\n",
              "      <td>495457</td>\n",
              "      <td>1</td>\n",
              "      <td>3</td>\n",
              "      <td>1</td>\n",
              "      <td>3</td>\n",
              "      <td>3</td>\n",
              "      <td>3</td>\n",
              "      <td>3</td>\n",
              "      <td>3</td>\n",
              "      <td>1</td>\n",
              "    </tr>\n",
              "    <tr>\n",
              "      <th>1987</th>\n",
              "      <td>495767</td>\n",
              "      <td>1</td>\n",
              "      <td>3</td>\n",
              "      <td>1</td>\n",
              "      <td>2</td>\n",
              "      <td>3</td>\n",
              "      <td>3</td>\n",
              "      <td>1</td>\n",
              "      <td>1</td>\n",
              "      <td>3</td>\n",
              "    </tr>\n",
              "    <tr>\n",
              "      <th>1988</th>\n",
              "      <td>495916</td>\n",
              "      <td>1</td>\n",
              "      <td>3</td>\n",
              "      <td>1</td>\n",
              "      <td>3</td>\n",
              "      <td>1</td>\n",
              "      <td>3</td>\n",
              "      <td>1</td>\n",
              "      <td>1</td>\n",
              "      <td>1</td>\n",
              "    </tr>\n",
              "  </tbody>\n",
              "</table>\n",
              "<p>1989 rows × 10 columns</p>\n",
              "</div>\n",
              "      <button class=\"colab-df-convert\" onclick=\"convertToInteractive('df-d41d3676-9c1a-4abf-9988-40cc344f6046')\"\n",
              "              title=\"Convert this dataframe to an interactive table.\"\n",
              "              style=\"display:none;\">\n",
              "        \n",
              "  <svg xmlns=\"http://www.w3.org/2000/svg\" height=\"24px\"viewBox=\"0 0 24 24\"\n",
              "       width=\"24px\">\n",
              "    <path d=\"M0 0h24v24H0V0z\" fill=\"none\"/>\n",
              "    <path d=\"M18.56 5.44l.94 2.06.94-2.06 2.06-.94-2.06-.94-.94-2.06-.94 2.06-2.06.94zm-11 1L8.5 8.5l.94-2.06 2.06-.94-2.06-.94L8.5 2.5l-.94 2.06-2.06.94zm10 10l.94 2.06.94-2.06 2.06-.94-2.06-.94-.94-2.06-.94 2.06-2.06.94z\"/><path d=\"M17.41 7.96l-1.37-1.37c-.4-.4-.92-.59-1.43-.59-.52 0-1.04.2-1.43.59L10.3 9.45l-7.72 7.72c-.78.78-.78 2.05 0 2.83L4 21.41c.39.39.9.59 1.41.59.51 0 1.02-.2 1.41-.59l7.78-7.78 2.81-2.81c.8-.78.8-2.07 0-2.86zM5.41 20L4 18.59l7.72-7.72 1.47 1.35L5.41 20z\"/>\n",
              "  </svg>\n",
              "      </button>\n",
              "      \n",
              "  <style>\n",
              "    .colab-df-container {\n",
              "      display:flex;\n",
              "      flex-wrap:wrap;\n",
              "      gap: 12px;\n",
              "    }\n",
              "\n",
              "    .colab-df-convert {\n",
              "      background-color: #E8F0FE;\n",
              "      border: none;\n",
              "      border-radius: 50%;\n",
              "      cursor: pointer;\n",
              "      display: none;\n",
              "      fill: #1967D2;\n",
              "      height: 32px;\n",
              "      padding: 0 0 0 0;\n",
              "      width: 32px;\n",
              "    }\n",
              "\n",
              "    .colab-df-convert:hover {\n",
              "      background-color: #E2EBFA;\n",
              "      box-shadow: 0px 1px 2px rgba(60, 64, 67, 0.3), 0px 1px 3px 1px rgba(60, 64, 67, 0.15);\n",
              "      fill: #174EA6;\n",
              "    }\n",
              "\n",
              "    [theme=dark] .colab-df-convert {\n",
              "      background-color: #3B4455;\n",
              "      fill: #D2E3FC;\n",
              "    }\n",
              "\n",
              "    [theme=dark] .colab-df-convert:hover {\n",
              "      background-color: #434B5C;\n",
              "      box-shadow: 0px 1px 3px 1px rgba(0, 0, 0, 0.15);\n",
              "      filter: drop-shadow(0px 1px 2px rgba(0, 0, 0, 0.3));\n",
              "      fill: #FFFFFF;\n",
              "    }\n",
              "  </style>\n",
              "\n",
              "      <script>\n",
              "        const buttonEl =\n",
              "          document.querySelector('#df-d41d3676-9c1a-4abf-9988-40cc344f6046 button.colab-df-convert');\n",
              "        buttonEl.style.display =\n",
              "          google.colab.kernel.accessAllowed ? 'block' : 'none';\n",
              "\n",
              "        async function convertToInteractive(key) {\n",
              "          const element = document.querySelector('#df-d41d3676-9c1a-4abf-9988-40cc344f6046');\n",
              "          const dataTable =\n",
              "            await google.colab.kernel.invokeFunction('convertToInteractive',\n",
              "                                                     [key], {});\n",
              "          if (!dataTable) return;\n",
              "\n",
              "          const docLinkHtml = 'Like what you see? Visit the ' +\n",
              "            '<a target=\"_blank\" href=https://colab.research.google.com/notebooks/data_table.ipynb>data table notebook</a>'\n",
              "            + ' to learn more about interactive tables.';\n",
              "          element.innerHTML = '';\n",
              "          dataTable['output_type'] = 'display_data';\n",
              "          await google.colab.output.renderOutput(dataTable, element);\n",
              "          const docLink = document.createElement('div');\n",
              "          docLink.innerHTML = docLinkHtml;\n",
              "          element.appendChild(docLink);\n",
              "        }\n",
              "      </script>\n",
              "    </div>\n",
              "  </div>\n",
              "  "
            ],
            "text/plain": [
              "      UNITID  ADMCON1  ADMCON2  ADMCON3  ADMCON4  ADMCON5  ADMCON6  ADMCON7  \\\n",
              "0     100654        1        2        1        2        3        2        1   \n",
              "1     100663        1        3        1        1        3        3        1   \n",
              "2     100706        1        2        1        3        3        2        1   \n",
              "3     100724        1        3        2        3        3        3        1   \n",
              "4     100751        1        2        1        1        3        3        1   \n",
              "...      ...      ...      ...      ...      ...      ...      ...      ...   \n",
              "1984  495439        1        3        1        3        3        3        3   \n",
              "1985  495448        1        3        1        3        3        3        3   \n",
              "1986  495457        1        3        1        3        3        3        3   \n",
              "1987  495767        1        3        1        2        3        3        1   \n",
              "1988  495916        1        3        1        3        1        3        1   \n",
              "\n",
              "      ADMCON8  ADMCON9  \n",
              "0           1        3  \n",
              "1           3        3  \n",
              "2           1        3  \n",
              "3           1        3  \n",
              "4           1        3  \n",
              "...       ...      ...  \n",
              "1984        3        1  \n",
              "1985        3        1  \n",
              "1986        3        1  \n",
              "1987        1        3  \n",
              "1988        1        1  \n",
              "\n",
              "[1989 rows x 10 columns]"
            ]
          },
          "metadata": {},
          "execution_count": 8
        }
      ]
    },
    {
      "cell_type": "markdown",
      "source": [
        "### Returning to the whole DF, let's adopt the same approach we did previously and check how many values have not been directy reported by the institution. \n",
        "\n",
        "### This check will allow us to see how much data we might lose if we ONLY maintain direclt reported data. "
      ],
      "metadata": {
        "id": "fpNE5tv7O53s"
      }
    },
    {
      "cell_type": "code",
      "source": [
        "# df['XENRLT'].unique()\n",
        "\n",
        "# # # Code Value\tValueLabel\n",
        "\n",
        "# # A\tNot applicable - NO \n",
        "\n",
        "# # B\tInstitution left item blank - NO \n",
        "\n",
        "# # C\tAnalyst corrected reported value - YES \n",
        "\n",
        "# # D\tDo not know - NO\n",
        "\n",
        "# # G\tData generated from other data values - NO \n",
        "# # H\tValue not derived - data not usable - NO\n",
        "\n",
        "# # J\tLogical imputation - YES\n",
        "# # K\tRatio adjustment - YES\n",
        "\n",
        "# # L\tImputed using the Group Median procedure - NO \n",
        "\n",
        "# # N\tImputed using Nearest Neighbor procedure - NO\n",
        "# # P\tImputed using Carry Forward procedure - NO \n",
        "\n",
        "# # R\tReported - YES\n",
        "# # Z\tImplied zero - YES \n"
      ],
      "metadata": {
        "id": "sREgzGJXNzSr"
      },
      "execution_count": 9,
      "outputs": []
    },
    {
      "cell_type": "code",
      "source": [
        "# df['XENRLT'].value_counts()"
      ],
      "metadata": {
        "id": "IHzHeDtlcMuh"
      },
      "execution_count": 10,
      "outputs": []
    },
    {
      "cell_type": "code",
      "source": [
        "df.shape"
      ],
      "metadata": {
        "colab": {
          "base_uri": "https://localhost:8080/"
        },
        "id": "pc66lgR1PoUI",
        "outputId": "0aa49325-faa2-4851-b22c-494d1fa196a7"
      },
      "execution_count": 11,
      "outputs": [
        {
          "output_type": "execute_result",
          "data": {
            "text/plain": [
              "(1989, 68)"
            ]
          },
          "metadata": {},
          "execution_count": 11
        }
      ]
    },
    {
      "cell_type": "markdown",
      "source": [
        "### First, let's slice out right away any institutions that have not made the short-listed  group from our first round of data cleaning - \n",
        "\n",
        "### This will allow us to focus on only the institutions we ultimately will be working with \n"
      ],
      "metadata": {
        "id": "5fII6Li1dQG8"
      }
    },
    {
      "cell_type": "code",
      "source": [
        "# Importing the list of institutions' names and UNITIDs\n",
        "\n",
        "df_unitid=read_data('/content/gdrive/Shareddrives/DATA_606_Capstone/Merged_data/unitid_name.csv').reset_index(drop=True)\n",
        "df_unitid"
      ],
      "metadata": {
        "colab": {
          "base_uri": "https://localhost:8080/",
          "height": 441
        },
        "id": "dN9QW7UZdZPD",
        "outputId": "09b0bba7-8521-47a2-b9fb-1b12a595c235"
      },
      "execution_count": 12,
      "outputs": [
        {
          "output_type": "stream",
          "name": "stdout",
          "text": [
            "0.250335693359375 seconds\n"
          ]
        },
        {
          "output_type": "execute_result",
          "data": {
            "text/html": [
              "\n",
              "  <div id=\"df-1295d847-ac42-4c86-aee4-1243624f9483\">\n",
              "    <div class=\"colab-df-container\">\n",
              "      <div>\n",
              "<style scoped>\n",
              "    .dataframe tbody tr th:only-of-type {\n",
              "        vertical-align: middle;\n",
              "    }\n",
              "\n",
              "    .dataframe tbody tr th {\n",
              "        vertical-align: top;\n",
              "    }\n",
              "\n",
              "    .dataframe thead th {\n",
              "        text-align: right;\n",
              "    }\n",
              "</style>\n",
              "<table border=\"1\" class=\"dataframe\">\n",
              "  <thead>\n",
              "    <tr style=\"text-align: right;\">\n",
              "      <th></th>\n",
              "      <th>Unnamed: 0</th>\n",
              "      <th>UNITID</th>\n",
              "      <th>INSTNM</th>\n",
              "    </tr>\n",
              "  </thead>\n",
              "  <tbody>\n",
              "    <tr>\n",
              "      <th>0</th>\n",
              "      <td>0</td>\n",
              "      <td>100654</td>\n",
              "      <td>Alabama A &amp; M University</td>\n",
              "    </tr>\n",
              "    <tr>\n",
              "      <th>1</th>\n",
              "      <td>1</td>\n",
              "      <td>100663</td>\n",
              "      <td>University of Alabama at Birmingham</td>\n",
              "    </tr>\n",
              "    <tr>\n",
              "      <th>2</th>\n",
              "      <td>2</td>\n",
              "      <td>100690</td>\n",
              "      <td>Amridge University</td>\n",
              "    </tr>\n",
              "    <tr>\n",
              "      <th>3</th>\n",
              "      <td>3</td>\n",
              "      <td>100706</td>\n",
              "      <td>University of Alabama in Huntsville</td>\n",
              "    </tr>\n",
              "    <tr>\n",
              "      <th>4</th>\n",
              "      <td>4</td>\n",
              "      <td>100724</td>\n",
              "      <td>Alabama State University</td>\n",
              "    </tr>\n",
              "    <tr>\n",
              "      <th>...</th>\n",
              "      <td>...</td>\n",
              "      <td>...</td>\n",
              "      <td>...</td>\n",
              "    </tr>\n",
              "    <tr>\n",
              "      <th>3742</th>\n",
              "      <td>6310</td>\n",
              "      <td>494755</td>\n",
              "      <td>West Virginia Junior College-United Career Ins...</td>\n",
              "    </tr>\n",
              "    <tr>\n",
              "      <th>3743</th>\n",
              "      <td>6312</td>\n",
              "      <td>494807</td>\n",
              "      <td>Ponce Health Sciences University-East</td>\n",
              "    </tr>\n",
              "    <tr>\n",
              "      <th>3744</th>\n",
              "      <td>6314</td>\n",
              "      <td>494843</td>\n",
              "      <td>Fortis College-Landover</td>\n",
              "    </tr>\n",
              "    <tr>\n",
              "      <th>3745</th>\n",
              "      <td>6315</td>\n",
              "      <td>494852</td>\n",
              "      <td>Stautzenberger College-Rockford Career College</td>\n",
              "    </tr>\n",
              "    <tr>\n",
              "      <th>3746</th>\n",
              "      <td>6316</td>\n",
              "      <td>494898</td>\n",
              "      <td>WellSpring School of Allied Health-Wichita</td>\n",
              "    </tr>\n",
              "  </tbody>\n",
              "</table>\n",
              "<p>3747 rows × 3 columns</p>\n",
              "</div>\n",
              "      <button class=\"colab-df-convert\" onclick=\"convertToInteractive('df-1295d847-ac42-4c86-aee4-1243624f9483')\"\n",
              "              title=\"Convert this dataframe to an interactive table.\"\n",
              "              style=\"display:none;\">\n",
              "        \n",
              "  <svg xmlns=\"http://www.w3.org/2000/svg\" height=\"24px\"viewBox=\"0 0 24 24\"\n",
              "       width=\"24px\">\n",
              "    <path d=\"M0 0h24v24H0V0z\" fill=\"none\"/>\n",
              "    <path d=\"M18.56 5.44l.94 2.06.94-2.06 2.06-.94-2.06-.94-.94-2.06-.94 2.06-2.06.94zm-11 1L8.5 8.5l.94-2.06 2.06-.94-2.06-.94L8.5 2.5l-.94 2.06-2.06.94zm10 10l.94 2.06.94-2.06 2.06-.94-2.06-.94-.94-2.06-.94 2.06-2.06.94z\"/><path d=\"M17.41 7.96l-1.37-1.37c-.4-.4-.92-.59-1.43-.59-.52 0-1.04.2-1.43.59L10.3 9.45l-7.72 7.72c-.78.78-.78 2.05 0 2.83L4 21.41c.39.39.9.59 1.41.59.51 0 1.02-.2 1.41-.59l7.78-7.78 2.81-2.81c.8-.78.8-2.07 0-2.86zM5.41 20L4 18.59l7.72-7.72 1.47 1.35L5.41 20z\"/>\n",
              "  </svg>\n",
              "      </button>\n",
              "      \n",
              "  <style>\n",
              "    .colab-df-container {\n",
              "      display:flex;\n",
              "      flex-wrap:wrap;\n",
              "      gap: 12px;\n",
              "    }\n",
              "\n",
              "    .colab-df-convert {\n",
              "      background-color: #E8F0FE;\n",
              "      border: none;\n",
              "      border-radius: 50%;\n",
              "      cursor: pointer;\n",
              "      display: none;\n",
              "      fill: #1967D2;\n",
              "      height: 32px;\n",
              "      padding: 0 0 0 0;\n",
              "      width: 32px;\n",
              "    }\n",
              "\n",
              "    .colab-df-convert:hover {\n",
              "      background-color: #E2EBFA;\n",
              "      box-shadow: 0px 1px 2px rgba(60, 64, 67, 0.3), 0px 1px 3px 1px rgba(60, 64, 67, 0.15);\n",
              "      fill: #174EA6;\n",
              "    }\n",
              "\n",
              "    [theme=dark] .colab-df-convert {\n",
              "      background-color: #3B4455;\n",
              "      fill: #D2E3FC;\n",
              "    }\n",
              "\n",
              "    [theme=dark] .colab-df-convert:hover {\n",
              "      background-color: #434B5C;\n",
              "      box-shadow: 0px 1px 3px 1px rgba(0, 0, 0, 0.15);\n",
              "      filter: drop-shadow(0px 1px 2px rgba(0, 0, 0, 0.3));\n",
              "      fill: #FFFFFF;\n",
              "    }\n",
              "  </style>\n",
              "\n",
              "      <script>\n",
              "        const buttonEl =\n",
              "          document.querySelector('#df-1295d847-ac42-4c86-aee4-1243624f9483 button.colab-df-convert');\n",
              "        buttonEl.style.display =\n",
              "          google.colab.kernel.accessAllowed ? 'block' : 'none';\n",
              "\n",
              "        async function convertToInteractive(key) {\n",
              "          const element = document.querySelector('#df-1295d847-ac42-4c86-aee4-1243624f9483');\n",
              "          const dataTable =\n",
              "            await google.colab.kernel.invokeFunction('convertToInteractive',\n",
              "                                                     [key], {});\n",
              "          if (!dataTable) return;\n",
              "\n",
              "          const docLinkHtml = 'Like what you see? Visit the ' +\n",
              "            '<a target=\"_blank\" href=https://colab.research.google.com/notebooks/data_table.ipynb>data table notebook</a>'\n",
              "            + ' to learn more about interactive tables.';\n",
              "          element.innerHTML = '';\n",
              "          dataTable['output_type'] = 'display_data';\n",
              "          await google.colab.output.renderOutput(dataTable, element);\n",
              "          const docLink = document.createElement('div');\n",
              "          docLink.innerHTML = docLinkHtml;\n",
              "          element.appendChild(docLink);\n",
              "        }\n",
              "      </script>\n",
              "    </div>\n",
              "  </div>\n",
              "  "
            ],
            "text/plain": [
              "      Unnamed: 0  UNITID                                             INSTNM\n",
              "0              0  100654                           Alabama A & M University\n",
              "1              1  100663                University of Alabama at Birmingham\n",
              "2              2  100690                                 Amridge University\n",
              "3              3  100706                University of Alabama in Huntsville\n",
              "4              4  100724                           Alabama State University\n",
              "...          ...     ...                                                ...\n",
              "3742        6310  494755  West Virginia Junior College-United Career Ins...\n",
              "3743        6312  494807              Ponce Health Sciences University-East\n",
              "3744        6314  494843                            Fortis College-Landover\n",
              "3745        6315  494852     Stautzenberger College-Rockford Career College\n",
              "3746        6316  494898         WellSpring School of Allied Health-Wichita\n",
              "\n",
              "[3747 rows x 3 columns]"
            ]
          },
          "metadata": {},
          "execution_count": 12
        }
      ]
    },
    {
      "cell_type": "code",
      "source": [
        "# df_unitid.columns"
      ],
      "metadata": {
        "id": "PZXE-uTHfBnq"
      },
      "execution_count": 13,
      "outputs": []
    },
    {
      "cell_type": "code",
      "source": [
        "df_unitid.drop(['Unnamed: 0'],axis =1, inplace=True)"
      ],
      "metadata": {
        "id": "IgSlK0wZe2c0"
      },
      "execution_count": 14,
      "outputs": []
    },
    {
      "cell_type": "markdown",
      "source": [
        "### Merging the list of Institutions here with the short-listed ones for which we have the other data, we see that we loose a few Institutions.\n",
        "### Our list goes from  1989 to 1852 (minus 137)\n",
        "(These are ONLY the institutions not adopting an open enrollment policy)"
      ],
      "metadata": {
        "id": "ZrNalhB1gcs8"
      }
    },
    {
      "cell_type": "code",
      "source": [
        "df_check = pd.merge(df, df_unitid, left_on='UNITID', right_on='UNITID')\n",
        "df_check.shape"
      ],
      "metadata": {
        "colab": {
          "base_uri": "https://localhost:8080/"
        },
        "id": "4Nscn2GUfZ_2",
        "outputId": "d43a459d-5132-4f0d-ef01-4b4a9eb25999"
      },
      "execution_count": 15,
      "outputs": [
        {
          "output_type": "execute_result",
          "data": {
            "text/plain": [
              "(1852, 69)"
            ]
          },
          "metadata": {},
          "execution_count": 15
        }
      ]
    },
    {
      "cell_type": "markdown",
      "source": [
        "### Now we need to clean the remaining data "
      ],
      "metadata": {
        "id": "hH8T5knmYaiP"
      }
    },
    {
      "cell_type": "code",
      "source": [
        "df_check.info()"
      ],
      "metadata": {
        "colab": {
          "base_uri": "https://localhost:8080/"
        },
        "id": "ZwMTJVtUj0nE",
        "outputId": "6272f3b6-ba30-4cc5-9626-e5a1fae90524"
      },
      "execution_count": 16,
      "outputs": [
        {
          "output_type": "stream",
          "name": "stdout",
          "text": [
            "<class 'pandas.core.frame.DataFrame'>\n",
            "Int64Index: 1852 entries, 0 to 1851\n",
            "Data columns (total 69 columns):\n",
            " #   Column    Non-Null Count  Dtype  \n",
            "---  ------    --------------  -----  \n",
            " 0   UNITID    1852 non-null   int64  \n",
            " 1   ADMCON1   1852 non-null   int64  \n",
            " 2   ADMCON2   1852 non-null   int64  \n",
            " 3   ADMCON3   1852 non-null   int64  \n",
            " 4   ADMCON4   1852 non-null   int64  \n",
            " 5   ADMCON5   1852 non-null   int64  \n",
            " 6   ADMCON6   1852 non-null   int64  \n",
            " 7   ADMCON7   1852 non-null   int64  \n",
            " 8   ADMCON8   1852 non-null   int64  \n",
            " 9   ADMCON9   1852 non-null   int64  \n",
            " 10  XAPPLCN   1852 non-null   object \n",
            " 11  APPLCN    1852 non-null   int64  \n",
            " 12  XAPPLCNM  1852 non-null   object \n",
            " 13  APPLCNM   1852 non-null   int64  \n",
            " 14  XAPPLCNW  1852 non-null   object \n",
            " 15  APPLCNW   1852 non-null   int64  \n",
            " 16  XADMSSN   1852 non-null   object \n",
            " 17  ADMSSN    1840 non-null   float64\n",
            " 18  XADMSSNM  1852 non-null   object \n",
            " 19  ADMSSNM   1790 non-null   float64\n",
            " 20  XADMSSNW  1852 non-null   object \n",
            " 21  ADMSSNW   1761 non-null   float64\n",
            " 22  XENRLT    1852 non-null   object \n",
            " 23  ENRLT     1838 non-null   float64\n",
            " 24  XENRLM    1852 non-null   object \n",
            " 25  ENRLM     1779 non-null   float64\n",
            " 26  XENRLW    1852 non-null   object \n",
            " 27  ENRLW     1752 non-null   float64\n",
            " 28  XENRLFT   1852 non-null   object \n",
            " 29  ENRLFT    1829 non-null   float64\n",
            " 30  XENRLFTM  1852 non-null   object \n",
            " 31  ENRLFTM   1760 non-null   float64\n",
            " 32  XENRLFTW  1852 non-null   object \n",
            " 33  ENRLFTW   1738 non-null   float64\n",
            " 34  XENRLPT   1852 non-null   object \n",
            " 35  ENRLPT    1461 non-null   float64\n",
            " 36  XENRLPTM  1852 non-null   object \n",
            " 37  ENRLPTM   1413 non-null   float64\n",
            " 38  XENRLPTW  1852 non-null   object \n",
            " 39  ENRLPTW   1451 non-null   float64\n",
            " 40  XSATNUM   1852 non-null   object \n",
            " 41  SATNUM    1150 non-null   float64\n",
            " 42  XSATPCT   1852 non-null   object \n",
            " 43  SATPCT    1151 non-null   float64\n",
            " 44  XACTNUM   1852 non-null   object \n",
            " 45  ACTNUM    1150 non-null   float64\n",
            " 46  XACTPCT   1852 non-null   object \n",
            " 47  ACTPCT    1150 non-null   float64\n",
            " 48  XSATVR25  1852 non-null   object \n",
            " 49  SATVR25   1081 non-null   float64\n",
            " 50  XSATVR75  1852 non-null   object \n",
            " 51  SATVR75   1081 non-null   float64\n",
            " 52  XSATMT25  1852 non-null   object \n",
            " 53  SATMT25   1081 non-null   float64\n",
            " 54  XSATMT75  1852 non-null   object \n",
            " 55  SATMT75   1081 non-null   float64\n",
            " 56  XACTCM25  1852 non-null   object \n",
            " 57  ACTCM25   1112 non-null   float64\n",
            " 58  XACTCM75  1852 non-null   object \n",
            " 59  ACTCM75   1112 non-null   float64\n",
            " 60  XACTEN25  1852 non-null   object \n",
            " 61  ACTEN25   1048 non-null   float64\n",
            " 62  XACTEN75  1852 non-null   object \n",
            " 63  ACTEN75   1048 non-null   float64\n",
            " 64  XACTMT25  1852 non-null   object \n",
            " 65  ACTMT25   1049 non-null   float64\n",
            " 66  XACTMT75  1852 non-null   object \n",
            " 67  ACTMT75   1049 non-null   float64\n",
            " 68  INSTNM    1852 non-null   object \n",
            "dtypes: float64(26), int64(13), object(30)\n",
            "memory usage: 1012.8+ KB\n"
          ]
        }
      ]
    },
    {
      "cell_type": "markdown",
      "source": [
        "### Let's check first if any of these institutions have reported no Applications for this Academic year \n",
        "\n",
        "### This would seem strange as the Institutions should be closing but there may be a delay between applications received and the institution clsoign which could explain the discrepancy.\n",
        "\n",
        "### There are however 12 institutions in this list in this situation "
      ],
      "metadata": {
        "id": "_le-ZQL6lbSb"
      }
    },
    {
      "cell_type": "code",
      "source": [
        "# All institutions in the df have reported the data themselves for Application Numbers\n",
        "df_check['XAPPLCN'].value_counts()"
      ],
      "metadata": {
        "colab": {
          "base_uri": "https://localhost:8080/"
        },
        "id": "wVkIi1ewUUIp",
        "outputId": "d1587769-4a72-4676-a8bb-4c472e401cb3"
      },
      "execution_count": 17,
      "outputs": [
        {
          "output_type": "execute_result",
          "data": {
            "text/plain": [
              "R    1852\n",
              "Name: XAPPLCN, dtype: int64"
            ]
          },
          "metadata": {},
          "execution_count": 17
        }
      ]
    },
    {
      "cell_type": "code",
      "source": [
        "df_check['APPLCN'].nunique()"
      ],
      "metadata": {
        "colab": {
          "base_uri": "https://localhost:8080/"
        },
        "id": "4u6LKkdYUsrL",
        "outputId": "ee7a959b-f390-4d24-e0e4-8e1ba9db6b4b"
      },
      "execution_count": 18,
      "outputs": [
        {
          "output_type": "execute_result",
          "data": {
            "text/plain": [
              "1537"
            ]
          },
          "metadata": {},
          "execution_count": 18
        }
      ]
    },
    {
      "cell_type": "code",
      "source": [
        "# df_check['APPLCN'].unique()"
      ],
      "metadata": {
        "id": "fM4QFnmtVNpX"
      },
      "execution_count": 19,
      "outputs": []
    },
    {
      "cell_type": "code",
      "source": [
        "df_check['APPLCN'].value_counts()"
      ],
      "metadata": {
        "colab": {
          "base_uri": "https://localhost:8080/"
        },
        "id": "7mOxk1F2VNnA",
        "outputId": "12bfe21b-8e95-43da-e610-3f072a77ac04"
      },
      "execution_count": 20,
      "outputs": [
        {
          "output_type": "execute_result",
          "data": {
            "text/plain": [
              "0        12\n",
              "3        12\n",
              "18        9\n",
              "1         9\n",
              "4         8\n",
              "         ..\n",
              "10934     1\n",
              "785       1\n",
              "20075     1\n",
              "2677      1\n",
              "85        1\n",
              "Name: APPLCN, Length: 1537, dtype: int64"
            ]
          },
          "metadata": {},
          "execution_count": 20
        }
      ]
    },
    {
      "cell_type": "code",
      "source": [
        "# df_check['APPLCN'].isnull().sum()"
      ],
      "metadata": {
        "id": "dfQsnoBGVCzy"
      },
      "execution_count": 21,
      "outputs": []
    },
    {
      "cell_type": "code",
      "source": [
        "# df_check['APPLCN'].isna().sum()"
      ],
      "metadata": {
        "id": "LT7YaesBU1Kf"
      },
      "execution_count": 22,
      "outputs": []
    },
    {
      "cell_type": "markdown",
      "source": [
        "### None of the Institutions in the df have null Application entries. \n",
        "\n",
        "### When we check for the respective Men and Women columns too, we note that there are a number of Institutions who appear to have received only Men or Women Applicants (14 and 63 respectively)\n",
        "\n",
        "### This being the case we can link this information with the following columns indicating Men and Women Admissions and Enrollment"
      ],
      "metadata": {
        "id": "egts2t_zVHpF"
      }
    },
    {
      "cell_type": "code",
      "source": [
        "df_check['XAPPLCNM'].value_counts()"
      ],
      "metadata": {
        "colab": {
          "base_uri": "https://localhost:8080/"
        },
        "id": "Oqh7yLdCVk1B",
        "outputId": "85eeae56-3c80-43cd-b5ad-617333add19f"
      },
      "execution_count": 23,
      "outputs": [
        {
          "output_type": "execute_result",
          "data": {
            "text/plain": [
              "R    1838\n",
              "Z      14\n",
              "Name: XAPPLCNM, dtype: int64"
            ]
          },
          "metadata": {},
          "execution_count": 23
        }
      ]
    },
    {
      "cell_type": "code",
      "source": [
        "df_check['XAPPLCNW'].value_counts()"
      ],
      "metadata": {
        "colab": {
          "base_uri": "https://localhost:8080/"
        },
        "id": "xZIvsUkQVr6X",
        "outputId": "2a2c7827-c317-4783-b1d3-e5a6997ba55d"
      },
      "execution_count": 24,
      "outputs": [
        {
          "output_type": "execute_result",
          "data": {
            "text/plain": [
              "R    1789\n",
              "Z      63\n",
              "Name: XAPPLCNW, dtype: int64"
            ]
          },
          "metadata": {},
          "execution_count": 24
        }
      ]
    },
    {
      "cell_type": "code",
      "source": [
        "#  ['UNITID', 'ADMCON1', 'ADMCON2', 'ADMCON3', 'ADMCON4', 'ADMCON5',\n",
        "#        'ADMCON6', 'ADMCON7', 'ADMCON8', 'ADMCON9', 'XAPPLCN', 'APPLCN',\n",
        "\n",
        "#        'XAPPLCNM', 'APPLCNM', 'XAPPLCNW', 'APPLCNW', \n",
        "# 'XADMSSN', 'ADMSSN',\n",
        "#        'XADMSSNM', 'ADMSSNM', 'XADMSSNW', 'ADMSSNW', \n",
        "# 'XENRLT', 'ENRLT',\n",
        "#        'XENRLM', 'ENRLM', 'XENRLW', 'ENRLW', \n",
        "#'XENRLFT', 'ENRLFT', \n",
        "#        'XENRLFTM', 'ENRLFTM', 'XENRLFTW', 'ENRLFTW', \n",
        "# 'XENRLPT', 'ENRLPT', \n",
        "#        'XENRLPTM', 'ENRLPTM', 'XENRLPTW', 'ENRLPTW', \n",
        "\n",
        "#'XSATNUM', 'SATNUM', 'XSATPCT',\n",
        "#        'SATPCT', 'XACTNUM', 'ACTNUM', 'XACTPCT', 'ACTPCT', 'XSATVR25',\n",
        "#        'SATVR25', 'XSATVR75', 'SATVR75', 'XSATMT25', 'SATMT25', 'XSATMT75',\n",
        "#        'SATMT75', 'XACTCM25', 'ACTCM25', 'XACTCM75', 'ACTCM75', 'XACTEN25',\n",
        "#        'ACTEN25', 'XACTEN75', 'ACTEN75', 'XACTMT25', 'ACTMT25', 'XACTMT75',\n",
        "#        'ACTMT75', 'INSTNM']\n",
        "\n",
        "\n",
        "# https://stackoverflow.com/questions/46377263/pandas-fillna-method-does-not-work-inplace\n",
        "# mask = problem_data['level_type'] == 5.0\n",
        "# problem_data.loc[mask, 'points'] = problem_data.loc[mask, 'points'].fillna(value=2500)\n",
        "\n",
        "# mask = df_check.loc[lambda df_check:((df_check['APPLCN']==0)),:]\n",
        "\n",
        "# ['UNITID', 'ADMCON1', 'ADMCON2', 'ADMCON3', 'ADMCON4', 'ADMCON5',\n",
        "#        'ADMCON6', 'ADMCON7', 'ADMCON8', 'ADMCON9', 'XAPPLCN', 'APPLCN',\n",
        "\n",
        "#        'XAPPLCNM', 'APPLCNM', 'XAPPLCNW', 'APPLCNW', \n",
        "# 'XADMSSN', 'ADMSSN',\n",
        "#        'XADMSSNM', '', 'XADMSSNW', 'ADMSSNW', \n",
        "# 'XENRLT', 'ENRLT',\n",
        "#        'XENRLM', '', 'XENRLW', 'ENRLW', \n",
        "#'XENRLFT', 'ENRLFT', \n",
        "#        'XENRLFTM', '', 'XENRLFTW', 'ENRLFTW', \n",
        "# 'XENRLPT', 'ENRLPT', \n",
        "#        'XENRLPTM', '', 'XENRLPTW', 'ENRLPTW', \n",
        "\n",
        "#'XSATNUM', 'SATNUM', 'XSATPCT',\n",
        "#        'SATPCT', 'XACTNUM', 'ACTNUM', 'XACTPCT', 'ACTPCT', 'XSATVR25',\n",
        "#        'SATVR25', 'XSATVR75', 'SATVR75', 'XSATMT25', 'SATMT25', 'XSATMT75',\n",
        "#        'SATMT75', 'XACTCM25', 'ACTCM25', 'XACTCM75', 'ACTCM75', 'XACTEN25',\n",
        "#        'ACTEN25', 'XACTEN75', 'ACTEN75', 'XACTMT25', 'ACTMT25', 'XACTMT75',\n",
        "#        'ACTMT75', 'INSTNM']\n",
        "\n",
        "\n",
        "mask = df_check['XAPPLCNM'] == 'Z'\n",
        "df_check.loc[mask, ['ADMSSNM','ENRLM','ENRLFTM','ENRLPTM']] = df_check.loc[mask, ['ADMSSNM','ENRLM','ENRLFTM','ENRLPTM']].fillna(value=0)\n",
        "\n"
      ],
      "metadata": {
        "id": "MDb0Z3MDWeJi"
      },
      "execution_count": 25,
      "outputs": []
    },
    {
      "cell_type": "code",
      "source": [
        "# Cleaning the data for the Women's columns\n",
        "mask = df_check['XAPPLCNW'] == 'Z'\n",
        "df_check.loc[mask, ['ADMSSNW','ENRLW','ENRLFTW','ENRLPTW']] = df_check.loc[mask, ['ADMSSNW','ENRLW','ENRLFTW','ENRLPTW']].fillna(value=0)"
      ],
      "metadata": {
        "id": "BA76jCv5WhpR"
      },
      "execution_count": 26,
      "outputs": []
    },
    {
      "cell_type": "markdown",
      "source": [
        "### Let's take a look at the institutions reporting regarding Admissions. \n",
        "\n",
        "### we can immediately see that there are 12 institutions that reported 'Not Applicable' ('A') for the total number of Admissions recorded and one institution whose total Admissions was corrected by the analyst.\n",
        "\n",
        "### This seems unusual unless they are associated with institutions for which no applications were recorded - let's check that"
      ],
      "metadata": {
        "id": "xzn3VLkKZSaC"
      }
    },
    {
      "cell_type": "code",
      "source": [
        "df_check['XADMSSN'].value_counts()"
      ],
      "metadata": {
        "colab": {
          "base_uri": "https://localhost:8080/"
        },
        "id": "rJwQkKKoWhs2",
        "outputId": "0d8e598e-5983-4179-fdb0-89aee74d26dd"
      },
      "execution_count": 27,
      "outputs": [
        {
          "output_type": "execute_result",
          "data": {
            "text/plain": [
              "R    1839\n",
              "A      12\n",
              "C       1\n",
              "Name: XADMSSN, dtype: int64"
            ]
          },
          "metadata": {},
          "execution_count": 27
        }
      ]
    },
    {
      "cell_type": "code",
      "source": [
        "(df_check.loc[lambda df_check:((df_check['APPLCN']==0)),:]).loc[lambda df_check:((df_check['XADMSSN']=='A')),:].shape\n"
      ],
      "metadata": {
        "colab": {
          "base_uri": "https://localhost:8080/"
        },
        "id": "9ZbYwZMsWhug",
        "outputId": "bf6aa85b-90ac-4f4a-e981-e0eac2695e09"
      },
      "execution_count": 28,
      "outputs": [
        {
          "output_type": "execute_result",
          "data": {
            "text/plain": [
              "(12, 69)"
            ]
          },
          "metadata": {},
          "execution_count": 28
        }
      ]
    },
    {
      "cell_type": "markdown",
      "source": [
        "### There is overlap between the columns  which means that the \"Not Applicable\" Admissions correspond to the Institutions that  received no applications for the 2019-2020 academic year - \n",
        "\n",
        "### We can fill in these values with zeros without loosing valuable information or inserting an error into the data "
      ],
      "metadata": {
        "id": "4aUgERCtcHLe"
      }
    },
    {
      "cell_type": "code",
      "source": [
        "mask = df_check['XADMSSN'] == 'A'\n",
        "df_check.loc[mask, ['ADMSSN','ADMSSNM','ADMSSNW', 'ENRLT', 'ENRLM','ENRLW','ENRLFT',\n",
        "                    'ENRLFTM','ENRLFTW','ENRLPT', 'ENRLPTM', 'ENRLPTW'\n",
        "                    #, 'SATNUM',\n",
        "                    #'SATPCT', 'ACTNUM', 'ACTPCT', \n",
        "                    #'SATVR25', 'SATVR75', 'SATMT25', 'SATMT75','ACTCM25', 'ACTCM75', \n",
        "                    #'ACTEN25', 'ACTEN75', 'ACTMT25', 'ACTMT75'\n",
        "                    ]] = df_check.loc[mask, ['ADMSSN','ADMSSNM','ADMSSNW', 'ENRLT','ENRLM','ENRLW','ENRLFT', 'ENRLFTM','ENRLFTW','ENRLPT', 'ENRLPTM',\n",
        "                                             'ENRLPTW'\n",
        "                                             #, 'SATNUM', 'SATPCT', 'ACTNUM', 'ACTPCT','SATVR25', 'SATVR75', \n",
        "                                             # 'SATMT25', 'SATMT75','ACTCM25', 'ACTCM75', 'ACTEN25', 'ACTEN75','ACTMT25', 'ACTMT75'\n",
        "                                             ]].fillna(value=0)"
      ],
      "metadata": {
        "id": "DGEylnyrWhxP"
      },
      "execution_count": 29,
      "outputs": []
    },
    {
      "cell_type": "markdown",
      "source": [
        "### Now, let's check  the Enrollment Column as well. \n",
        "\n",
        "### There appear to be 14 Institutions (two more than we would have expected) that have a 'Not Applicable' code for the Enrollment column. \n",
        "\n",
        "### Let's check this against the other two columns"
      ],
      "metadata": {
        "id": "8RT2Tm9meBW_"
      }
    },
    {
      "cell_type": "code",
      "source": [
        "df_check['XENRLT'].value_counts()"
      ],
      "metadata": {
        "colab": {
          "base_uri": "https://localhost:8080/"
        },
        "id": "36TiEMu_Wh15",
        "outputId": "4c31462e-7e7b-4488-8211-214e13b0be07"
      },
      "execution_count": 30,
      "outputs": [
        {
          "output_type": "execute_result",
          "data": {
            "text/plain": [
              "R    1822\n",
              "C      16\n",
              "A      14\n",
              "Name: XENRLT, dtype: int64"
            ]
          },
          "metadata": {},
          "execution_count": 30
        }
      ]
    },
    {
      "cell_type": "code",
      "source": [
        "df_check['ENRLT'].isna().sum()"
      ],
      "metadata": {
        "colab": {
          "base_uri": "https://localhost:8080/"
        },
        "id": "Gm0VTAaRds-H",
        "outputId": "48170fb9-9203-47ec-f4a3-1194ccd87b90"
      },
      "execution_count": 31,
      "outputs": [
        {
          "output_type": "execute_result",
          "data": {
            "text/plain": [
              "2"
            ]
          },
          "metadata": {},
          "execution_count": 31
        }
      ]
    },
    {
      "cell_type": "code",
      "source": [
        "\n",
        "# There is overlap with the institutions that reported no applications this year \n",
        "\n",
        "(df_check.loc[lambda df_check:((df_check['APPLCN']==0)),:]).loc[lambda df_check:((df_check['XENRLT']=='A')),:].shape"
      ],
      "metadata": {
        "colab": {
          "base_uri": "https://localhost:8080/"
        },
        "id": "tcK7djxCWiiO",
        "outputId": "7b9f8c3d-46d0-473e-8e92-882c87d6f274"
      },
      "execution_count": 32,
      "outputs": [
        {
          "output_type": "execute_result",
          "data": {
            "text/plain": [
              "(12, 69)"
            ]
          },
          "metadata": {},
          "execution_count": 32
        }
      ]
    },
    {
      "cell_type": "code",
      "source": [
        "# There is overlap with the institutions that reported no admissions this year \n",
        "\n",
        "(df_check.loc[lambda df_check:((df_check['ADMSSN']==0)),:]).loc[lambda df_check:((df_check['XENRLT']=='A')),:].shape"
      ],
      "metadata": {
        "colab": {
          "base_uri": "https://localhost:8080/"
        },
        "id": "nXNPNwAZWins",
        "outputId": "a7b9ebdb-5378-432d-bcf9-284ec62f7611"
      },
      "execution_count": 33,
      "outputs": [
        {
          "output_type": "execute_result",
          "data": {
            "text/plain": [
              "(14, 69)"
            ]
          },
          "metadata": {},
          "execution_count": 33
        }
      ]
    },
    {
      "cell_type": "markdown",
      "source": [
        "### Given the overlap, we can fill in these values with zeros without loosing valuable information or inserting an error into the data "
      ],
      "metadata": {
        "id": "34gblw6AfBwm"
      }
    },
    {
      "cell_type": "code",
      "source": [
        "mask = df_check['ADMSSN'] == 0\n",
        "df_check.loc[mask, ['ENRLT', 'ENRLM','ENRLW','ENRLFT',\n",
        "                    'ENRLFTM','ENRLFTW','ENRLPT', 'ENRLPTM', 'ENRLPTW'\n",
        "                    #, 'SATNUM',\n",
        "                    #'SATPCT', 'ACTNUM', 'ACTPCT', \n",
        "                    #'SATVR25', 'SATVR75', 'SATMT25', 'SATMT75','ACTCM25', 'ACTCM75', \n",
        "                    #'ACTEN25', 'ACTEN75', 'ACTMT25', 'ACTMT75'\n",
        "                    ]] = df_check.loc[mask, ['ENRLT','ENRLM','ENRLW','ENRLFT', 'ENRLFTM','ENRLFTW','ENRLPT', 'ENRLPTM',\n",
        "                                             'ENRLPTW'\n",
        "                                             #, 'SATNUM', 'SATPCT', 'ACTNUM', 'ACTPCT','SATVR25', 'SATVR75', \n",
        "                                             # 'SATMT25', 'SATMT75','ACTCM25', 'ACTCM75', 'ACTEN25', 'ACTEN75','ACTMT25', 'ACTMT75'\n",
        "                                             ]].fillna(value=0)"
      ],
      "metadata": {
        "id": "8bpBrRWwWisv"
      },
      "execution_count": 34,
      "outputs": []
    },
    {
      "cell_type": "markdown",
      "source": [
        "### When checking for Null Values we still have 9 institutions without recorded Full Time Enrollment - let us take a closer look at these institutions"
      ],
      "metadata": {
        "id": "WnRig_8ygjxM"
      }
    },
    {
      "cell_type": "code",
      "source": [
        "df_check['ENRLFT'].isnull().sum()"
      ],
      "metadata": {
        "colab": {
          "base_uri": "https://localhost:8080/"
        },
        "id": "J5wMHHeFgTv7",
        "outputId": "ce9e2695-dbf5-494a-c01b-e22e1db065ab"
      },
      "execution_count": 35,
      "outputs": [
        {
          "output_type": "execute_result",
          "data": {
            "text/plain": [
              "9"
            ]
          },
          "metadata": {},
          "execution_count": 35
        }
      ]
    },
    {
      "cell_type": "code",
      "source": [
        "df_check['ENRLFT'].isna().sum()"
      ],
      "metadata": {
        "colab": {
          "base_uri": "https://localhost:8080/"
        },
        "id": "IIHg1LyffKIy",
        "outputId": "b5b51ac1-6c04-4b6c-973d-65a86a08c9bd"
      },
      "execution_count": 36,
      "outputs": [
        {
          "output_type": "execute_result",
          "data": {
            "text/plain": [
              "9"
            ]
          },
          "metadata": {},
          "execution_count": 36
        }
      ]
    },
    {
      "cell_type": "code",
      "source": [
        "df_check.loc[lambda df_check:((df_check['ENRLFT'].isnull())),:]"
      ],
      "metadata": {
        "colab": {
          "base_uri": "https://localhost:8080/",
          "height": 630
        },
        "id": "Gpjwrs2-fKM5",
        "outputId": "dcc793a6-c033-4dec-c781-c041a5ffa2b3"
      },
      "execution_count": 37,
      "outputs": [
        {
          "output_type": "execute_result",
          "data": {
            "text/html": [
              "\n",
              "  <div id=\"df-fe4bd819-d418-4f14-8932-2f8cbd44bd10\">\n",
              "    <div class=\"colab-df-container\">\n",
              "      <div>\n",
              "<style scoped>\n",
              "    .dataframe tbody tr th:only-of-type {\n",
              "        vertical-align: middle;\n",
              "    }\n",
              "\n",
              "    .dataframe tbody tr th {\n",
              "        vertical-align: top;\n",
              "    }\n",
              "\n",
              "    .dataframe thead th {\n",
              "        text-align: right;\n",
              "    }\n",
              "</style>\n",
              "<table border=\"1\" class=\"dataframe\">\n",
              "  <thead>\n",
              "    <tr style=\"text-align: right;\">\n",
              "      <th></th>\n",
              "      <th>UNITID</th>\n",
              "      <th>ADMCON1</th>\n",
              "      <th>ADMCON2</th>\n",
              "      <th>ADMCON3</th>\n",
              "      <th>ADMCON4</th>\n",
              "      <th>ADMCON5</th>\n",
              "      <th>ADMCON6</th>\n",
              "      <th>ADMCON7</th>\n",
              "      <th>ADMCON8</th>\n",
              "      <th>ADMCON9</th>\n",
              "      <th>...</th>\n",
              "      <th>ACTCM75</th>\n",
              "      <th>XACTEN25</th>\n",
              "      <th>ACTEN25</th>\n",
              "      <th>XACTEN75</th>\n",
              "      <th>ACTEN75</th>\n",
              "      <th>XACTMT25</th>\n",
              "      <th>ACTMT25</th>\n",
              "      <th>XACTMT75</th>\n",
              "      <th>ACTMT75</th>\n",
              "      <th>INSTNM</th>\n",
              "    </tr>\n",
              "  </thead>\n",
              "  <tbody>\n",
              "    <tr>\n",
              "      <th>64</th>\n",
              "      <td>110468</td>\n",
              "      <td>1</td>\n",
              "      <td>3</td>\n",
              "      <td>1</td>\n",
              "      <td>3</td>\n",
              "      <td>3</td>\n",
              "      <td>3</td>\n",
              "      <td>3</td>\n",
              "      <td>2</td>\n",
              "      <td>3</td>\n",
              "      <td>...</td>\n",
              "      <td>NaN</td>\n",
              "      <td>A</td>\n",
              "      <td>NaN</td>\n",
              "      <td>A</td>\n",
              "      <td>NaN</td>\n",
              "      <td>A</td>\n",
              "      <td>NaN</td>\n",
              "      <td>A</td>\n",
              "      <td>NaN</td>\n",
              "      <td>Alliant International University-San Diego</td>\n",
              "    </tr>\n",
              "    <tr>\n",
              "      <th>131</th>\n",
              "      <td>122454</td>\n",
              "      <td>1</td>\n",
              "      <td>3</td>\n",
              "      <td>1</td>\n",
              "      <td>3</td>\n",
              "      <td>2</td>\n",
              "      <td>1</td>\n",
              "      <td>3</td>\n",
              "      <td>1</td>\n",
              "      <td>3</td>\n",
              "      <td>...</td>\n",
              "      <td>NaN</td>\n",
              "      <td>A</td>\n",
              "      <td>NaN</td>\n",
              "      <td>A</td>\n",
              "      <td>NaN</td>\n",
              "      <td>A</td>\n",
              "      <td>NaN</td>\n",
              "      <td>A</td>\n",
              "      <td>NaN</td>\n",
              "      <td>San Francisco Art Institute</td>\n",
              "    </tr>\n",
              "    <tr>\n",
              "      <th>869</th>\n",
              "      <td>190956</td>\n",
              "      <td>5</td>\n",
              "      <td>5</td>\n",
              "      <td>1</td>\n",
              "      <td>5</td>\n",
              "      <td>1</td>\n",
              "      <td>3</td>\n",
              "      <td>5</td>\n",
              "      <td>5</td>\n",
              "      <td>5</td>\n",
              "      <td>...</td>\n",
              "      <td>NaN</td>\n",
              "      <td>A</td>\n",
              "      <td>NaN</td>\n",
              "      <td>A</td>\n",
              "      <td>NaN</td>\n",
              "      <td>A</td>\n",
              "      <td>NaN</td>\n",
              "      <td>A</td>\n",
              "      <td>NaN</td>\n",
              "      <td>Belanger School of Nursing</td>\n",
              "    </tr>\n",
              "    <tr>\n",
              "      <th>943</th>\n",
              "      <td>195702</td>\n",
              "      <td>1</td>\n",
              "      <td>3</td>\n",
              "      <td>1</td>\n",
              "      <td>3</td>\n",
              "      <td>1</td>\n",
              "      <td>3</td>\n",
              "      <td>2</td>\n",
              "      <td>3</td>\n",
              "      <td>3</td>\n",
              "      <td>...</td>\n",
              "      <td>NaN</td>\n",
              "      <td>A</td>\n",
              "      <td>NaN</td>\n",
              "      <td>A</td>\n",
              "      <td>NaN</td>\n",
              "      <td>A</td>\n",
              "      <td>NaN</td>\n",
              "      <td>A</td>\n",
              "      <td>NaN</td>\n",
              "      <td>Saint Elizabeth College of Nursing</td>\n",
              "    </tr>\n",
              "    <tr>\n",
              "      <th>1738</th>\n",
              "      <td>475200</td>\n",
              "      <td>5</td>\n",
              "      <td>3</td>\n",
              "      <td>5</td>\n",
              "      <td>3</td>\n",
              "      <td>1</td>\n",
              "      <td>3</td>\n",
              "      <td>3</td>\n",
              "      <td>3</td>\n",
              "      <td>3</td>\n",
              "      <td>...</td>\n",
              "      <td>NaN</td>\n",
              "      <td>A</td>\n",
              "      <td>NaN</td>\n",
              "      <td>A</td>\n",
              "      <td>NaN</td>\n",
              "      <td>A</td>\n",
              "      <td>NaN</td>\n",
              "      <td>A</td>\n",
              "      <td>NaN</td>\n",
              "      <td>Whitworth University-Adult Degree Programs</td>\n",
              "    </tr>\n",
              "    <tr>\n",
              "      <th>1739</th>\n",
              "      <td>475422</td>\n",
              "      <td>5</td>\n",
              "      <td>3</td>\n",
              "      <td>1</td>\n",
              "      <td>3</td>\n",
              "      <td>3</td>\n",
              "      <td>3</td>\n",
              "      <td>5</td>\n",
              "      <td>2</td>\n",
              "      <td>3</td>\n",
              "      <td>...</td>\n",
              "      <td>NaN</td>\n",
              "      <td>A</td>\n",
              "      <td>NaN</td>\n",
              "      <td>A</td>\n",
              "      <td>NaN</td>\n",
              "      <td>A</td>\n",
              "      <td>NaN</td>\n",
              "      <td>A</td>\n",
              "      <td>NaN</td>\n",
              "      <td>Finger Lakes Health College of Nursing &amp; Healt...</td>\n",
              "    </tr>\n",
              "    <tr>\n",
              "      <th>1772</th>\n",
              "      <td>482565</td>\n",
              "      <td>1</td>\n",
              "      <td>3</td>\n",
              "      <td>1</td>\n",
              "      <td>3</td>\n",
              "      <td>3</td>\n",
              "      <td>3</td>\n",
              "      <td>2</td>\n",
              "      <td>2</td>\n",
              "      <td>2</td>\n",
              "      <td>...</td>\n",
              "      <td>NaN</td>\n",
              "      <td>A</td>\n",
              "      <td>NaN</td>\n",
              "      <td>A</td>\n",
              "      <td>NaN</td>\n",
              "      <td>A</td>\n",
              "      <td>NaN</td>\n",
              "      <td>A</td>\n",
              "      <td>NaN</td>\n",
              "      <td>DeVry University-North Carolina</td>\n",
              "    </tr>\n",
              "    <tr>\n",
              "      <th>1812</th>\n",
              "      <td>489344</td>\n",
              "      <td>1</td>\n",
              "      <td>3</td>\n",
              "      <td>1</td>\n",
              "      <td>3</td>\n",
              "      <td>3</td>\n",
              "      <td>3</td>\n",
              "      <td>2</td>\n",
              "      <td>2</td>\n",
              "      <td>1</td>\n",
              "      <td>...</td>\n",
              "      <td>NaN</td>\n",
              "      <td>A</td>\n",
              "      <td>NaN</td>\n",
              "      <td>A</td>\n",
              "      <td>NaN</td>\n",
              "      <td>A</td>\n",
              "      <td>NaN</td>\n",
              "      <td>A</td>\n",
              "      <td>NaN</td>\n",
              "      <td>Chamberlain University-North Carolina</td>\n",
              "    </tr>\n",
              "    <tr>\n",
              "      <th>1840</th>\n",
              "      <td>493619</td>\n",
              "      <td>1</td>\n",
              "      <td>3</td>\n",
              "      <td>1</td>\n",
              "      <td>3</td>\n",
              "      <td>3</td>\n",
              "      <td>1</td>\n",
              "      <td>3</td>\n",
              "      <td>1</td>\n",
              "      <td>3</td>\n",
              "      <td>...</td>\n",
              "      <td>NaN</td>\n",
              "      <td>A</td>\n",
              "      <td>NaN</td>\n",
              "      <td>A</td>\n",
              "      <td>NaN</td>\n",
              "      <td>A</td>\n",
              "      <td>NaN</td>\n",
              "      <td>A</td>\n",
              "      <td>NaN</td>\n",
              "      <td>Young Americans College of the Performing Arts</td>\n",
              "    </tr>\n",
              "  </tbody>\n",
              "</table>\n",
              "<p>9 rows × 69 columns</p>\n",
              "</div>\n",
              "      <button class=\"colab-df-convert\" onclick=\"convertToInteractive('df-fe4bd819-d418-4f14-8932-2f8cbd44bd10')\"\n",
              "              title=\"Convert this dataframe to an interactive table.\"\n",
              "              style=\"display:none;\">\n",
              "        \n",
              "  <svg xmlns=\"http://www.w3.org/2000/svg\" height=\"24px\"viewBox=\"0 0 24 24\"\n",
              "       width=\"24px\">\n",
              "    <path d=\"M0 0h24v24H0V0z\" fill=\"none\"/>\n",
              "    <path d=\"M18.56 5.44l.94 2.06.94-2.06 2.06-.94-2.06-.94-.94-2.06-.94 2.06-2.06.94zm-11 1L8.5 8.5l.94-2.06 2.06-.94-2.06-.94L8.5 2.5l-.94 2.06-2.06.94zm10 10l.94 2.06.94-2.06 2.06-.94-2.06-.94-.94-2.06-.94 2.06-2.06.94z\"/><path d=\"M17.41 7.96l-1.37-1.37c-.4-.4-.92-.59-1.43-.59-.52 0-1.04.2-1.43.59L10.3 9.45l-7.72 7.72c-.78.78-.78 2.05 0 2.83L4 21.41c.39.39.9.59 1.41.59.51 0 1.02-.2 1.41-.59l7.78-7.78 2.81-2.81c.8-.78.8-2.07 0-2.86zM5.41 20L4 18.59l7.72-7.72 1.47 1.35L5.41 20z\"/>\n",
              "  </svg>\n",
              "      </button>\n",
              "      \n",
              "  <style>\n",
              "    .colab-df-container {\n",
              "      display:flex;\n",
              "      flex-wrap:wrap;\n",
              "      gap: 12px;\n",
              "    }\n",
              "\n",
              "    .colab-df-convert {\n",
              "      background-color: #E8F0FE;\n",
              "      border: none;\n",
              "      border-radius: 50%;\n",
              "      cursor: pointer;\n",
              "      display: none;\n",
              "      fill: #1967D2;\n",
              "      height: 32px;\n",
              "      padding: 0 0 0 0;\n",
              "      width: 32px;\n",
              "    }\n",
              "\n",
              "    .colab-df-convert:hover {\n",
              "      background-color: #E2EBFA;\n",
              "      box-shadow: 0px 1px 2px rgba(60, 64, 67, 0.3), 0px 1px 3px 1px rgba(60, 64, 67, 0.15);\n",
              "      fill: #174EA6;\n",
              "    }\n",
              "\n",
              "    [theme=dark] .colab-df-convert {\n",
              "      background-color: #3B4455;\n",
              "      fill: #D2E3FC;\n",
              "    }\n",
              "\n",
              "    [theme=dark] .colab-df-convert:hover {\n",
              "      background-color: #434B5C;\n",
              "      box-shadow: 0px 1px 3px 1px rgba(0, 0, 0, 0.15);\n",
              "      filter: drop-shadow(0px 1px 2px rgba(0, 0, 0, 0.3));\n",
              "      fill: #FFFFFF;\n",
              "    }\n",
              "  </style>\n",
              "\n",
              "      <script>\n",
              "        const buttonEl =\n",
              "          document.querySelector('#df-fe4bd819-d418-4f14-8932-2f8cbd44bd10 button.colab-df-convert');\n",
              "        buttonEl.style.display =\n",
              "          google.colab.kernel.accessAllowed ? 'block' : 'none';\n",
              "\n",
              "        async function convertToInteractive(key) {\n",
              "          const element = document.querySelector('#df-fe4bd819-d418-4f14-8932-2f8cbd44bd10');\n",
              "          const dataTable =\n",
              "            await google.colab.kernel.invokeFunction('convertToInteractive',\n",
              "                                                     [key], {});\n",
              "          if (!dataTable) return;\n",
              "\n",
              "          const docLinkHtml = 'Like what you see? Visit the ' +\n",
              "            '<a target=\"_blank\" href=https://colab.research.google.com/notebooks/data_table.ipynb>data table notebook</a>'\n",
              "            + ' to learn more about interactive tables.';\n",
              "          element.innerHTML = '';\n",
              "          dataTable['output_type'] = 'display_data';\n",
              "          await google.colab.output.renderOutput(dataTable, element);\n",
              "          const docLink = document.createElement('div');\n",
              "          docLink.innerHTML = docLinkHtml;\n",
              "          element.appendChild(docLink);\n",
              "        }\n",
              "      </script>\n",
              "    </div>\n",
              "  </div>\n",
              "  "
            ],
            "text/plain": [
              "      UNITID  ADMCON1  ADMCON2  ADMCON3  ADMCON4  ADMCON5  ADMCON6  ADMCON7  \\\n",
              "64    110468        1        3        1        3        3        3        3   \n",
              "131   122454        1        3        1        3        2        1        3   \n",
              "869   190956        5        5        1        5        1        3        5   \n",
              "943   195702        1        3        1        3        1        3        2   \n",
              "1738  475200        5        3        5        3        1        3        3   \n",
              "1739  475422        5        3        1        3        3        3        5   \n",
              "1772  482565        1        3        1        3        3        3        2   \n",
              "1812  489344        1        3        1        3        3        3        2   \n",
              "1840  493619        1        3        1        3        3        1        3   \n",
              "\n",
              "      ADMCON8  ADMCON9  ... ACTCM75  XACTEN25 ACTEN25  XACTEN75 ACTEN75  \\\n",
              "64          2        3  ...     NaN         A     NaN         A     NaN   \n",
              "131         1        3  ...     NaN         A     NaN         A     NaN   \n",
              "869         5        5  ...     NaN         A     NaN         A     NaN   \n",
              "943         3        3  ...     NaN         A     NaN         A     NaN   \n",
              "1738        3        3  ...     NaN         A     NaN         A     NaN   \n",
              "1739        2        3  ...     NaN         A     NaN         A     NaN   \n",
              "1772        2        2  ...     NaN         A     NaN         A     NaN   \n",
              "1812        2        1  ...     NaN         A     NaN         A     NaN   \n",
              "1840        1        3  ...     NaN         A     NaN         A     NaN   \n",
              "\n",
              "      XACTMT25 ACTMT25  XACTMT75 ACTMT75  \\\n",
              "64           A     NaN         A     NaN   \n",
              "131          A     NaN         A     NaN   \n",
              "869          A     NaN         A     NaN   \n",
              "943          A     NaN         A     NaN   \n",
              "1738         A     NaN         A     NaN   \n",
              "1739         A     NaN         A     NaN   \n",
              "1772         A     NaN         A     NaN   \n",
              "1812         A     NaN         A     NaN   \n",
              "1840         A     NaN         A     NaN   \n",
              "\n",
              "                                                 INSTNM  \n",
              "64           Alliant International University-San Diego  \n",
              "131                         San Francisco Art Institute  \n",
              "869                          Belanger School of Nursing  \n",
              "943                  Saint Elizabeth College of Nursing  \n",
              "1738         Whitworth University-Adult Degree Programs  \n",
              "1739  Finger Lakes Health College of Nursing & Healt...  \n",
              "1772                    DeVry University-North Carolina  \n",
              "1812              Chamberlain University-North Carolina  \n",
              "1840     Young Americans College of the Performing Arts  \n",
              "\n",
              "[9 rows x 69 columns]"
            ]
          },
          "metadata": {},
          "execution_count": 37
        }
      ]
    },
    {
      "cell_type": "markdown",
      "source": [
        "### First I notice that some of the institutions still have Null values for the number of Admissions for Men, when there should be zeros instead because these institutions did not receive any application from Men - Let's fix that"
      ],
      "metadata": {
        "id": "XztXr3gnhaUV"
      }
    },
    {
      "cell_type": "code",
      "source": [
        "mask = df_check['APPLCNM'] == 0\n",
        "df_check.loc[mask, ['ADMSSNM','ENRLM',\n",
        "                    'ENRLFTM', 'ENRLPTM' \n",
        "                    ]] = df_check.loc[mask, ['ADMSSNM','ENRLM','ENRLFTM', 'ENRLPTM'\n",
        "                                             ]].fillna(value=0)"
      ],
      "metadata": {
        "id": "Crfl_kkhfKPl"
      },
      "execution_count": 38,
      "outputs": []
    },
    {
      "cell_type": "code",
      "source": [
        "mask = df_check['APPLCNW'] == 0\n",
        "df_check.loc[mask, ['ADMSSNW','ENRLW',\n",
        "                    'ENRLFTW', 'ENRLPTW' \n",
        "                    ]] = df_check.loc[mask, ['ADMSSNW','ENRLW','ENRLFTW', 'ENRLPTW'\n",
        "                                             ]].fillna(value=0)"
      ],
      "metadata": {
        "id": "JrHWU64kfKSM"
      },
      "execution_count": 39,
      "outputs": []
    },
    {
      "cell_type": "markdown",
      "source": [
        "### Then, I notice that some of the institutions still have Null values for the number of Enrollments for Men, when there should be zeros instead because these institutions did not Admit any Men - Let's fix that"
      ],
      "metadata": {
        "id": "Md5d3BVUjbU1"
      }
    },
    {
      "cell_type": "code",
      "source": [
        "mask = df_check['ADMSSNM'] == 0\n",
        "df_check.loc[mask, ['ENRLM', 'ENRLFTM', 'ENRLPTM' \n",
        "                    ]] = df_check.loc[mask, ['ENRLM','ENRLFTM', 'ENRLPTM'\n",
        "                                             ]].fillna(value=0)"
      ],
      "metadata": {
        "id": "y4SvjgYWfKU-"
      },
      "execution_count": 40,
      "outputs": []
    },
    {
      "cell_type": "code",
      "source": [
        "mask = df_check['ADMSSNW'] == 0\n",
        "df_check.loc[mask, ['ENRLW','ENRLFTW', 'ENRLPTW' \n",
        "                    ]] = df_check.loc[mask, ['ENRLW','ENRLFTW', 'ENRLPTW'\n",
        "                                             ]].fillna(value=0)"
      ],
      "metadata": {
        "id": "tJ1dsc7pfKXt"
      },
      "execution_count": 41,
      "outputs": []
    },
    {
      "cell_type": "markdown",
      "source": [
        "### Finally, I notice that some of the institutions still have Null values for the Part Time and Full Time Enrollments Columns for Men (and Women), when there should be zeros instead because these institutions did not have Enrollments at all this academic year - Let's fix that"
      ],
      "metadata": {
        "id": "vOhW5UdhkZz3"
      }
    },
    {
      "cell_type": "code",
      "source": [
        "mask = df_check['ENRLT'] == 0\n",
        "df_check.loc[mask, ['ENRLFT','ENRLPT','ENRLM', 'ENRLFTM', 'ENRLPTM','ENRLW','ENRLFTW', 'ENRLPTW' \n",
        "                    ]] = df_check.loc[mask, ['ENRLFT','ENRLPT','ENRLM', 'ENRLFTM', 'ENRLPTM','ENRLW','ENRLFTW', 'ENRLPTW' \n",
        "                                             ]].fillna(value=0)"
      ],
      "metadata": {
        "id": "8vPOrf_7fKbE"
      },
      "execution_count": 42,
      "outputs": []
    },
    {
      "cell_type": "markdown",
      "source": [
        "### This allowed us to eliminate most of the null values from the DF but not all.\n",
        "\n",
        "### Checking for Null values we still find some associated with  Male enrollment separately from female enrollment - let's deal with those next "
      ],
      "metadata": {
        "id": "4HsVwkfilusL"
      }
    },
    {
      "cell_type": "code",
      "source": [
        "# df_check.info()"
      ],
      "metadata": {
        "id": "zEkj8xoqmK1V"
      },
      "execution_count": 43,
      "outputs": []
    },
    {
      "cell_type": "code",
      "source": [
        "df_check['ENRLFTM'].isnull().sum()"
      ],
      "metadata": {
        "colab": {
          "base_uri": "https://localhost:8080/"
        },
        "id": "8WvpuYIbj8K1",
        "outputId": "e9371ec5-d3c7-4d2b-8a4a-58dac481595a"
      },
      "execution_count": 44,
      "outputs": [
        {
          "output_type": "execute_result",
          "data": {
            "text/plain": [
              "14"
            ]
          },
          "metadata": {},
          "execution_count": 44
        }
      ]
    },
    {
      "cell_type": "code",
      "source": [
        "df_check.loc[lambda df_check:((df_check['ENRLPTW'].isnull())),:]"
      ],
      "metadata": {
        "colab": {
          "base_uri": "https://localhost:8080/",
          "height": 624
        },
        "id": "Rhf1_XlOj8E3",
        "outputId": "5689ebcf-8f38-4596-926e-49b273bc49df"
      },
      "execution_count": 45,
      "outputs": [
        {
          "output_type": "execute_result",
          "data": {
            "text/html": [
              "\n",
              "  <div id=\"df-43016a33-cff5-4e7b-96da-d74a54affe3b\">\n",
              "    <div class=\"colab-df-container\">\n",
              "      <div>\n",
              "<style scoped>\n",
              "    .dataframe tbody tr th:only-of-type {\n",
              "        vertical-align: middle;\n",
              "    }\n",
              "\n",
              "    .dataframe tbody tr th {\n",
              "        vertical-align: top;\n",
              "    }\n",
              "\n",
              "    .dataframe thead th {\n",
              "        text-align: right;\n",
              "    }\n",
              "</style>\n",
              "<table border=\"1\" class=\"dataframe\">\n",
              "  <thead>\n",
              "    <tr style=\"text-align: right;\">\n",
              "      <th></th>\n",
              "      <th>UNITID</th>\n",
              "      <th>ADMCON1</th>\n",
              "      <th>ADMCON2</th>\n",
              "      <th>ADMCON3</th>\n",
              "      <th>ADMCON4</th>\n",
              "      <th>ADMCON5</th>\n",
              "      <th>ADMCON6</th>\n",
              "      <th>ADMCON7</th>\n",
              "      <th>ADMCON8</th>\n",
              "      <th>ADMCON9</th>\n",
              "      <th>...</th>\n",
              "      <th>ACTCM75</th>\n",
              "      <th>XACTEN25</th>\n",
              "      <th>ACTEN25</th>\n",
              "      <th>XACTEN75</th>\n",
              "      <th>ACTEN75</th>\n",
              "      <th>XACTMT25</th>\n",
              "      <th>ACTMT25</th>\n",
              "      <th>XACTMT75</th>\n",
              "      <th>ACTMT75</th>\n",
              "      <th>INSTNM</th>\n",
              "    </tr>\n",
              "  </thead>\n",
              "  <tbody>\n",
              "    <tr>\n",
              "      <th>7</th>\n",
              "      <td>100937</td>\n",
              "      <td>1</td>\n",
              "      <td>5</td>\n",
              "      <td>5</td>\n",
              "      <td>2</td>\n",
              "      <td>5</td>\n",
              "      <td>5</td>\n",
              "      <td>5</td>\n",
              "      <td>5</td>\n",
              "      <td>3</td>\n",
              "      <td>...</td>\n",
              "      <td>28.0</td>\n",
              "      <td>R</td>\n",
              "      <td>22.0</td>\n",
              "      <td>R</td>\n",
              "      <td>30.0</td>\n",
              "      <td>R</td>\n",
              "      <td>20.0</td>\n",
              "      <td>R</td>\n",
              "      <td>27.0</td>\n",
              "      <td>Birmingham-Southern College</td>\n",
              "    </tr>\n",
              "    <tr>\n",
              "      <th>15</th>\n",
              "      <td>101648</td>\n",
              "      <td>1</td>\n",
              "      <td>3</td>\n",
              "      <td>1</td>\n",
              "      <td>5</td>\n",
              "      <td>3</td>\n",
              "      <td>3</td>\n",
              "      <td>1</td>\n",
              "      <td>1</td>\n",
              "      <td>3</td>\n",
              "      <td>...</td>\n",
              "      <td>26.0</td>\n",
              "      <td>R</td>\n",
              "      <td>17.0</td>\n",
              "      <td>R</td>\n",
              "      <td>26.0</td>\n",
              "      <td>R</td>\n",
              "      <td>18.0</td>\n",
              "      <td>R</td>\n",
              "      <td>26.0</td>\n",
              "      <td>Marion Military Institute</td>\n",
              "    </tr>\n",
              "    <tr>\n",
              "      <th>19</th>\n",
              "      <td>101912</td>\n",
              "      <td>1</td>\n",
              "      <td>3</td>\n",
              "      <td>1</td>\n",
              "      <td>2</td>\n",
              "      <td>2</td>\n",
              "      <td>3</td>\n",
              "      <td>2</td>\n",
              "      <td>2</td>\n",
              "      <td>3</td>\n",
              "      <td>...</td>\n",
              "      <td>NaN</td>\n",
              "      <td>A</td>\n",
              "      <td>NaN</td>\n",
              "      <td>A</td>\n",
              "      <td>NaN</td>\n",
              "      <td>A</td>\n",
              "      <td>NaN</td>\n",
              "      <td>A</td>\n",
              "      <td>NaN</td>\n",
              "      <td>Oakwood University</td>\n",
              "    </tr>\n",
              "    <tr>\n",
              "      <th>38</th>\n",
              "      <td>106342</td>\n",
              "      <td>1</td>\n",
              "      <td>3</td>\n",
              "      <td>3</td>\n",
              "      <td>2</td>\n",
              "      <td>3</td>\n",
              "      <td>3</td>\n",
              "      <td>5</td>\n",
              "      <td>3</td>\n",
              "      <td>3</td>\n",
              "      <td>...</td>\n",
              "      <td>28.0</td>\n",
              "      <td>R</td>\n",
              "      <td>21.0</td>\n",
              "      <td>R</td>\n",
              "      <td>29.0</td>\n",
              "      <td>R</td>\n",
              "      <td>20.0</td>\n",
              "      <td>R</td>\n",
              "      <td>26.0</td>\n",
              "      <td>Lyon College</td>\n",
              "    </tr>\n",
              "    <tr>\n",
              "      <th>43</th>\n",
              "      <td>106546</td>\n",
              "      <td>1</td>\n",
              "      <td>3</td>\n",
              "      <td>1</td>\n",
              "      <td>3</td>\n",
              "      <td>1</td>\n",
              "      <td>3</td>\n",
              "      <td>1</td>\n",
              "      <td>1</td>\n",
              "      <td>1</td>\n",
              "      <td>...</td>\n",
              "      <td>22.0</td>\n",
              "      <td>R</td>\n",
              "      <td>15.0</td>\n",
              "      <td>R</td>\n",
              "      <td>25.0</td>\n",
              "      <td>R</td>\n",
              "      <td>16.0</td>\n",
              "      <td>R</td>\n",
              "      <td>18.0</td>\n",
              "      <td>Baptist Health College Little Rock</td>\n",
              "    </tr>\n",
              "    <tr>\n",
              "      <th>...</th>\n",
              "      <td>...</td>\n",
              "      <td>...</td>\n",
              "      <td>...</td>\n",
              "      <td>...</td>\n",
              "      <td>...</td>\n",
              "      <td>...</td>\n",
              "      <td>...</td>\n",
              "      <td>...</td>\n",
              "      <td>...</td>\n",
              "      <td>...</td>\n",
              "      <td>...</td>\n",
              "      <td>...</td>\n",
              "      <td>...</td>\n",
              "      <td>...</td>\n",
              "      <td>...</td>\n",
              "      <td>...</td>\n",
              "      <td>...</td>\n",
              "      <td>...</td>\n",
              "      <td>...</td>\n",
              "      <td>...</td>\n",
              "      <td>...</td>\n",
              "    </tr>\n",
              "    <tr>\n",
              "      <th>1827</th>\n",
              "      <td>491446</td>\n",
              "      <td>3</td>\n",
              "      <td>3</td>\n",
              "      <td>2</td>\n",
              "      <td>1</td>\n",
              "      <td>1</td>\n",
              "      <td>3</td>\n",
              "      <td>3</td>\n",
              "      <td>3</td>\n",
              "      <td>3</td>\n",
              "      <td>...</td>\n",
              "      <td>NaN</td>\n",
              "      <td>A</td>\n",
              "      <td>NaN</td>\n",
              "      <td>A</td>\n",
              "      <td>NaN</td>\n",
              "      <td>A</td>\n",
              "      <td>NaN</td>\n",
              "      <td>A</td>\n",
              "      <td>NaN</td>\n",
              "      <td>Bnos Zion Of Bobov Seminary</td>\n",
              "    </tr>\n",
              "    <tr>\n",
              "      <th>1831</th>\n",
              "      <td>491631</td>\n",
              "      <td>3</td>\n",
              "      <td>3</td>\n",
              "      <td>2</td>\n",
              "      <td>1</td>\n",
              "      <td>1</td>\n",
              "      <td>3</td>\n",
              "      <td>3</td>\n",
              "      <td>3</td>\n",
              "      <td>3</td>\n",
              "      <td>...</td>\n",
              "      <td>NaN</td>\n",
              "      <td>A</td>\n",
              "      <td>NaN</td>\n",
              "      <td>A</td>\n",
              "      <td>NaN</td>\n",
              "      <td>A</td>\n",
              "      <td>NaN</td>\n",
              "      <td>A</td>\n",
              "      <td>NaN</td>\n",
              "      <td>Women's Institute of Torah Seminary and College</td>\n",
              "    </tr>\n",
              "    <tr>\n",
              "      <th>1841</th>\n",
              "      <td>493646</td>\n",
              "      <td>3</td>\n",
              "      <td>3</td>\n",
              "      <td>2</td>\n",
              "      <td>1</td>\n",
              "      <td>1</td>\n",
              "      <td>3</td>\n",
              "      <td>3</td>\n",
              "      <td>3</td>\n",
              "      <td>3</td>\n",
              "      <td>...</td>\n",
              "      <td>NaN</td>\n",
              "      <td>A</td>\n",
              "      <td>NaN</td>\n",
              "      <td>A</td>\n",
              "      <td>NaN</td>\n",
              "      <td>A</td>\n",
              "      <td>NaN</td>\n",
              "      <td>A</td>\n",
              "      <td>NaN</td>\n",
              "      <td>Ohel Margulia Seminary</td>\n",
              "    </tr>\n",
              "    <tr>\n",
              "      <th>1845</th>\n",
              "      <td>493798</td>\n",
              "      <td>3</td>\n",
              "      <td>3</td>\n",
              "      <td>2</td>\n",
              "      <td>1</td>\n",
              "      <td>1</td>\n",
              "      <td>3</td>\n",
              "      <td>3</td>\n",
              "      <td>3</td>\n",
              "      <td>3</td>\n",
              "      <td>...</td>\n",
              "      <td>NaN</td>\n",
              "      <td>A</td>\n",
              "      <td>NaN</td>\n",
              "      <td>A</td>\n",
              "      <td>NaN</td>\n",
              "      <td>A</td>\n",
              "      <td>NaN</td>\n",
              "      <td>A</td>\n",
              "      <td>NaN</td>\n",
              "      <td>New York Seminary</td>\n",
              "    </tr>\n",
              "    <tr>\n",
              "      <th>1851</th>\n",
              "      <td>494807</td>\n",
              "      <td>1</td>\n",
              "      <td>3</td>\n",
              "      <td>1</td>\n",
              "      <td>1</td>\n",
              "      <td>1</td>\n",
              "      <td>2</td>\n",
              "      <td>1</td>\n",
              "      <td>3</td>\n",
              "      <td>2</td>\n",
              "      <td>...</td>\n",
              "      <td>NaN</td>\n",
              "      <td>A</td>\n",
              "      <td>NaN</td>\n",
              "      <td>A</td>\n",
              "      <td>NaN</td>\n",
              "      <td>A</td>\n",
              "      <td>NaN</td>\n",
              "      <td>A</td>\n",
              "      <td>NaN</td>\n",
              "      <td>Ponce Health Sciences University-East</td>\n",
              "    </tr>\n",
              "  </tbody>\n",
              "</table>\n",
              "<p>293 rows × 69 columns</p>\n",
              "</div>\n",
              "      <button class=\"colab-df-convert\" onclick=\"convertToInteractive('df-43016a33-cff5-4e7b-96da-d74a54affe3b')\"\n",
              "              title=\"Convert this dataframe to an interactive table.\"\n",
              "              style=\"display:none;\">\n",
              "        \n",
              "  <svg xmlns=\"http://www.w3.org/2000/svg\" height=\"24px\"viewBox=\"0 0 24 24\"\n",
              "       width=\"24px\">\n",
              "    <path d=\"M0 0h24v24H0V0z\" fill=\"none\"/>\n",
              "    <path d=\"M18.56 5.44l.94 2.06.94-2.06 2.06-.94-2.06-.94-.94-2.06-.94 2.06-2.06.94zm-11 1L8.5 8.5l.94-2.06 2.06-.94-2.06-.94L8.5 2.5l-.94 2.06-2.06.94zm10 10l.94 2.06.94-2.06 2.06-.94-2.06-.94-.94-2.06-.94 2.06-2.06.94z\"/><path d=\"M17.41 7.96l-1.37-1.37c-.4-.4-.92-.59-1.43-.59-.52 0-1.04.2-1.43.59L10.3 9.45l-7.72 7.72c-.78.78-.78 2.05 0 2.83L4 21.41c.39.39.9.59 1.41.59.51 0 1.02-.2 1.41-.59l7.78-7.78 2.81-2.81c.8-.78.8-2.07 0-2.86zM5.41 20L4 18.59l7.72-7.72 1.47 1.35L5.41 20z\"/>\n",
              "  </svg>\n",
              "      </button>\n",
              "      \n",
              "  <style>\n",
              "    .colab-df-container {\n",
              "      display:flex;\n",
              "      flex-wrap:wrap;\n",
              "      gap: 12px;\n",
              "    }\n",
              "\n",
              "    .colab-df-convert {\n",
              "      background-color: #E8F0FE;\n",
              "      border: none;\n",
              "      border-radius: 50%;\n",
              "      cursor: pointer;\n",
              "      display: none;\n",
              "      fill: #1967D2;\n",
              "      height: 32px;\n",
              "      padding: 0 0 0 0;\n",
              "      width: 32px;\n",
              "    }\n",
              "\n",
              "    .colab-df-convert:hover {\n",
              "      background-color: #E2EBFA;\n",
              "      box-shadow: 0px 1px 2px rgba(60, 64, 67, 0.3), 0px 1px 3px 1px rgba(60, 64, 67, 0.15);\n",
              "      fill: #174EA6;\n",
              "    }\n",
              "\n",
              "    [theme=dark] .colab-df-convert {\n",
              "      background-color: #3B4455;\n",
              "      fill: #D2E3FC;\n",
              "    }\n",
              "\n",
              "    [theme=dark] .colab-df-convert:hover {\n",
              "      background-color: #434B5C;\n",
              "      box-shadow: 0px 1px 3px 1px rgba(0, 0, 0, 0.15);\n",
              "      filter: drop-shadow(0px 1px 2px rgba(0, 0, 0, 0.3));\n",
              "      fill: #FFFFFF;\n",
              "    }\n",
              "  </style>\n",
              "\n",
              "      <script>\n",
              "        const buttonEl =\n",
              "          document.querySelector('#df-43016a33-cff5-4e7b-96da-d74a54affe3b button.colab-df-convert');\n",
              "        buttonEl.style.display =\n",
              "          google.colab.kernel.accessAllowed ? 'block' : 'none';\n",
              "\n",
              "        async function convertToInteractive(key) {\n",
              "          const element = document.querySelector('#df-43016a33-cff5-4e7b-96da-d74a54affe3b');\n",
              "          const dataTable =\n",
              "            await google.colab.kernel.invokeFunction('convertToInteractive',\n",
              "                                                     [key], {});\n",
              "          if (!dataTable) return;\n",
              "\n",
              "          const docLinkHtml = 'Like what you see? Visit the ' +\n",
              "            '<a target=\"_blank\" href=https://colab.research.google.com/notebooks/data_table.ipynb>data table notebook</a>'\n",
              "            + ' to learn more about interactive tables.';\n",
              "          element.innerHTML = '';\n",
              "          dataTable['output_type'] = 'display_data';\n",
              "          await google.colab.output.renderOutput(dataTable, element);\n",
              "          const docLink = document.createElement('div');\n",
              "          docLink.innerHTML = docLinkHtml;\n",
              "          element.appendChild(docLink);\n",
              "        }\n",
              "      </script>\n",
              "    </div>\n",
              "  </div>\n",
              "  "
            ],
            "text/plain": [
              "      UNITID  ADMCON1  ADMCON2  ADMCON3  ADMCON4  ADMCON5  ADMCON6  ADMCON7  \\\n",
              "7     100937        1        5        5        2        5        5        5   \n",
              "15    101648        1        3        1        5        3        3        1   \n",
              "19    101912        1        3        1        2        2        3        2   \n",
              "38    106342        1        3        3        2        3        3        5   \n",
              "43    106546        1        3        1        3        1        3        1   \n",
              "...      ...      ...      ...      ...      ...      ...      ...      ...   \n",
              "1827  491446        3        3        2        1        1        3        3   \n",
              "1831  491631        3        3        2        1        1        3        3   \n",
              "1841  493646        3        3        2        1        1        3        3   \n",
              "1845  493798        3        3        2        1        1        3        3   \n",
              "1851  494807        1        3        1        1        1        2        1   \n",
              "\n",
              "      ADMCON8  ADMCON9  ... ACTCM75  XACTEN25 ACTEN25  XACTEN75 ACTEN75  \\\n",
              "7           5        3  ...    28.0         R    22.0         R    30.0   \n",
              "15          1        3  ...    26.0         R    17.0         R    26.0   \n",
              "19          2        3  ...     NaN         A     NaN         A     NaN   \n",
              "38          3        3  ...    28.0         R    21.0         R    29.0   \n",
              "43          1        1  ...    22.0         R    15.0         R    25.0   \n",
              "...       ...      ...  ...     ...       ...     ...       ...     ...   \n",
              "1827        3        3  ...     NaN         A     NaN         A     NaN   \n",
              "1831        3        3  ...     NaN         A     NaN         A     NaN   \n",
              "1841        3        3  ...     NaN         A     NaN         A     NaN   \n",
              "1845        3        3  ...     NaN         A     NaN         A     NaN   \n",
              "1851        3        2  ...     NaN         A     NaN         A     NaN   \n",
              "\n",
              "      XACTMT25 ACTMT25  XACTMT75 ACTMT75  \\\n",
              "7            R    20.0         R    27.0   \n",
              "15           R    18.0         R    26.0   \n",
              "19           A     NaN         A     NaN   \n",
              "38           R    20.0         R    26.0   \n",
              "43           R    16.0         R    18.0   \n",
              "...        ...     ...       ...     ...   \n",
              "1827         A     NaN         A     NaN   \n",
              "1831         A     NaN         A     NaN   \n",
              "1841         A     NaN         A     NaN   \n",
              "1845         A     NaN         A     NaN   \n",
              "1851         A     NaN         A     NaN   \n",
              "\n",
              "                                               INSTNM  \n",
              "7                         Birmingham-Southern College  \n",
              "15                          Marion Military Institute  \n",
              "19                                 Oakwood University  \n",
              "38                                       Lyon College  \n",
              "43                 Baptist Health College Little Rock  \n",
              "...                                               ...  \n",
              "1827                      Bnos Zion Of Bobov Seminary  \n",
              "1831  Women's Institute of Torah Seminary and College  \n",
              "1841                           Ohel Margulia Seminary  \n",
              "1845                                New York Seminary  \n",
              "1851            Ponce Health Sciences University-East  \n",
              "\n",
              "[293 rows x 69 columns]"
            ]
          },
          "metadata": {},
          "execution_count": 45
        }
      ]
    },
    {
      "cell_type": "code",
      "source": [
        "mask = df_check['ENRLM'] == 0\n",
        "df_check.loc[mask, ['ENRLFTM', 'ENRLPTM' \n",
        "                    ]] = df_check.loc[mask, ['ENRLFTM', 'ENRLPTM' \n",
        "                                             ]].fillna(value=0)"
      ],
      "metadata": {
        "id": "2_Z1UXptnaJL"
      },
      "execution_count": 46,
      "outputs": []
    },
    {
      "cell_type": "code",
      "source": [
        "mask = df_check['ENRLW'] == 0\n",
        "df_check.loc[mask, ['ENRLFTW', 'ENRLPTW' \n",
        "                    ]] = df_check.loc[mask, ['ENRLFTW', 'ENRLPTW' \n",
        "                                             ]].fillna(value=0)"
      ],
      "metadata": {
        "id": "11WseTAHnsUc"
      },
      "execution_count": 47,
      "outputs": []
    },
    {
      "cell_type": "markdown",
      "source": [
        "### We are almost done - However we still must assign zeros to the Part Time Enrollment Column where the Total number of Enrolled Students  are All Full Time (independently of gender) and vice versa"
      ],
      "metadata": {
        "id": "7NNpZN_0oUsu"
      }
    },
    {
      "cell_type": "code",
      "source": [
        "\n",
        "df_check['TEST']=np.where( (df_check['ENRLT'] == df_check['ENRLFT']), 1,0  )\n",
        "\n",
        "mask = df_check['TEST'] == 1\n",
        "df_check.loc[mask, ['ENRLPT', 'ENRLPTM', 'ENRLPTW' \n",
        "                    ]] = df_check.loc[mask, ['ENRLPT', 'ENRLPTM', 'ENRLPTW' \n",
        "                                             ]].fillna(value=0)"
      ],
      "metadata": {
        "id": "dz8-zFKaQ2OH"
      },
      "execution_count": 48,
      "outputs": []
    },
    {
      "cell_type": "code",
      "source": [
        "df_check['TEST1']=np.where( (df_check['ENRLT'] == df_check['ENRLPT']), 1,0  )\n",
        "\n",
        "mask = df_check['TEST1'] == 1\n",
        "df_check.loc[mask, ['ENRLFT', 'ENRLFTM', 'ENRLFTW' \n",
        "                    ]] = df_check.loc[mask, ['ENRLFT', 'ENRLFTM', 'ENRLFTW' \n",
        "                                             ]].fillna(value=0)"
      ],
      "metadata": {
        "id": "rJ1Rc0W3Wxk-"
      },
      "execution_count": 49,
      "outputs": []
    },
    {
      "cell_type": "code",
      "source": [
        "df_check.drop(['TEST','TEST1'], axis = 1, inplace = True)\n"
      ],
      "metadata": {
        "id": "hzVHbPhFXTmF"
      },
      "execution_count": 50,
      "outputs": []
    },
    {
      "cell_type": "code",
      "source": [
        "# df_check.info()"
      ],
      "metadata": {
        "id": "puPg_ysqSuJ4"
      },
      "execution_count": 51,
      "outputs": []
    },
    {
      "cell_type": "markdown",
      "source": [
        "### We have cleaned the data in the DF except for the information pertaining to SAT and ACT scores \n",
        "\n",
        "### Let's take a look at the data first "
      ],
      "metadata": {
        "id": "rg7rZsr9XqI1"
      }
    },
    {
      "cell_type": "code",
      "source": [
        "df_check['SATNUM'].value_counts()"
      ],
      "metadata": {
        "colab": {
          "base_uri": "https://localhost:8080/"
        },
        "id": "CplUwWLbYQr2",
        "outputId": "d974c206-c12e-472c-d6e3-36ce410f9882"
      },
      "execution_count": 52,
      "outputs": [
        {
          "output_type": "execute_result",
          "data": {
            "text/plain": [
              "0.0       59\n",
              "37.0      11\n",
              "2.0       10\n",
              "16.0       9\n",
              "5.0        7\n",
              "          ..\n",
              "598.0      1\n",
              "1271.0     1\n",
              "2045.0     1\n",
              "1539.0     1\n",
              "829.0      1\n",
              "Name: SATNUM, Length: 682, dtype: int64"
            ]
          },
          "metadata": {},
          "execution_count": 52
        }
      ]
    },
    {
      "cell_type": "markdown",
      "source": [
        "### The SAT and ACT columns include the number of students who submitted SAT scores or ACT scores\n",
        "\n",
        "### If the Imputation Column for these two variables is recorded as 'Not Applicable' it is safe to assume that the Institution does not require students to submit either score (in fact when checking both imputation variables we can see that the same number of institutions have 'Not Applicable' for either test). \n",
        "\n",
        "### This being the case we can transform this variable as a  \"Flag\" variable, that indicates whether the institution asks for the tests or not, which will help us with out research questions "
      ],
      "metadata": {
        "id": "4YFPWzp-ajuk"
      }
    },
    {
      "cell_type": "code",
      "source": [
        "df_check['XSATNUM'].value_counts()"
      ],
      "metadata": {
        "colab": {
          "base_uri": "https://localhost:8080/"
        },
        "id": "SIax8SkeYB5i",
        "outputId": "b2f16e7f-2106-4e35-98a7-36f8be9bb7f8"
      },
      "execution_count": 53,
      "outputs": [
        {
          "output_type": "execute_result",
          "data": {
            "text/plain": [
              "R    1134\n",
              "A     702\n",
              "Z      16\n",
              "Name: XSATNUM, dtype: int64"
            ]
          },
          "metadata": {},
          "execution_count": 53
        }
      ]
    },
    {
      "cell_type": "code",
      "source": [
        "df_check['XACTNUM'].value_counts()"
      ],
      "metadata": {
        "colab": {
          "base_uri": "https://localhost:8080/"
        },
        "id": "XKkcj99NoTuo",
        "outputId": "dc300e4d-3336-4600-fd58-619749481663"
      },
      "execution_count": 54,
      "outputs": [
        {
          "output_type": "execute_result",
          "data": {
            "text/plain": [
              "R    1144\n",
              "A     702\n",
              "Z       6\n",
              "Name: XACTNUM, dtype: int64"
            ]
          },
          "metadata": {},
          "execution_count": 54
        }
      ]
    },
    {
      "cell_type": "code",
      "source": [
        "# Filling in the Nan associated with SAT 'Not Applicable' with zeros\n",
        "\n",
        "mask = df_check['XSATNUM'] =='A'\n",
        "df_check.loc[mask, ['SATNUM']] = df_check.loc[mask, ['SATNUM']].fillna(value=0)"
      ],
      "metadata": {
        "id": "Gg5Io5K_oTxM"
      },
      "execution_count": 55,
      "outputs": []
    },
    {
      "cell_type": "code",
      "source": [
        "# Filling in the Nan associated with ACT 'Not Applicable' with zeros\n",
        "\n",
        "mask = df_check['XACTNUM'] =='A'\n",
        "df_check.loc[mask, ['ACTNUM']] = df_check.loc[mask, ['ACTNUM']].fillna(value=0)"
      ],
      "metadata": {
        "id": "tuLySEKaoTz_"
      },
      "execution_count": 56,
      "outputs": []
    },
    {
      "cell_type": "code",
      "source": [
        "# Filling in the Reported SAT numbers (coded as 'R') with one to indicate that the school requests the test\n",
        "\n",
        "df_check['SATNUM']=np.where( (df_check['XSATNUM'] =='R'), 1,0  )\n"
      ],
      "metadata": {
        "id": "lPbpu79EoT5X"
      },
      "execution_count": 57,
      "outputs": []
    },
    {
      "cell_type": "code",
      "source": [
        "df_check['SATNUM'].value_counts()"
      ],
      "metadata": {
        "colab": {
          "base_uri": "https://localhost:8080/"
        },
        "id": "cZrO3tw5h4Si",
        "outputId": "2ed76d9b-89ab-4a86-8720-4c6ef4defaea"
      },
      "execution_count": 58,
      "outputs": [
        {
          "output_type": "execute_result",
          "data": {
            "text/plain": [
              "1    1134\n",
              "0     718\n",
              "Name: SATNUM, dtype: int64"
            ]
          },
          "metadata": {},
          "execution_count": 58
        }
      ]
    },
    {
      "cell_type": "code",
      "source": [
        "#  Filling in the Reported ACT numbers (coded as 'R') with one to indicate that the school requests the test\n",
        "\n",
        "df_check['ACTNUM']=np.where( (df_check['XACTNUM'] =='R'), 1,0  )"
      ],
      "metadata": {
        "id": "qPeYinLkoT8t"
      },
      "execution_count": 59,
      "outputs": []
    },
    {
      "cell_type": "code",
      "source": [
        "df_check['ACTNUM'].value_counts()"
      ],
      "metadata": {
        "colab": {
          "base_uri": "https://localhost:8080/"
        },
        "id": "sbA_SVk-f4qc",
        "outputId": "35024a7a-b198-49ab-9f93-9261c94b2edb"
      },
      "execution_count": 60,
      "outputs": [
        {
          "output_type": "execute_result",
          "data": {
            "text/plain": [
              "1    1144\n",
              "0     708\n",
              "Name: ACTNUM, dtype: int64"
            ]
          },
          "metadata": {},
          "execution_count": 60
        }
      ]
    },
    {
      "cell_type": "markdown",
      "source": [
        "### We have lost some information from the DF but for our purposes what we have is enough\n",
        "\n",
        "### Now we cand rop the remaining columns we will not be using and all of the Imputation Variable Columns we used to clean the DF "
      ],
      "metadata": {
        "id": "pioppZLmiSbG"
      }
    },
    {
      "cell_type": "code",
      "source": [
        "df_check.columns"
      ],
      "metadata": {
        "colab": {
          "base_uri": "https://localhost:8080/"
        },
        "id": "s4m2TZnuf4tW",
        "outputId": "431c07db-4633-401f-c5a8-8ae11158d8f3"
      },
      "execution_count": 61,
      "outputs": [
        {
          "output_type": "execute_result",
          "data": {
            "text/plain": [
              "Index(['UNITID', 'ADMCON1', 'ADMCON2', 'ADMCON3', 'ADMCON4', 'ADMCON5',\n",
              "       'ADMCON6', 'ADMCON7', 'ADMCON8', 'ADMCON9', 'XAPPLCN', 'APPLCN',\n",
              "       'XAPPLCNM', 'APPLCNM', 'XAPPLCNW', 'APPLCNW', 'XADMSSN', 'ADMSSN',\n",
              "       'XADMSSNM', 'ADMSSNM', 'XADMSSNW', 'ADMSSNW', 'XENRLT', 'ENRLT',\n",
              "       'XENRLM', 'ENRLM', 'XENRLW', 'ENRLW', 'XENRLFT', 'ENRLFT', 'XENRLFTM',\n",
              "       'ENRLFTM', 'XENRLFTW', 'ENRLFTW', 'XENRLPT', 'ENRLPT', 'XENRLPTM',\n",
              "       'ENRLPTM', 'XENRLPTW', 'ENRLPTW', 'XSATNUM', 'SATNUM', 'XSATPCT',\n",
              "       'SATPCT', 'XACTNUM', 'ACTNUM', 'XACTPCT', 'ACTPCT', 'XSATVR25',\n",
              "       'SATVR25', 'XSATVR75', 'SATVR75', 'XSATMT25', 'SATMT25', 'XSATMT75',\n",
              "       'SATMT75', 'XACTCM25', 'ACTCM25', 'XACTCM75', 'ACTCM75', 'XACTEN25',\n",
              "       'ACTEN25', 'XACTEN75', 'ACTEN75', 'XACTMT25', 'ACTMT25', 'XACTMT75',\n",
              "       'ACTMT75', 'INSTNM'],\n",
              "      dtype='object')"
            ]
          },
          "metadata": {},
          "execution_count": 61
        }
      ]
    },
    {
      "cell_type": "code",
      "source": [
        "df_check.drop(['XAPPLCN', 'XAPPLCNM', 'XAPPLCNW', 'XADMSSN', \n",
        "               'XADMSSNM', 'XADMSSNW', 'XENRLT', \n",
        "               'XENRLM', 'XENRLW', 'XENRLFT', 'XENRLFTM',\n",
        "               'XENRLFTW', 'XENRLPT', 'XENRLPTM',\n",
        "               'XENRLPTW', 'XSATNUM', 'XSATPCT',\n",
        "               'SATPCT', 'XACTNUM', 'XACTPCT', 'ACTPCT','XSATVR25',\n",
        "               'SATVR25', 'XSATVR75', 'SATVR75', 'XSATMT25', 'SATMT25', 'XSATMT75',\n",
        "               'SATMT75', 'XACTCM25', 'ACTCM25', 'XACTCM75', 'ACTCM75', 'XACTEN25',\n",
        "               'ACTEN25', 'XACTEN75', 'ACTEN75', 'XACTMT25', 'ACTMT25', 'XACTMT75',\n",
        "               'ACTMT75', 'INSTNM'], axis = 1, inplace=True)"
      ],
      "metadata": {
        "id": "atMuVdX1f4vm"
      },
      "execution_count": 62,
      "outputs": []
    },
    {
      "cell_type": "code",
      "source": [
        "df_check.shape"
      ],
      "metadata": {
        "colab": {
          "base_uri": "https://localhost:8080/"
        },
        "id": "2jxK0EBrf4x2",
        "outputId": "834ff981-f68f-4072-bf1a-a7ba6e68e935"
      },
      "execution_count": 63,
      "outputs": [
        {
          "output_type": "execute_result",
          "data": {
            "text/plain": [
              "(1852, 27)"
            ]
          },
          "metadata": {},
          "execution_count": 63
        }
      ]
    },
    {
      "cell_type": "code",
      "source": [
        "df_check.info()"
      ],
      "metadata": {
        "colab": {
          "base_uri": "https://localhost:8080/"
        },
        "id": "md7nyIQBf40d",
        "outputId": "041417dd-5481-4d83-bf56-0d8a11b6b36d"
      },
      "execution_count": 64,
      "outputs": [
        {
          "output_type": "stream",
          "name": "stdout",
          "text": [
            "<class 'pandas.core.frame.DataFrame'>\n",
            "Int64Index: 1852 entries, 0 to 1851\n",
            "Data columns (total 27 columns):\n",
            " #   Column   Non-Null Count  Dtype  \n",
            "---  ------   --------------  -----  \n",
            " 0   UNITID   1852 non-null   int64  \n",
            " 1   ADMCON1  1852 non-null   int64  \n",
            " 2   ADMCON2  1852 non-null   int64  \n",
            " 3   ADMCON3  1852 non-null   int64  \n",
            " 4   ADMCON4  1852 non-null   int64  \n",
            " 5   ADMCON5  1852 non-null   int64  \n",
            " 6   ADMCON6  1852 non-null   int64  \n",
            " 7   ADMCON7  1852 non-null   int64  \n",
            " 8   ADMCON8  1852 non-null   int64  \n",
            " 9   ADMCON9  1852 non-null   int64  \n",
            " 10  APPLCN   1852 non-null   int64  \n",
            " 11  APPLCNM  1852 non-null   int64  \n",
            " 12  APPLCNW  1852 non-null   int64  \n",
            " 13  ADMSSN   1852 non-null   float64\n",
            " 14  ADMSSNM  1852 non-null   float64\n",
            " 15  ADMSSNW  1852 non-null   float64\n",
            " 16  ENRLT    1852 non-null   float64\n",
            " 17  ENRLM    1852 non-null   float64\n",
            " 18  ENRLW    1852 non-null   float64\n",
            " 19  ENRLFT   1852 non-null   float64\n",
            " 20  ENRLFTM  1852 non-null   float64\n",
            " 21  ENRLFTW  1852 non-null   float64\n",
            " 22  ENRLPT   1852 non-null   float64\n",
            " 23  ENRLPTM  1852 non-null   float64\n",
            " 24  ENRLPTW  1852 non-null   float64\n",
            " 25  SATNUM   1852 non-null   int64  \n",
            " 26  ACTNUM   1852 non-null   int64  \n",
            "dtypes: float64(12), int64(15)\n",
            "memory usage: 405.1 KB\n"
          ]
        }
      ]
    },
    {
      "cell_type": "code",
      "source": [
        "df_check.columns"
      ],
      "metadata": {
        "colab": {
          "base_uri": "https://localhost:8080/"
        },
        "id": "r3r4XvPxofNX",
        "outputId": "6bb9b269-b9a0-4a4a-ff73-c65b4bd9a749"
      },
      "execution_count": 65,
      "outputs": [
        {
          "output_type": "execute_result",
          "data": {
            "text/plain": [
              "Index(['UNITID', 'ADMCON1', 'ADMCON2', 'ADMCON3', 'ADMCON4', 'ADMCON5',\n",
              "       'ADMCON6', 'ADMCON7', 'ADMCON8', 'ADMCON9', 'APPLCN', 'APPLCNM',\n",
              "       'APPLCNW', 'ADMSSN', 'ADMSSNM', 'ADMSSNW', 'ENRLT', 'ENRLM', 'ENRLW',\n",
              "       'ENRLFT', 'ENRLFTM', 'ENRLFTW', 'ENRLPT', 'ENRLPTM', 'ENRLPTW',\n",
              "       'SATNUM', 'ACTNUM'],\n",
              "      dtype='object')"
            ]
          },
          "metadata": {},
          "execution_count": 65
        }
      ]
    },
    {
      "cell_type": "code",
      "source": [
        "df_check =df_check.astype(int)"
      ],
      "metadata": {
        "id": "9-x9HaE8j8RX"
      },
      "execution_count": 66,
      "outputs": []
    },
    {
      "cell_type": "code",
      "source": [
        "df_check1 = df_check.copy(deep=False)\n",
        "df_check1.drop(['APPLCNM','APPLCNW', 'ADMSSNM', 'ADMSSNW', 'ENRLM', 'ENRLW',\n",
        "                           'ENRLFT', 'ENRLFTM', 'ENRLFTW', 'ENRLPT', 'ENRLPTM', 'ENRLPTW',\n",
        "                           ], axis = 1, inplace = True)\n",
        "df_check1\n",
        "# df_check1a=df_check1.copy(deep=False)"
      ],
      "metadata": {
        "colab": {
          "base_uri": "https://localhost:8080/",
          "height": 424
        },
        "id": "ZKGWJ_pboJO8",
        "outputId": "b0d5b056-1ab6-4800-8d9f-b38dfa408cdc"
      },
      "execution_count": 67,
      "outputs": [
        {
          "output_type": "execute_result",
          "data": {
            "text/html": [
              "\n",
              "  <div id=\"df-289d6077-83d7-4d7d-83b4-6e53ed8e4f96\">\n",
              "    <div class=\"colab-df-container\">\n",
              "      <div>\n",
              "<style scoped>\n",
              "    .dataframe tbody tr th:only-of-type {\n",
              "        vertical-align: middle;\n",
              "    }\n",
              "\n",
              "    .dataframe tbody tr th {\n",
              "        vertical-align: top;\n",
              "    }\n",
              "\n",
              "    .dataframe thead th {\n",
              "        text-align: right;\n",
              "    }\n",
              "</style>\n",
              "<table border=\"1\" class=\"dataframe\">\n",
              "  <thead>\n",
              "    <tr style=\"text-align: right;\">\n",
              "      <th></th>\n",
              "      <th>UNITID</th>\n",
              "      <th>ADMCON1</th>\n",
              "      <th>ADMCON2</th>\n",
              "      <th>ADMCON3</th>\n",
              "      <th>ADMCON4</th>\n",
              "      <th>ADMCON5</th>\n",
              "      <th>ADMCON6</th>\n",
              "      <th>ADMCON7</th>\n",
              "      <th>ADMCON8</th>\n",
              "      <th>ADMCON9</th>\n",
              "      <th>APPLCN</th>\n",
              "      <th>ADMSSN</th>\n",
              "      <th>ENRLT</th>\n",
              "      <th>SATNUM</th>\n",
              "      <th>ACTNUM</th>\n",
              "    </tr>\n",
              "  </thead>\n",
              "  <tbody>\n",
              "    <tr>\n",
              "      <th>0</th>\n",
              "      <td>100654</td>\n",
              "      <td>1</td>\n",
              "      <td>2</td>\n",
              "      <td>1</td>\n",
              "      <td>2</td>\n",
              "      <td>3</td>\n",
              "      <td>2</td>\n",
              "      <td>1</td>\n",
              "      <td>1</td>\n",
              "      <td>3</td>\n",
              "      <td>9855</td>\n",
              "      <td>8835</td>\n",
              "      <td>1664</td>\n",
              "      <td>1</td>\n",
              "      <td>1</td>\n",
              "    </tr>\n",
              "    <tr>\n",
              "      <th>1</th>\n",
              "      <td>100663</td>\n",
              "      <td>1</td>\n",
              "      <td>3</td>\n",
              "      <td>1</td>\n",
              "      <td>1</td>\n",
              "      <td>3</td>\n",
              "      <td>3</td>\n",
              "      <td>1</td>\n",
              "      <td>3</td>\n",
              "      <td>3</td>\n",
              "      <td>10391</td>\n",
              "      <td>8375</td>\n",
              "      <td>2154</td>\n",
              "      <td>1</td>\n",
              "      <td>1</td>\n",
              "    </tr>\n",
              "    <tr>\n",
              "      <th>2</th>\n",
              "      <td>100706</td>\n",
              "      <td>1</td>\n",
              "      <td>2</td>\n",
              "      <td>1</td>\n",
              "      <td>3</td>\n",
              "      <td>3</td>\n",
              "      <td>2</td>\n",
              "      <td>1</td>\n",
              "      <td>1</td>\n",
              "      <td>3</td>\n",
              "      <td>5793</td>\n",
              "      <td>4467</td>\n",
              "      <td>1345</td>\n",
              "      <td>1</td>\n",
              "      <td>1</td>\n",
              "    </tr>\n",
              "    <tr>\n",
              "      <th>3</th>\n",
              "      <td>100724</td>\n",
              "      <td>1</td>\n",
              "      <td>3</td>\n",
              "      <td>2</td>\n",
              "      <td>3</td>\n",
              "      <td>3</td>\n",
              "      <td>3</td>\n",
              "      <td>1</td>\n",
              "      <td>1</td>\n",
              "      <td>3</td>\n",
              "      <td>7027</td>\n",
              "      <td>6948</td>\n",
              "      <td>975</td>\n",
              "      <td>1</td>\n",
              "      <td>1</td>\n",
              "    </tr>\n",
              "    <tr>\n",
              "      <th>4</th>\n",
              "      <td>100751</td>\n",
              "      <td>1</td>\n",
              "      <td>2</td>\n",
              "      <td>1</td>\n",
              "      <td>1</td>\n",
              "      <td>3</td>\n",
              "      <td>3</td>\n",
              "      <td>1</td>\n",
              "      <td>1</td>\n",
              "      <td>3</td>\n",
              "      <td>39560</td>\n",
              "      <td>31804</td>\n",
              "      <td>6507</td>\n",
              "      <td>1</td>\n",
              "      <td>1</td>\n",
              "    </tr>\n",
              "    <tr>\n",
              "      <th>...</th>\n",
              "      <td>...</td>\n",
              "      <td>...</td>\n",
              "      <td>...</td>\n",
              "      <td>...</td>\n",
              "      <td>...</td>\n",
              "      <td>...</td>\n",
              "      <td>...</td>\n",
              "      <td>...</td>\n",
              "      <td>...</td>\n",
              "      <td>...</td>\n",
              "      <td>...</td>\n",
              "      <td>...</td>\n",
              "      <td>...</td>\n",
              "      <td>...</td>\n",
              "      <td>...</td>\n",
              "    </tr>\n",
              "    <tr>\n",
              "      <th>1847</th>\n",
              "      <td>494171</td>\n",
              "      <td>1</td>\n",
              "      <td>3</td>\n",
              "      <td>1</td>\n",
              "      <td>3</td>\n",
              "      <td>3</td>\n",
              "      <td>3</td>\n",
              "      <td>3</td>\n",
              "      <td>3</td>\n",
              "      <td>1</td>\n",
              "      <td>41</td>\n",
              "      <td>39</td>\n",
              "      <td>22</td>\n",
              "      <td>0</td>\n",
              "      <td>0</td>\n",
              "    </tr>\n",
              "    <tr>\n",
              "      <th>1848</th>\n",
              "      <td>494278</td>\n",
              "      <td>1</td>\n",
              "      <td>3</td>\n",
              "      <td>1</td>\n",
              "      <td>3</td>\n",
              "      <td>3</td>\n",
              "      <td>2</td>\n",
              "      <td>3</td>\n",
              "      <td>3</td>\n",
              "      <td>3</td>\n",
              "      <td>23</td>\n",
              "      <td>18</td>\n",
              "      <td>16</td>\n",
              "      <td>0</td>\n",
              "      <td>0</td>\n",
              "    </tr>\n",
              "    <tr>\n",
              "      <th>1849</th>\n",
              "      <td>494287</td>\n",
              "      <td>1</td>\n",
              "      <td>3</td>\n",
              "      <td>1</td>\n",
              "      <td>3</td>\n",
              "      <td>3</td>\n",
              "      <td>2</td>\n",
              "      <td>3</td>\n",
              "      <td>3</td>\n",
              "      <td>3</td>\n",
              "      <td>65</td>\n",
              "      <td>44</td>\n",
              "      <td>37</td>\n",
              "      <td>0</td>\n",
              "      <td>0</td>\n",
              "    </tr>\n",
              "    <tr>\n",
              "      <th>1850</th>\n",
              "      <td>494685</td>\n",
              "      <td>1</td>\n",
              "      <td>3</td>\n",
              "      <td>1</td>\n",
              "      <td>3</td>\n",
              "      <td>1</td>\n",
              "      <td>3</td>\n",
              "      <td>2</td>\n",
              "      <td>2</td>\n",
              "      <td>3</td>\n",
              "      <td>85</td>\n",
              "      <td>68</td>\n",
              "      <td>60</td>\n",
              "      <td>0</td>\n",
              "      <td>0</td>\n",
              "    </tr>\n",
              "    <tr>\n",
              "      <th>1851</th>\n",
              "      <td>494807</td>\n",
              "      <td>1</td>\n",
              "      <td>3</td>\n",
              "      <td>1</td>\n",
              "      <td>1</td>\n",
              "      <td>1</td>\n",
              "      <td>2</td>\n",
              "      <td>1</td>\n",
              "      <td>3</td>\n",
              "      <td>2</td>\n",
              "      <td>35</td>\n",
              "      <td>18</td>\n",
              "      <td>18</td>\n",
              "      <td>1</td>\n",
              "      <td>1</td>\n",
              "    </tr>\n",
              "  </tbody>\n",
              "</table>\n",
              "<p>1852 rows × 15 columns</p>\n",
              "</div>\n",
              "      <button class=\"colab-df-convert\" onclick=\"convertToInteractive('df-289d6077-83d7-4d7d-83b4-6e53ed8e4f96')\"\n",
              "              title=\"Convert this dataframe to an interactive table.\"\n",
              "              style=\"display:none;\">\n",
              "        \n",
              "  <svg xmlns=\"http://www.w3.org/2000/svg\" height=\"24px\"viewBox=\"0 0 24 24\"\n",
              "       width=\"24px\">\n",
              "    <path d=\"M0 0h24v24H0V0z\" fill=\"none\"/>\n",
              "    <path d=\"M18.56 5.44l.94 2.06.94-2.06 2.06-.94-2.06-.94-.94-2.06-.94 2.06-2.06.94zm-11 1L8.5 8.5l.94-2.06 2.06-.94-2.06-.94L8.5 2.5l-.94 2.06-2.06.94zm10 10l.94 2.06.94-2.06 2.06-.94-2.06-.94-.94-2.06-.94 2.06-2.06.94z\"/><path d=\"M17.41 7.96l-1.37-1.37c-.4-.4-.92-.59-1.43-.59-.52 0-1.04.2-1.43.59L10.3 9.45l-7.72 7.72c-.78.78-.78 2.05 0 2.83L4 21.41c.39.39.9.59 1.41.59.51 0 1.02-.2 1.41-.59l7.78-7.78 2.81-2.81c.8-.78.8-2.07 0-2.86zM5.41 20L4 18.59l7.72-7.72 1.47 1.35L5.41 20z\"/>\n",
              "  </svg>\n",
              "      </button>\n",
              "      \n",
              "  <style>\n",
              "    .colab-df-container {\n",
              "      display:flex;\n",
              "      flex-wrap:wrap;\n",
              "      gap: 12px;\n",
              "    }\n",
              "\n",
              "    .colab-df-convert {\n",
              "      background-color: #E8F0FE;\n",
              "      border: none;\n",
              "      border-radius: 50%;\n",
              "      cursor: pointer;\n",
              "      display: none;\n",
              "      fill: #1967D2;\n",
              "      height: 32px;\n",
              "      padding: 0 0 0 0;\n",
              "      width: 32px;\n",
              "    }\n",
              "\n",
              "    .colab-df-convert:hover {\n",
              "      background-color: #E2EBFA;\n",
              "      box-shadow: 0px 1px 2px rgba(60, 64, 67, 0.3), 0px 1px 3px 1px rgba(60, 64, 67, 0.15);\n",
              "      fill: #174EA6;\n",
              "    }\n",
              "\n",
              "    [theme=dark] .colab-df-convert {\n",
              "      background-color: #3B4455;\n",
              "      fill: #D2E3FC;\n",
              "    }\n",
              "\n",
              "    [theme=dark] .colab-df-convert:hover {\n",
              "      background-color: #434B5C;\n",
              "      box-shadow: 0px 1px 3px 1px rgba(0, 0, 0, 0.15);\n",
              "      filter: drop-shadow(0px 1px 2px rgba(0, 0, 0, 0.3));\n",
              "      fill: #FFFFFF;\n",
              "    }\n",
              "  </style>\n",
              "\n",
              "      <script>\n",
              "        const buttonEl =\n",
              "          document.querySelector('#df-289d6077-83d7-4d7d-83b4-6e53ed8e4f96 button.colab-df-convert');\n",
              "        buttonEl.style.display =\n",
              "          google.colab.kernel.accessAllowed ? 'block' : 'none';\n",
              "\n",
              "        async function convertToInteractive(key) {\n",
              "          const element = document.querySelector('#df-289d6077-83d7-4d7d-83b4-6e53ed8e4f96');\n",
              "          const dataTable =\n",
              "            await google.colab.kernel.invokeFunction('convertToInteractive',\n",
              "                                                     [key], {});\n",
              "          if (!dataTable) return;\n",
              "\n",
              "          const docLinkHtml = 'Like what you see? Visit the ' +\n",
              "            '<a target=\"_blank\" href=https://colab.research.google.com/notebooks/data_table.ipynb>data table notebook</a>'\n",
              "            + ' to learn more about interactive tables.';\n",
              "          element.innerHTML = '';\n",
              "          dataTable['output_type'] = 'display_data';\n",
              "          await google.colab.output.renderOutput(dataTable, element);\n",
              "          const docLink = document.createElement('div');\n",
              "          docLink.innerHTML = docLinkHtml;\n",
              "          element.appendChild(docLink);\n",
              "        }\n",
              "      </script>\n",
              "    </div>\n",
              "  </div>\n",
              "  "
            ],
            "text/plain": [
              "      UNITID  ADMCON1  ADMCON2  ADMCON3  ADMCON4  ADMCON5  ADMCON6  ADMCON7  \\\n",
              "0     100654        1        2        1        2        3        2        1   \n",
              "1     100663        1        3        1        1        3        3        1   \n",
              "2     100706        1        2        1        3        3        2        1   \n",
              "3     100724        1        3        2        3        3        3        1   \n",
              "4     100751        1        2        1        1        3        3        1   \n",
              "...      ...      ...      ...      ...      ...      ...      ...      ...   \n",
              "1847  494171        1        3        1        3        3        3        3   \n",
              "1848  494278        1        3        1        3        3        2        3   \n",
              "1849  494287        1        3        1        3        3        2        3   \n",
              "1850  494685        1        3        1        3        1        3        2   \n",
              "1851  494807        1        3        1        1        1        2        1   \n",
              "\n",
              "      ADMCON8  ADMCON9  APPLCN  ADMSSN  ENRLT  SATNUM  ACTNUM  \n",
              "0           1        3    9855    8835   1664       1       1  \n",
              "1           3        3   10391    8375   2154       1       1  \n",
              "2           1        3    5793    4467   1345       1       1  \n",
              "3           1        3    7027    6948    975       1       1  \n",
              "4           1        3   39560   31804   6507       1       1  \n",
              "...       ...      ...     ...     ...    ...     ...     ...  \n",
              "1847        3        1      41      39     22       0       0  \n",
              "1848        3        3      23      18     16       0       0  \n",
              "1849        3        3      65      44     37       0       0  \n",
              "1850        2        3      85      68     60       0       0  \n",
              "1851        3        2      35      18     18       1       1  \n",
              "\n",
              "[1852 rows x 15 columns]"
            ]
          },
          "metadata": {},
          "execution_count": 67
        }
      ]
    },
    {
      "cell_type": "markdown",
      "source": [
        "### The df is cleaned and we do not have any missing values for the variables we have kept. \n",
        "\n",
        "### We will now merge this DF with our previously merged data  - However we must keep in mind that this data referes ONLY to Institutions NOT adopting Open Enrollment Policies  - a subset of the short-listed institutions we have previously selected \n",
        "\n",
        "### Merging the Dfs will insert some null values - we will need to decide how to handle these next based on the information shared with us in the dictionary as well\n",
        "\n"
      ],
      "metadata": {
        "id": "4g65FnNfllIL"
      }
    },
    {
      "cell_type": "code",
      "source": [
        "df_merged_all = pd.merge(df_merged_two, df_check1, how='left'  , left_on='UNITID', right_on='UNITID')\n",
        "df_merged_all.head()"
      ],
      "metadata": {
        "colab": {
          "base_uri": "https://localhost:8080/",
          "height": 279
        },
        "id": "VEodcunq6A0G",
        "outputId": "6e054d91-ce86-4bc1-81a3-6f0f0441d132"
      },
      "execution_count": 68,
      "outputs": [
        {
          "output_type": "execute_result",
          "data": {
            "text/html": [
              "\n",
              "  <div id=\"df-c9d2c28e-2aae-4fb7-b252-8303ee24981f\">\n",
              "    <div class=\"colab-df-container\">\n",
              "      <div>\n",
              "<style scoped>\n",
              "    .dataframe tbody tr th:only-of-type {\n",
              "        vertical-align: middle;\n",
              "    }\n",
              "\n",
              "    .dataframe tbody tr th {\n",
              "        vertical-align: top;\n",
              "    }\n",
              "\n",
              "    .dataframe thead th {\n",
              "        text-align: right;\n",
              "    }\n",
              "</style>\n",
              "<table border=\"1\" class=\"dataframe\">\n",
              "  <thead>\n",
              "    <tr style=\"text-align: right;\">\n",
              "      <th></th>\n",
              "      <th>Unnamed: 0</th>\n",
              "      <th>UNITID</th>\n",
              "      <th>INSTNM</th>\n",
              "      <th>STABBR</th>\n",
              "      <th>OBEREG</th>\n",
              "      <th>HLOFFER</th>\n",
              "      <th>GROFFER</th>\n",
              "      <th>HDEGOFFR</th>\n",
              "      <th>HBCU</th>\n",
              "      <th>LOCALE</th>\n",
              "      <th>...</th>\n",
              "      <th>ADMCON5</th>\n",
              "      <th>ADMCON6</th>\n",
              "      <th>ADMCON7</th>\n",
              "      <th>ADMCON8</th>\n",
              "      <th>ADMCON9</th>\n",
              "      <th>APPLCN</th>\n",
              "      <th>ADMSSN</th>\n",
              "      <th>ENRLT</th>\n",
              "      <th>SATNUM</th>\n",
              "      <th>ACTNUM</th>\n",
              "    </tr>\n",
              "  </thead>\n",
              "  <tbody>\n",
              "    <tr>\n",
              "      <th>0</th>\n",
              "      <td>0</td>\n",
              "      <td>100654</td>\n",
              "      <td>Alabama A &amp; M University</td>\n",
              "      <td>AL</td>\n",
              "      <td>5</td>\n",
              "      <td>9</td>\n",
              "      <td>1</td>\n",
              "      <td>12</td>\n",
              "      <td>1</td>\n",
              "      <td>12</td>\n",
              "      <td>...</td>\n",
              "      <td>3.0</td>\n",
              "      <td>2.0</td>\n",
              "      <td>1.0</td>\n",
              "      <td>1.0</td>\n",
              "      <td>3.0</td>\n",
              "      <td>9855.0</td>\n",
              "      <td>8835.0</td>\n",
              "      <td>1664.0</td>\n",
              "      <td>1.0</td>\n",
              "      <td>1.0</td>\n",
              "    </tr>\n",
              "    <tr>\n",
              "      <th>1</th>\n",
              "      <td>1</td>\n",
              "      <td>100663</td>\n",
              "      <td>University of Alabama at Birmingham</td>\n",
              "      <td>AL</td>\n",
              "      <td>5</td>\n",
              "      <td>9</td>\n",
              "      <td>1</td>\n",
              "      <td>11</td>\n",
              "      <td>2</td>\n",
              "      <td>12</td>\n",
              "      <td>...</td>\n",
              "      <td>3.0</td>\n",
              "      <td>3.0</td>\n",
              "      <td>1.0</td>\n",
              "      <td>3.0</td>\n",
              "      <td>3.0</td>\n",
              "      <td>10391.0</td>\n",
              "      <td>8375.0</td>\n",
              "      <td>2154.0</td>\n",
              "      <td>1.0</td>\n",
              "      <td>1.0</td>\n",
              "    </tr>\n",
              "    <tr>\n",
              "      <th>2</th>\n",
              "      <td>2</td>\n",
              "      <td>100690</td>\n",
              "      <td>Amridge University</td>\n",
              "      <td>AL</td>\n",
              "      <td>5</td>\n",
              "      <td>9</td>\n",
              "      <td>1</td>\n",
              "      <td>12</td>\n",
              "      <td>2</td>\n",
              "      <td>12</td>\n",
              "      <td>...</td>\n",
              "      <td>NaN</td>\n",
              "      <td>NaN</td>\n",
              "      <td>NaN</td>\n",
              "      <td>NaN</td>\n",
              "      <td>NaN</td>\n",
              "      <td>NaN</td>\n",
              "      <td>NaN</td>\n",
              "      <td>NaN</td>\n",
              "      <td>NaN</td>\n",
              "      <td>NaN</td>\n",
              "    </tr>\n",
              "    <tr>\n",
              "      <th>3</th>\n",
              "      <td>3</td>\n",
              "      <td>100706</td>\n",
              "      <td>University of Alabama in Huntsville</td>\n",
              "      <td>AL</td>\n",
              "      <td>5</td>\n",
              "      <td>9</td>\n",
              "      <td>1</td>\n",
              "      <td>11</td>\n",
              "      <td>2</td>\n",
              "      <td>12</td>\n",
              "      <td>...</td>\n",
              "      <td>3.0</td>\n",
              "      <td>2.0</td>\n",
              "      <td>1.0</td>\n",
              "      <td>1.0</td>\n",
              "      <td>3.0</td>\n",
              "      <td>5793.0</td>\n",
              "      <td>4467.0</td>\n",
              "      <td>1345.0</td>\n",
              "      <td>1.0</td>\n",
              "      <td>1.0</td>\n",
              "    </tr>\n",
              "    <tr>\n",
              "      <th>4</th>\n",
              "      <td>4</td>\n",
              "      <td>100724</td>\n",
              "      <td>Alabama State University</td>\n",
              "      <td>AL</td>\n",
              "      <td>5</td>\n",
              "      <td>9</td>\n",
              "      <td>1</td>\n",
              "      <td>11</td>\n",
              "      <td>1</td>\n",
              "      <td>12</td>\n",
              "      <td>...</td>\n",
              "      <td>3.0</td>\n",
              "      <td>3.0</td>\n",
              "      <td>1.0</td>\n",
              "      <td>1.0</td>\n",
              "      <td>3.0</td>\n",
              "      <td>7027.0</td>\n",
              "      <td>6948.0</td>\n",
              "      <td>975.0</td>\n",
              "      <td>1.0</td>\n",
              "      <td>1.0</td>\n",
              "    </tr>\n",
              "  </tbody>\n",
              "</table>\n",
              "<p>5 rows × 98 columns</p>\n",
              "</div>\n",
              "      <button class=\"colab-df-convert\" onclick=\"convertToInteractive('df-c9d2c28e-2aae-4fb7-b252-8303ee24981f')\"\n",
              "              title=\"Convert this dataframe to an interactive table.\"\n",
              "              style=\"display:none;\">\n",
              "        \n",
              "  <svg xmlns=\"http://www.w3.org/2000/svg\" height=\"24px\"viewBox=\"0 0 24 24\"\n",
              "       width=\"24px\">\n",
              "    <path d=\"M0 0h24v24H0V0z\" fill=\"none\"/>\n",
              "    <path d=\"M18.56 5.44l.94 2.06.94-2.06 2.06-.94-2.06-.94-.94-2.06-.94 2.06-2.06.94zm-11 1L8.5 8.5l.94-2.06 2.06-.94-2.06-.94L8.5 2.5l-.94 2.06-2.06.94zm10 10l.94 2.06.94-2.06 2.06-.94-2.06-.94-.94-2.06-.94 2.06-2.06.94z\"/><path d=\"M17.41 7.96l-1.37-1.37c-.4-.4-.92-.59-1.43-.59-.52 0-1.04.2-1.43.59L10.3 9.45l-7.72 7.72c-.78.78-.78 2.05 0 2.83L4 21.41c.39.39.9.59 1.41.59.51 0 1.02-.2 1.41-.59l7.78-7.78 2.81-2.81c.8-.78.8-2.07 0-2.86zM5.41 20L4 18.59l7.72-7.72 1.47 1.35L5.41 20z\"/>\n",
              "  </svg>\n",
              "      </button>\n",
              "      \n",
              "  <style>\n",
              "    .colab-df-container {\n",
              "      display:flex;\n",
              "      flex-wrap:wrap;\n",
              "      gap: 12px;\n",
              "    }\n",
              "\n",
              "    .colab-df-convert {\n",
              "      background-color: #E8F0FE;\n",
              "      border: none;\n",
              "      border-radius: 50%;\n",
              "      cursor: pointer;\n",
              "      display: none;\n",
              "      fill: #1967D2;\n",
              "      height: 32px;\n",
              "      padding: 0 0 0 0;\n",
              "      width: 32px;\n",
              "    }\n",
              "\n",
              "    .colab-df-convert:hover {\n",
              "      background-color: #E2EBFA;\n",
              "      box-shadow: 0px 1px 2px rgba(60, 64, 67, 0.3), 0px 1px 3px 1px rgba(60, 64, 67, 0.15);\n",
              "      fill: #174EA6;\n",
              "    }\n",
              "\n",
              "    [theme=dark] .colab-df-convert {\n",
              "      background-color: #3B4455;\n",
              "      fill: #D2E3FC;\n",
              "    }\n",
              "\n",
              "    [theme=dark] .colab-df-convert:hover {\n",
              "      background-color: #434B5C;\n",
              "      box-shadow: 0px 1px 3px 1px rgba(0, 0, 0, 0.15);\n",
              "      filter: drop-shadow(0px 1px 2px rgba(0, 0, 0, 0.3));\n",
              "      fill: #FFFFFF;\n",
              "    }\n",
              "  </style>\n",
              "\n",
              "      <script>\n",
              "        const buttonEl =\n",
              "          document.querySelector('#df-c9d2c28e-2aae-4fb7-b252-8303ee24981f button.colab-df-convert');\n",
              "        buttonEl.style.display =\n",
              "          google.colab.kernel.accessAllowed ? 'block' : 'none';\n",
              "\n",
              "        async function convertToInteractive(key) {\n",
              "          const element = document.querySelector('#df-c9d2c28e-2aae-4fb7-b252-8303ee24981f');\n",
              "          const dataTable =\n",
              "            await google.colab.kernel.invokeFunction('convertToInteractive',\n",
              "                                                     [key], {});\n",
              "          if (!dataTable) return;\n",
              "\n",
              "          const docLinkHtml = 'Like what you see? Visit the ' +\n",
              "            '<a target=\"_blank\" href=https://colab.research.google.com/notebooks/data_table.ipynb>data table notebook</a>'\n",
              "            + ' to learn more about interactive tables.';\n",
              "          element.innerHTML = '';\n",
              "          dataTable['output_type'] = 'display_data';\n",
              "          await google.colab.output.renderOutput(dataTable, element);\n",
              "          const docLink = document.createElement('div');\n",
              "          docLink.innerHTML = docLinkHtml;\n",
              "          element.appendChild(docLink);\n",
              "        }\n",
              "      </script>\n",
              "    </div>\n",
              "  </div>\n",
              "  "
            ],
            "text/plain": [
              "   Unnamed: 0  UNITID                               INSTNM STABBR  OBEREG  \\\n",
              "0           0  100654             Alabama A & M University     AL       5   \n",
              "1           1  100663  University of Alabama at Birmingham     AL       5   \n",
              "2           2  100690                   Amridge University     AL       5   \n",
              "3           3  100706  University of Alabama in Huntsville     AL       5   \n",
              "4           4  100724             Alabama State University     AL       5   \n",
              "\n",
              "   HLOFFER  GROFFER  HDEGOFFR  HBCU  LOCALE  ...  ADMCON5  ADMCON6  ADMCON7  \\\n",
              "0        9        1        12     1      12  ...      3.0      2.0      1.0   \n",
              "1        9        1        11     2      12  ...      3.0      3.0      1.0   \n",
              "2        9        1        12     2      12  ...      NaN      NaN      NaN   \n",
              "3        9        1        11     2      12  ...      3.0      2.0      1.0   \n",
              "4        9        1        11     1      12  ...      3.0      3.0      1.0   \n",
              "\n",
              "   ADMCON8  ADMCON9   APPLCN  ADMSSN   ENRLT  SATNUM  ACTNUM  \n",
              "0      1.0      3.0   9855.0  8835.0  1664.0     1.0     1.0  \n",
              "1      3.0      3.0  10391.0  8375.0  2154.0     1.0     1.0  \n",
              "2      NaN      NaN      NaN     NaN     NaN     NaN     NaN  \n",
              "3      1.0      3.0   5793.0  4467.0  1345.0     1.0     1.0  \n",
              "4      1.0      3.0   7027.0  6948.0   975.0     1.0     1.0  \n",
              "\n",
              "[5 rows x 98 columns]"
            ]
          },
          "metadata": {},
          "execution_count": 68
        }
      ]
    },
    {
      "cell_type": "markdown",
      "source": [
        "### Null Values start to appear with Admission Variables pertaining to Institutions that do NOT adopt an Open Enrollemnt Policy \n",
        "\n",
        "### The following is the meaning of the Admission Policy-specific Codes (as per the data dictionary adm2020.xls):\n",
        "\n",
        "### CODES: \n",
        "### 1\tRequired\n",
        "### 5\tConsidered but not required\n",
        "### 2\tRecommended\n",
        "### 3\tNeither required nor recommended\n",
        "\n",
        "### This being the case, we can safely substitute the \"NULL\" values with  code 3 = Neither Required Nor Recommended, as it  is the closest to aligning with an Opne Admissions Policy "
      ],
      "metadata": {
        "id": "j4vwYgutRBuY"
      }
    },
    {
      "cell_type": "code",
      "source": [
        "df_merged_all.columns"
      ],
      "metadata": {
        "colab": {
          "base_uri": "https://localhost:8080/"
        },
        "id": "RVkx8p5TSy7M",
        "outputId": "830f0fa1-bc2b-49f4-ead1-7632c671b462"
      },
      "execution_count": 69,
      "outputs": [
        {
          "output_type": "execute_result",
          "data": {
            "text/plain": [
              "Index(['Unnamed: 0', 'UNITID', 'INSTNM', 'STABBR', 'OBEREG', 'HLOFFER',\n",
              "       'GROFFER', 'HDEGOFFR', 'HBCU', 'LOCALE', 'POSTSEC', 'INSTCAT',\n",
              "       'INSTSIZE', 'CNTLAFFI', 'LEVEL3', 'LEVEL5', 'CALSYS', 'FT_UG',\n",
              "       'FT_FTUG', 'PT_UG', 'PT_FTUG', 'OPENADMP', 'VET1', 'VET2', 'CREDITS1',\n",
              "       'CREDITS2', 'CREDITS3', 'CREDITS4', 'SLO5', 'SLO6', 'SLO7', 'SLO83',\n",
              "       'YRSCOLL', 'STUSRV1', 'STUSRV2', 'STUSRV3', 'STUSRV4', 'STUSRV8',\n",
              "       'STUSRV9', 'LIBRES1', 'TUITPL', 'TUITPL1', 'TUITPL2', 'TUITPL3',\n",
              "       'TUITPL4', 'DSTNUGC', 'DSTNUGP', 'DSTNCED1', 'ALLONCAM', 'TUITVARY',\n",
              "       'ROOM', 'BOARD', 'APPLFEEU', 'RMANDBRDAMT', 'EFYTOTLT', 'EFYTOTLM',\n",
              "       'EFYTOTLW', 'EFYAIANT', 'EFYAIANM', 'EFYAIANW', 'EFYASIAT', 'EFYASIAM',\n",
              "       'EFYASIAW', 'EFYBKAAT', 'EFYBKAAM', 'EFYBKAAW', 'EFYHISPT', 'EFYHISPM',\n",
              "       'EFYHISPW', 'EFYNHPIT', 'EFYNHPIM', 'EFYNHPIW', 'EFYWHITT', 'EFYWHITM',\n",
              "       'EFYWHITW', 'EFY2MORT', 'EFY2MORM', 'EFY2MORW', 'EFYUNKNT', 'EFYUNKNM',\n",
              "       'EFYUNKNW', 'EFYNRALT', 'EFYNRALM', 'EFYNRALW', 'ADMCON1', 'ADMCON2',\n",
              "       'ADMCON3', 'ADMCON4', 'ADMCON5', 'ADMCON6', 'ADMCON7', 'ADMCON8',\n",
              "       'ADMCON9', 'APPLCN', 'ADMSSN', 'ENRLT', 'SATNUM', 'ACTNUM'],\n",
              "      dtype='object')"
            ]
          },
          "metadata": {},
          "execution_count": 69
        }
      ]
    },
    {
      "cell_type": "code",
      "source": [
        "cols =['UNITID','ADMCON1', 'ADMCON2', 'ADMCON3', 'ADMCON4', \n",
        "       'ADMCON5', 'ADMCON6', 'ADMCON7', 'ADMCON8', 'ADMCON9',\n",
        "       'APPLCN', 'ADMSSN', 'ENRLT', 'SATNUM', 'ACTNUM']\n",
        "df_merged_all[cols].info()"
      ],
      "metadata": {
        "colab": {
          "base_uri": "https://localhost:8080/"
        },
        "id": "kdX6p3OETtvN",
        "outputId": "29d1afd4-8852-4a98-ef50-7ab1540c5755"
      },
      "execution_count": 70,
      "outputs": [
        {
          "output_type": "stream",
          "name": "stdout",
          "text": [
            "<class 'pandas.core.frame.DataFrame'>\n",
            "Int64Index: 3547 entries, 0 to 3546\n",
            "Data columns (total 15 columns):\n",
            " #   Column   Non-Null Count  Dtype  \n",
            "---  ------   --------------  -----  \n",
            " 0   UNITID   3547 non-null   int64  \n",
            " 1   ADMCON1  1828 non-null   float64\n",
            " 2   ADMCON2  1828 non-null   float64\n",
            " 3   ADMCON3  1828 non-null   float64\n",
            " 4   ADMCON4  1828 non-null   float64\n",
            " 5   ADMCON5  1828 non-null   float64\n",
            " 6   ADMCON6  1828 non-null   float64\n",
            " 7   ADMCON7  1828 non-null   float64\n",
            " 8   ADMCON8  1828 non-null   float64\n",
            " 9   ADMCON9  1828 non-null   float64\n",
            " 10  APPLCN   1828 non-null   float64\n",
            " 11  ADMSSN   1828 non-null   float64\n",
            " 12  ENRLT    1828 non-null   float64\n",
            " 13  SATNUM   1828 non-null   float64\n",
            " 14  ACTNUM   1828 non-null   float64\n",
            "dtypes: float64(14), int64(1)\n",
            "memory usage: 443.4 KB\n"
          ]
        }
      ]
    },
    {
      "cell_type": "code",
      "source": [
        "df_merged_all['ADMCON1'].unique()"
      ],
      "metadata": {
        "colab": {
          "base_uri": "https://localhost:8080/"
        },
        "id": "wU8J4_EsWsBB",
        "outputId": "e7fe6b5c-51a8-4a15-b2a8-2b176913c474"
      },
      "execution_count": 71,
      "outputs": [
        {
          "output_type": "execute_result",
          "data": {
            "text/plain": [
              "array([ 1., nan,  2.,  5.,  3.])"
            ]
          },
          "metadata": {},
          "execution_count": 71
        }
      ]
    },
    {
      "cell_type": "code",
      "source": [
        "df_merged_all['ADMCON2'].unique()"
      ],
      "metadata": {
        "colab": {
          "base_uri": "https://localhost:8080/"
        },
        "id": "4Nr5xZRNXDYJ",
        "outputId": "aa1f3efb-88b1-4a35-8782-fd2bad632362"
      },
      "execution_count": 72,
      "outputs": [
        {
          "output_type": "execute_result",
          "data": {
            "text/plain": [
              "array([ 2.,  3., nan,  5.,  1.])"
            ]
          },
          "metadata": {},
          "execution_count": 72
        }
      ]
    },
    {
      "cell_type": "code",
      "source": [
        "mask = df_merged_all['ADMCON1'].isna()\n",
        "df_merged_all.loc[mask, ['ADMCON1', 'ADMCON2', 'ADMCON3', 'ADMCON4', \n",
        "                         'ADMCON5', 'ADMCON6', 'ADMCON7', 'ADMCON8', 'ADMCON9',\n",
        "                         'APPLCN', 'ADMSSN', 'ENRLT', 'SATNUM', 'ACTNUM' \n",
        "                    ]] = df_merged_all.loc[mask, ['ADMCON1', 'ADMCON2', 'ADMCON3', 'ADMCON4', \n",
        "                         'ADMCON5', 'ADMCON6', 'ADMCON7', 'ADMCON8', 'ADMCON9',\n",
        "                         'APPLCN', 'ADMSSN', 'ENRLT', 'SATNUM', 'ACTNUM' ]].fillna(value=3.0)\n",
        "\n",
        "# df_merged_all.loc           \n",
        "# df1=df.loc[lambda df:(df['DEATHYR']!=2020),:]     "
      ],
      "metadata": {
        "id": "Erha7COoXDj7"
      },
      "execution_count": 73,
      "outputs": []
    },
    {
      "cell_type": "code",
      "source": [
        "df_merged_all[cols].info()"
      ],
      "metadata": {
        "colab": {
          "base_uri": "https://localhost:8080/"
        },
        "id": "Is5yJ6NQXskK",
        "outputId": "a2d2bfd5-6fa6-41ca-ed5f-7837509f6167"
      },
      "execution_count": 74,
      "outputs": [
        {
          "output_type": "stream",
          "name": "stdout",
          "text": [
            "<class 'pandas.core.frame.DataFrame'>\n",
            "Int64Index: 3547 entries, 0 to 3546\n",
            "Data columns (total 15 columns):\n",
            " #   Column   Non-Null Count  Dtype  \n",
            "---  ------   --------------  -----  \n",
            " 0   UNITID   3547 non-null   int64  \n",
            " 1   ADMCON1  3547 non-null   float64\n",
            " 2   ADMCON2  3547 non-null   float64\n",
            " 3   ADMCON3  3547 non-null   float64\n",
            " 4   ADMCON4  3547 non-null   float64\n",
            " 5   ADMCON5  3547 non-null   float64\n",
            " 6   ADMCON6  3547 non-null   float64\n",
            " 7   ADMCON7  3547 non-null   float64\n",
            " 8   ADMCON8  3547 non-null   float64\n",
            " 9   ADMCON9  3547 non-null   float64\n",
            " 10  APPLCN   3547 non-null   float64\n",
            " 11  ADMSSN   3547 non-null   float64\n",
            " 12  ENRLT    3547 non-null   float64\n",
            " 13  SATNUM   3547 non-null   float64\n",
            " 14  ACTNUM   3547 non-null   float64\n",
            "dtypes: float64(14), int64(1)\n",
            "memory usage: 443.4 KB\n"
          ]
        }
      ]
    },
    {
      "cell_type": "code",
      "source": [
        "df_merged_all.drop(['Unnamed: 0'], axis = 1, inplace = True)"
      ],
      "metadata": {
        "id": "v5ApulJ-9Biv"
      },
      "execution_count": 75,
      "outputs": []
    },
    {
      "cell_type": "markdown",
      "source": [
        "### Now we can write this clean data to our final CSV, which we can use for our exploratory analysis "
      ],
      "metadata": {
        "id": "tSwBGskzYYFi"
      }
    },
    {
      "cell_type": "code",
      "source": [
        "df_merged_all.to_csv('/content/gdrive/Shareddrives/DATA_606_Capstone/Merged_data/df_merged_all.csv')"
      ],
      "metadata": {
        "id": "aopaPHOyYXko"
      },
      "execution_count": 76,
      "outputs": []
    },
    {
      "cell_type": "markdown",
      "source": [
        "### Let's keep the Institutions Data for those Institutions Not Adopting Open Enrollment Separate as well (but still merge it with the additional information we had before)"
      ],
      "metadata": {
        "id": "j0wbFY_C7YJQ"
      }
    },
    {
      "cell_type": "code",
      "source": [
        "df_merged_no_open = pd.merge(df_merged_two, df_check1, left_on='UNITID', right_on='UNITID')\n",
        "df_merged_no_open.head()"
      ],
      "metadata": {
        "colab": {
          "base_uri": "https://localhost:8080/",
          "height": 279
        },
        "id": "0N2IcBikj8XW",
        "outputId": "3d1694e8-bc74-4ae2-d65e-7904907add28"
      },
      "execution_count": 77,
      "outputs": [
        {
          "output_type": "execute_result",
          "data": {
            "text/html": [
              "\n",
              "  <div id=\"df-fa00a672-3b84-491a-a1f3-4c1b1eee19c1\">\n",
              "    <div class=\"colab-df-container\">\n",
              "      <div>\n",
              "<style scoped>\n",
              "    .dataframe tbody tr th:only-of-type {\n",
              "        vertical-align: middle;\n",
              "    }\n",
              "\n",
              "    .dataframe tbody tr th {\n",
              "        vertical-align: top;\n",
              "    }\n",
              "\n",
              "    .dataframe thead th {\n",
              "        text-align: right;\n",
              "    }\n",
              "</style>\n",
              "<table border=\"1\" class=\"dataframe\">\n",
              "  <thead>\n",
              "    <tr style=\"text-align: right;\">\n",
              "      <th></th>\n",
              "      <th>Unnamed: 0</th>\n",
              "      <th>UNITID</th>\n",
              "      <th>INSTNM</th>\n",
              "      <th>STABBR</th>\n",
              "      <th>OBEREG</th>\n",
              "      <th>HLOFFER</th>\n",
              "      <th>GROFFER</th>\n",
              "      <th>HDEGOFFR</th>\n",
              "      <th>HBCU</th>\n",
              "      <th>LOCALE</th>\n",
              "      <th>...</th>\n",
              "      <th>ADMCON5</th>\n",
              "      <th>ADMCON6</th>\n",
              "      <th>ADMCON7</th>\n",
              "      <th>ADMCON8</th>\n",
              "      <th>ADMCON9</th>\n",
              "      <th>APPLCN</th>\n",
              "      <th>ADMSSN</th>\n",
              "      <th>ENRLT</th>\n",
              "      <th>SATNUM</th>\n",
              "      <th>ACTNUM</th>\n",
              "    </tr>\n",
              "  </thead>\n",
              "  <tbody>\n",
              "    <tr>\n",
              "      <th>0</th>\n",
              "      <td>0</td>\n",
              "      <td>100654</td>\n",
              "      <td>Alabama A &amp; M University</td>\n",
              "      <td>AL</td>\n",
              "      <td>5</td>\n",
              "      <td>9</td>\n",
              "      <td>1</td>\n",
              "      <td>12</td>\n",
              "      <td>1</td>\n",
              "      <td>12</td>\n",
              "      <td>...</td>\n",
              "      <td>3</td>\n",
              "      <td>2</td>\n",
              "      <td>1</td>\n",
              "      <td>1</td>\n",
              "      <td>3</td>\n",
              "      <td>9855</td>\n",
              "      <td>8835</td>\n",
              "      <td>1664</td>\n",
              "      <td>1</td>\n",
              "      <td>1</td>\n",
              "    </tr>\n",
              "    <tr>\n",
              "      <th>1</th>\n",
              "      <td>1</td>\n",
              "      <td>100663</td>\n",
              "      <td>University of Alabama at Birmingham</td>\n",
              "      <td>AL</td>\n",
              "      <td>5</td>\n",
              "      <td>9</td>\n",
              "      <td>1</td>\n",
              "      <td>11</td>\n",
              "      <td>2</td>\n",
              "      <td>12</td>\n",
              "      <td>...</td>\n",
              "      <td>3</td>\n",
              "      <td>3</td>\n",
              "      <td>1</td>\n",
              "      <td>3</td>\n",
              "      <td>3</td>\n",
              "      <td>10391</td>\n",
              "      <td>8375</td>\n",
              "      <td>2154</td>\n",
              "      <td>1</td>\n",
              "      <td>1</td>\n",
              "    </tr>\n",
              "    <tr>\n",
              "      <th>2</th>\n",
              "      <td>3</td>\n",
              "      <td>100706</td>\n",
              "      <td>University of Alabama in Huntsville</td>\n",
              "      <td>AL</td>\n",
              "      <td>5</td>\n",
              "      <td>9</td>\n",
              "      <td>1</td>\n",
              "      <td>11</td>\n",
              "      <td>2</td>\n",
              "      <td>12</td>\n",
              "      <td>...</td>\n",
              "      <td>3</td>\n",
              "      <td>2</td>\n",
              "      <td>1</td>\n",
              "      <td>1</td>\n",
              "      <td>3</td>\n",
              "      <td>5793</td>\n",
              "      <td>4467</td>\n",
              "      <td>1345</td>\n",
              "      <td>1</td>\n",
              "      <td>1</td>\n",
              "    </tr>\n",
              "    <tr>\n",
              "      <th>3</th>\n",
              "      <td>4</td>\n",
              "      <td>100724</td>\n",
              "      <td>Alabama State University</td>\n",
              "      <td>AL</td>\n",
              "      <td>5</td>\n",
              "      <td>9</td>\n",
              "      <td>1</td>\n",
              "      <td>11</td>\n",
              "      <td>1</td>\n",
              "      <td>12</td>\n",
              "      <td>...</td>\n",
              "      <td>3</td>\n",
              "      <td>3</td>\n",
              "      <td>1</td>\n",
              "      <td>1</td>\n",
              "      <td>3</td>\n",
              "      <td>7027</td>\n",
              "      <td>6948</td>\n",
              "      <td>975</td>\n",
              "      <td>1</td>\n",
              "      <td>1</td>\n",
              "    </tr>\n",
              "    <tr>\n",
              "      <th>4</th>\n",
              "      <td>5</td>\n",
              "      <td>100751</td>\n",
              "      <td>The University of Alabama</td>\n",
              "      <td>AL</td>\n",
              "      <td>5</td>\n",
              "      <td>9</td>\n",
              "      <td>1</td>\n",
              "      <td>11</td>\n",
              "      <td>2</td>\n",
              "      <td>12</td>\n",
              "      <td>...</td>\n",
              "      <td>3</td>\n",
              "      <td>3</td>\n",
              "      <td>1</td>\n",
              "      <td>1</td>\n",
              "      <td>3</td>\n",
              "      <td>39560</td>\n",
              "      <td>31804</td>\n",
              "      <td>6507</td>\n",
              "      <td>1</td>\n",
              "      <td>1</td>\n",
              "    </tr>\n",
              "  </tbody>\n",
              "</table>\n",
              "<p>5 rows × 98 columns</p>\n",
              "</div>\n",
              "      <button class=\"colab-df-convert\" onclick=\"convertToInteractive('df-fa00a672-3b84-491a-a1f3-4c1b1eee19c1')\"\n",
              "              title=\"Convert this dataframe to an interactive table.\"\n",
              "              style=\"display:none;\">\n",
              "        \n",
              "  <svg xmlns=\"http://www.w3.org/2000/svg\" height=\"24px\"viewBox=\"0 0 24 24\"\n",
              "       width=\"24px\">\n",
              "    <path d=\"M0 0h24v24H0V0z\" fill=\"none\"/>\n",
              "    <path d=\"M18.56 5.44l.94 2.06.94-2.06 2.06-.94-2.06-.94-.94-2.06-.94 2.06-2.06.94zm-11 1L8.5 8.5l.94-2.06 2.06-.94-2.06-.94L8.5 2.5l-.94 2.06-2.06.94zm10 10l.94 2.06.94-2.06 2.06-.94-2.06-.94-.94-2.06-.94 2.06-2.06.94z\"/><path d=\"M17.41 7.96l-1.37-1.37c-.4-.4-.92-.59-1.43-.59-.52 0-1.04.2-1.43.59L10.3 9.45l-7.72 7.72c-.78.78-.78 2.05 0 2.83L4 21.41c.39.39.9.59 1.41.59.51 0 1.02-.2 1.41-.59l7.78-7.78 2.81-2.81c.8-.78.8-2.07 0-2.86zM5.41 20L4 18.59l7.72-7.72 1.47 1.35L5.41 20z\"/>\n",
              "  </svg>\n",
              "      </button>\n",
              "      \n",
              "  <style>\n",
              "    .colab-df-container {\n",
              "      display:flex;\n",
              "      flex-wrap:wrap;\n",
              "      gap: 12px;\n",
              "    }\n",
              "\n",
              "    .colab-df-convert {\n",
              "      background-color: #E8F0FE;\n",
              "      border: none;\n",
              "      border-radius: 50%;\n",
              "      cursor: pointer;\n",
              "      display: none;\n",
              "      fill: #1967D2;\n",
              "      height: 32px;\n",
              "      padding: 0 0 0 0;\n",
              "      width: 32px;\n",
              "    }\n",
              "\n",
              "    .colab-df-convert:hover {\n",
              "      background-color: #E2EBFA;\n",
              "      box-shadow: 0px 1px 2px rgba(60, 64, 67, 0.3), 0px 1px 3px 1px rgba(60, 64, 67, 0.15);\n",
              "      fill: #174EA6;\n",
              "    }\n",
              "\n",
              "    [theme=dark] .colab-df-convert {\n",
              "      background-color: #3B4455;\n",
              "      fill: #D2E3FC;\n",
              "    }\n",
              "\n",
              "    [theme=dark] .colab-df-convert:hover {\n",
              "      background-color: #434B5C;\n",
              "      box-shadow: 0px 1px 3px 1px rgba(0, 0, 0, 0.15);\n",
              "      filter: drop-shadow(0px 1px 2px rgba(0, 0, 0, 0.3));\n",
              "      fill: #FFFFFF;\n",
              "    }\n",
              "  </style>\n",
              "\n",
              "      <script>\n",
              "        const buttonEl =\n",
              "          document.querySelector('#df-fa00a672-3b84-491a-a1f3-4c1b1eee19c1 button.colab-df-convert');\n",
              "        buttonEl.style.display =\n",
              "          google.colab.kernel.accessAllowed ? 'block' : 'none';\n",
              "\n",
              "        async function convertToInteractive(key) {\n",
              "          const element = document.querySelector('#df-fa00a672-3b84-491a-a1f3-4c1b1eee19c1');\n",
              "          const dataTable =\n",
              "            await google.colab.kernel.invokeFunction('convertToInteractive',\n",
              "                                                     [key], {});\n",
              "          if (!dataTable) return;\n",
              "\n",
              "          const docLinkHtml = 'Like what you see? Visit the ' +\n",
              "            '<a target=\"_blank\" href=https://colab.research.google.com/notebooks/data_table.ipynb>data table notebook</a>'\n",
              "            + ' to learn more about interactive tables.';\n",
              "          element.innerHTML = '';\n",
              "          dataTable['output_type'] = 'display_data';\n",
              "          await google.colab.output.renderOutput(dataTable, element);\n",
              "          const docLink = document.createElement('div');\n",
              "          docLink.innerHTML = docLinkHtml;\n",
              "          element.appendChild(docLink);\n",
              "        }\n",
              "      </script>\n",
              "    </div>\n",
              "  </div>\n",
              "  "
            ],
            "text/plain": [
              "   Unnamed: 0  UNITID                               INSTNM STABBR  OBEREG  \\\n",
              "0           0  100654             Alabama A & M University     AL       5   \n",
              "1           1  100663  University of Alabama at Birmingham     AL       5   \n",
              "2           3  100706  University of Alabama in Huntsville     AL       5   \n",
              "3           4  100724             Alabama State University     AL       5   \n",
              "4           5  100751            The University of Alabama     AL       5   \n",
              "\n",
              "   HLOFFER  GROFFER  HDEGOFFR  HBCU  LOCALE  ...  ADMCON5  ADMCON6  ADMCON7  \\\n",
              "0        9        1        12     1      12  ...        3        2        1   \n",
              "1        9        1        11     2      12  ...        3        3        1   \n",
              "2        9        1        11     2      12  ...        3        2        1   \n",
              "3        9        1        11     1      12  ...        3        3        1   \n",
              "4        9        1        11     2      12  ...        3        3        1   \n",
              "\n",
              "   ADMCON8  ADMCON9  APPLCN  ADMSSN  ENRLT  SATNUM  ACTNUM  \n",
              "0        1        3    9855    8835   1664       1       1  \n",
              "1        3        3   10391    8375   2154       1       1  \n",
              "2        1        3    5793    4467   1345       1       1  \n",
              "3        1        3    7027    6948    975       1       1  \n",
              "4        1        3   39560   31804   6507       1       1  \n",
              "\n",
              "[5 rows x 98 columns]"
            ]
          },
          "metadata": {},
          "execution_count": 77
        }
      ]
    },
    {
      "cell_type": "code",
      "source": [
        "df_merged_no_open.drop(['Unnamed: 0'], axis = 1, inplace = True)"
      ],
      "metadata": {
        "id": "0dHwa29wp5Ju"
      },
      "execution_count": 78,
      "outputs": []
    },
    {
      "cell_type": "code",
      "source": [
        "# df_merged_no_open.info()"
      ],
      "metadata": {
        "id": "MI5mrN1q2_Ph"
      },
      "execution_count": 79,
      "outputs": []
    },
    {
      "cell_type": "markdown",
      "source": [
        "### We can now write this information to a new csv for our future analysis "
      ],
      "metadata": {
        "id": "uDJCpzOj-6Kb"
      }
    },
    {
      "cell_type": "code",
      "source": [
        "df_merged_no_open.to_csv('/content/gdrive/Shareddrives/DATA_606_Capstone/Merged_data/df_no_open_enroll_merged_data.csv')"
      ],
      "metadata": {
        "id": "DvQOmnBRj8eN"
      },
      "execution_count": 80,
      "outputs": []
    },
    {
      "cell_type": "markdown",
      "source": [
        "### Let us separate out the detailed enrollment data by gender as well, in case we decide to use this information  "
      ],
      "metadata": {
        "id": "v-jFRasy_JNJ"
      }
    },
    {
      "cell_type": "code",
      "source": [
        "df_check2 = df_check.copy(deep=False)\n",
        "df_check2.drop(['ADMCON1', 'ADMCON2', 'ADMCON3', 'ADMCON4', 'ADMCON5',\n",
        "                'ADMCON6', 'ADMCON7', 'ADMCON8', 'ADMCON9', 'SATNUM', 'ACTNUM'], axis = 1, inplace = True)\n",
        "df_check2"
      ],
      "metadata": {
        "colab": {
          "base_uri": "https://localhost:8080/",
          "height": 424
        },
        "id": "7xKaYGk_j8m_",
        "outputId": "c833b978-13ef-460f-ce96-c08d91700760"
      },
      "execution_count": 81,
      "outputs": [
        {
          "output_type": "execute_result",
          "data": {
            "text/html": [
              "\n",
              "  <div id=\"df-9baca648-c357-45e2-bddb-37dc39e6ceee\">\n",
              "    <div class=\"colab-df-container\">\n",
              "      <div>\n",
              "<style scoped>\n",
              "    .dataframe tbody tr th:only-of-type {\n",
              "        vertical-align: middle;\n",
              "    }\n",
              "\n",
              "    .dataframe tbody tr th {\n",
              "        vertical-align: top;\n",
              "    }\n",
              "\n",
              "    .dataframe thead th {\n",
              "        text-align: right;\n",
              "    }\n",
              "</style>\n",
              "<table border=\"1\" class=\"dataframe\">\n",
              "  <thead>\n",
              "    <tr style=\"text-align: right;\">\n",
              "      <th></th>\n",
              "      <th>UNITID</th>\n",
              "      <th>APPLCN</th>\n",
              "      <th>APPLCNM</th>\n",
              "      <th>APPLCNW</th>\n",
              "      <th>ADMSSN</th>\n",
              "      <th>ADMSSNM</th>\n",
              "      <th>ADMSSNW</th>\n",
              "      <th>ENRLT</th>\n",
              "      <th>ENRLM</th>\n",
              "      <th>ENRLW</th>\n",
              "      <th>ENRLFT</th>\n",
              "      <th>ENRLFTM</th>\n",
              "      <th>ENRLFTW</th>\n",
              "      <th>ENRLPT</th>\n",
              "      <th>ENRLPTM</th>\n",
              "      <th>ENRLPTW</th>\n",
              "    </tr>\n",
              "  </thead>\n",
              "  <tbody>\n",
              "    <tr>\n",
              "      <th>0</th>\n",
              "      <td>100654</td>\n",
              "      <td>9855</td>\n",
              "      <td>3394</td>\n",
              "      <td>6461</td>\n",
              "      <td>8835</td>\n",
              "      <td>2947</td>\n",
              "      <td>5888</td>\n",
              "      <td>1664</td>\n",
              "      <td>676</td>\n",
              "      <td>988</td>\n",
              "      <td>1622</td>\n",
              "      <td>660</td>\n",
              "      <td>962</td>\n",
              "      <td>42</td>\n",
              "      <td>16</td>\n",
              "      <td>26</td>\n",
              "    </tr>\n",
              "    <tr>\n",
              "      <th>1</th>\n",
              "      <td>100663</td>\n",
              "      <td>10391</td>\n",
              "      <td>3803</td>\n",
              "      <td>6588</td>\n",
              "      <td>8375</td>\n",
              "      <td>3002</td>\n",
              "      <td>5373</td>\n",
              "      <td>2154</td>\n",
              "      <td>765</td>\n",
              "      <td>1389</td>\n",
              "      <td>2102</td>\n",
              "      <td>738</td>\n",
              "      <td>1364</td>\n",
              "      <td>52</td>\n",
              "      <td>27</td>\n",
              "      <td>25</td>\n",
              "    </tr>\n",
              "    <tr>\n",
              "      <th>2</th>\n",
              "      <td>100706</td>\n",
              "      <td>5793</td>\n",
              "      <td>3057</td>\n",
              "      <td>2736</td>\n",
              "      <td>4467</td>\n",
              "      <td>2509</td>\n",
              "      <td>1958</td>\n",
              "      <td>1345</td>\n",
              "      <td>847</td>\n",
              "      <td>498</td>\n",
              "      <td>1328</td>\n",
              "      <td>840</td>\n",
              "      <td>488</td>\n",
              "      <td>17</td>\n",
              "      <td>7</td>\n",
              "      <td>10</td>\n",
              "    </tr>\n",
              "    <tr>\n",
              "      <th>3</th>\n",
              "      <td>100724</td>\n",
              "      <td>7027</td>\n",
              "      <td>2226</td>\n",
              "      <td>4763</td>\n",
              "      <td>6948</td>\n",
              "      <td>2188</td>\n",
              "      <td>4724</td>\n",
              "      <td>975</td>\n",
              "      <td>347</td>\n",
              "      <td>628</td>\n",
              "      <td>926</td>\n",
              "      <td>322</td>\n",
              "      <td>604</td>\n",
              "      <td>49</td>\n",
              "      <td>25</td>\n",
              "      <td>24</td>\n",
              "    </tr>\n",
              "    <tr>\n",
              "      <th>4</th>\n",
              "      <td>100751</td>\n",
              "      <td>39560</td>\n",
              "      <td>14907</td>\n",
              "      <td>24653</td>\n",
              "      <td>31804</td>\n",
              "      <td>12112</td>\n",
              "      <td>19692</td>\n",
              "      <td>6507</td>\n",
              "      <td>2752</td>\n",
              "      <td>3755</td>\n",
              "      <td>6466</td>\n",
              "      <td>2728</td>\n",
              "      <td>3738</td>\n",
              "      <td>41</td>\n",
              "      <td>24</td>\n",
              "      <td>17</td>\n",
              "    </tr>\n",
              "    <tr>\n",
              "      <th>...</th>\n",
              "      <td>...</td>\n",
              "      <td>...</td>\n",
              "      <td>...</td>\n",
              "      <td>...</td>\n",
              "      <td>...</td>\n",
              "      <td>...</td>\n",
              "      <td>...</td>\n",
              "      <td>...</td>\n",
              "      <td>...</td>\n",
              "      <td>...</td>\n",
              "      <td>...</td>\n",
              "      <td>...</td>\n",
              "      <td>...</td>\n",
              "      <td>...</td>\n",
              "      <td>...</td>\n",
              "      <td>...</td>\n",
              "    </tr>\n",
              "    <tr>\n",
              "      <th>1847</th>\n",
              "      <td>494171</td>\n",
              "      <td>41</td>\n",
              "      <td>9</td>\n",
              "      <td>32</td>\n",
              "      <td>39</td>\n",
              "      <td>8</td>\n",
              "      <td>31</td>\n",
              "      <td>22</td>\n",
              "      <td>4</td>\n",
              "      <td>18</td>\n",
              "      <td>17</td>\n",
              "      <td>3</td>\n",
              "      <td>14</td>\n",
              "      <td>5</td>\n",
              "      <td>1</td>\n",
              "      <td>4</td>\n",
              "    </tr>\n",
              "    <tr>\n",
              "      <th>1848</th>\n",
              "      <td>494278</td>\n",
              "      <td>23</td>\n",
              "      <td>6</td>\n",
              "      <td>17</td>\n",
              "      <td>18</td>\n",
              "      <td>3</td>\n",
              "      <td>15</td>\n",
              "      <td>16</td>\n",
              "      <td>3</td>\n",
              "      <td>13</td>\n",
              "      <td>11</td>\n",
              "      <td>3</td>\n",
              "      <td>8</td>\n",
              "      <td>5</td>\n",
              "      <td>0</td>\n",
              "      <td>5</td>\n",
              "    </tr>\n",
              "    <tr>\n",
              "      <th>1849</th>\n",
              "      <td>494287</td>\n",
              "      <td>65</td>\n",
              "      <td>23</td>\n",
              "      <td>42</td>\n",
              "      <td>44</td>\n",
              "      <td>18</td>\n",
              "      <td>26</td>\n",
              "      <td>37</td>\n",
              "      <td>17</td>\n",
              "      <td>20</td>\n",
              "      <td>21</td>\n",
              "      <td>12</td>\n",
              "      <td>9</td>\n",
              "      <td>16</td>\n",
              "      <td>5</td>\n",
              "      <td>11</td>\n",
              "    </tr>\n",
              "    <tr>\n",
              "      <th>1850</th>\n",
              "      <td>494685</td>\n",
              "      <td>85</td>\n",
              "      <td>38</td>\n",
              "      <td>47</td>\n",
              "      <td>68</td>\n",
              "      <td>28</td>\n",
              "      <td>40</td>\n",
              "      <td>60</td>\n",
              "      <td>25</td>\n",
              "      <td>35</td>\n",
              "      <td>51</td>\n",
              "      <td>22</td>\n",
              "      <td>29</td>\n",
              "      <td>9</td>\n",
              "      <td>3</td>\n",
              "      <td>6</td>\n",
              "    </tr>\n",
              "    <tr>\n",
              "      <th>1851</th>\n",
              "      <td>494807</td>\n",
              "      <td>35</td>\n",
              "      <td>6</td>\n",
              "      <td>29</td>\n",
              "      <td>18</td>\n",
              "      <td>4</td>\n",
              "      <td>14</td>\n",
              "      <td>18</td>\n",
              "      <td>4</td>\n",
              "      <td>14</td>\n",
              "      <td>18</td>\n",
              "      <td>4</td>\n",
              "      <td>14</td>\n",
              "      <td>0</td>\n",
              "      <td>0</td>\n",
              "      <td>0</td>\n",
              "    </tr>\n",
              "  </tbody>\n",
              "</table>\n",
              "<p>1852 rows × 16 columns</p>\n",
              "</div>\n",
              "      <button class=\"colab-df-convert\" onclick=\"convertToInteractive('df-9baca648-c357-45e2-bddb-37dc39e6ceee')\"\n",
              "              title=\"Convert this dataframe to an interactive table.\"\n",
              "              style=\"display:none;\">\n",
              "        \n",
              "  <svg xmlns=\"http://www.w3.org/2000/svg\" height=\"24px\"viewBox=\"0 0 24 24\"\n",
              "       width=\"24px\">\n",
              "    <path d=\"M0 0h24v24H0V0z\" fill=\"none\"/>\n",
              "    <path d=\"M18.56 5.44l.94 2.06.94-2.06 2.06-.94-2.06-.94-.94-2.06-.94 2.06-2.06.94zm-11 1L8.5 8.5l.94-2.06 2.06-.94-2.06-.94L8.5 2.5l-.94 2.06-2.06.94zm10 10l.94 2.06.94-2.06 2.06-.94-2.06-.94-.94-2.06-.94 2.06-2.06.94z\"/><path d=\"M17.41 7.96l-1.37-1.37c-.4-.4-.92-.59-1.43-.59-.52 0-1.04.2-1.43.59L10.3 9.45l-7.72 7.72c-.78.78-.78 2.05 0 2.83L4 21.41c.39.39.9.59 1.41.59.51 0 1.02-.2 1.41-.59l7.78-7.78 2.81-2.81c.8-.78.8-2.07 0-2.86zM5.41 20L4 18.59l7.72-7.72 1.47 1.35L5.41 20z\"/>\n",
              "  </svg>\n",
              "      </button>\n",
              "      \n",
              "  <style>\n",
              "    .colab-df-container {\n",
              "      display:flex;\n",
              "      flex-wrap:wrap;\n",
              "      gap: 12px;\n",
              "    }\n",
              "\n",
              "    .colab-df-convert {\n",
              "      background-color: #E8F0FE;\n",
              "      border: none;\n",
              "      border-radius: 50%;\n",
              "      cursor: pointer;\n",
              "      display: none;\n",
              "      fill: #1967D2;\n",
              "      height: 32px;\n",
              "      padding: 0 0 0 0;\n",
              "      width: 32px;\n",
              "    }\n",
              "\n",
              "    .colab-df-convert:hover {\n",
              "      background-color: #E2EBFA;\n",
              "      box-shadow: 0px 1px 2px rgba(60, 64, 67, 0.3), 0px 1px 3px 1px rgba(60, 64, 67, 0.15);\n",
              "      fill: #174EA6;\n",
              "    }\n",
              "\n",
              "    [theme=dark] .colab-df-convert {\n",
              "      background-color: #3B4455;\n",
              "      fill: #D2E3FC;\n",
              "    }\n",
              "\n",
              "    [theme=dark] .colab-df-convert:hover {\n",
              "      background-color: #434B5C;\n",
              "      box-shadow: 0px 1px 3px 1px rgba(0, 0, 0, 0.15);\n",
              "      filter: drop-shadow(0px 1px 2px rgba(0, 0, 0, 0.3));\n",
              "      fill: #FFFFFF;\n",
              "    }\n",
              "  </style>\n",
              "\n",
              "      <script>\n",
              "        const buttonEl =\n",
              "          document.querySelector('#df-9baca648-c357-45e2-bddb-37dc39e6ceee button.colab-df-convert');\n",
              "        buttonEl.style.display =\n",
              "          google.colab.kernel.accessAllowed ? 'block' : 'none';\n",
              "\n",
              "        async function convertToInteractive(key) {\n",
              "          const element = document.querySelector('#df-9baca648-c357-45e2-bddb-37dc39e6ceee');\n",
              "          const dataTable =\n",
              "            await google.colab.kernel.invokeFunction('convertToInteractive',\n",
              "                                                     [key], {});\n",
              "          if (!dataTable) return;\n",
              "\n",
              "          const docLinkHtml = 'Like what you see? Visit the ' +\n",
              "            '<a target=\"_blank\" href=https://colab.research.google.com/notebooks/data_table.ipynb>data table notebook</a>'\n",
              "            + ' to learn more about interactive tables.';\n",
              "          element.innerHTML = '';\n",
              "          dataTable['output_type'] = 'display_data';\n",
              "          await google.colab.output.renderOutput(dataTable, element);\n",
              "          const docLink = document.createElement('div');\n",
              "          docLink.innerHTML = docLinkHtml;\n",
              "          element.appendChild(docLink);\n",
              "        }\n",
              "      </script>\n",
              "    </div>\n",
              "  </div>\n",
              "  "
            ],
            "text/plain": [
              "      UNITID  APPLCN  APPLCNM  APPLCNW  ADMSSN  ADMSSNM  ADMSSNW  ENRLT  \\\n",
              "0     100654    9855     3394     6461    8835     2947     5888   1664   \n",
              "1     100663   10391     3803     6588    8375     3002     5373   2154   \n",
              "2     100706    5793     3057     2736    4467     2509     1958   1345   \n",
              "3     100724    7027     2226     4763    6948     2188     4724    975   \n",
              "4     100751   39560    14907    24653   31804    12112    19692   6507   \n",
              "...      ...     ...      ...      ...     ...      ...      ...    ...   \n",
              "1847  494171      41        9       32      39        8       31     22   \n",
              "1848  494278      23        6       17      18        3       15     16   \n",
              "1849  494287      65       23       42      44       18       26     37   \n",
              "1850  494685      85       38       47      68       28       40     60   \n",
              "1851  494807      35        6       29      18        4       14     18   \n",
              "\n",
              "      ENRLM  ENRLW  ENRLFT  ENRLFTM  ENRLFTW  ENRLPT  ENRLPTM  ENRLPTW  \n",
              "0       676    988    1622      660      962      42       16       26  \n",
              "1       765   1389    2102      738     1364      52       27       25  \n",
              "2       847    498    1328      840      488      17        7       10  \n",
              "3       347    628     926      322      604      49       25       24  \n",
              "4      2752   3755    6466     2728     3738      41       24       17  \n",
              "...     ...    ...     ...      ...      ...     ...      ...      ...  \n",
              "1847      4     18      17        3       14       5        1        4  \n",
              "1848      3     13      11        3        8       5        0        5  \n",
              "1849     17     20      21       12        9      16        5       11  \n",
              "1850     25     35      51       22       29       9        3        6  \n",
              "1851      4     14      18        4       14       0        0        0  \n",
              "\n",
              "[1852 rows x 16 columns]"
            ]
          },
          "metadata": {},
          "execution_count": 81
        }
      ]
    },
    {
      "cell_type": "code",
      "source": [
        "\n",
        "df_student_data_merged = read_data('/content/gdrive/Shareddrives/DATA_606_Capstone/Merged_data/df_student_data_merged.csv')"
      ],
      "metadata": {
        "id": "8d2WGfTqrdD1",
        "colab": {
          "base_uri": "https://localhost:8080/"
        },
        "outputId": "3beaa632-3e36-478f-88f8-5607e1bfaad0"
      },
      "execution_count": 82,
      "outputs": [
        {
          "output_type": "stream",
          "name": "stdout",
          "text": [
            "0.3174910545349121 seconds\n"
          ]
        }
      ]
    },
    {
      "cell_type": "code",
      "source": [
        "df_student_data_merged.columns"
      ],
      "metadata": {
        "colab": {
          "base_uri": "https://localhost:8080/"
        },
        "id": "NGiZKOdYryV8",
        "outputId": "29fde004-2c07-4731-aa73-bc83aaa14525"
      },
      "execution_count": 83,
      "outputs": [
        {
          "output_type": "execute_result",
          "data": {
            "text/plain": [
              "Index(['Unnamed: 0', 'UNITID', 'EFYTOTLT', 'EFYTOTLM', 'EFYTOTLW', 'EFYAIANT',\n",
              "       'EFYAIANM', 'EFYAIANW', 'EFYASIAT', 'EFYASIAM', 'EFYASIAW', 'EFYBKAAT',\n",
              "       'EFYBKAAM', 'EFYBKAAW', 'EFYHISPT', 'EFYHISPM', 'EFYHISPW', 'EFYNHPIT',\n",
              "       'EFYNHPIM', 'EFYNHPIW', 'EFYWHITT', 'EFYWHITM', 'EFYWHITW', 'EFY2MORT',\n",
              "       'EFY2MORM', 'EFY2MORW', 'EFYUNKNT', 'EFYUNKNM', 'EFYUNKNW', 'EFYNRALT',\n",
              "       'EFYNRALM', 'EFYNRALW', 'STABBR', 'OBEREG'],\n",
              "      dtype='object')"
            ]
          },
          "metadata": {},
          "execution_count": 83
        }
      ]
    },
    {
      "cell_type": "code",
      "source": [
        "df_student_enrollment_no_open_enroll_merged = pd.merge(df_student_data_merged , df_check2,left_on='UNITID', right_on='UNITID')\n",
        "df_student_enrollment_no_open_enroll_merged.head()"
      ],
      "metadata": {
        "id": "Odj_Pk7IjjrQ",
        "colab": {
          "base_uri": "https://localhost:8080/",
          "height": 235
        },
        "outputId": "44e77eb2-acdf-4326-a263-ea21feeca701"
      },
      "execution_count": 84,
      "outputs": [
        {
          "output_type": "execute_result",
          "data": {
            "text/html": [
              "\n",
              "  <div id=\"df-eaf6e68f-1e4b-4604-b088-ea570726b555\">\n",
              "    <div class=\"colab-df-container\">\n",
              "      <div>\n",
              "<style scoped>\n",
              "    .dataframe tbody tr th:only-of-type {\n",
              "        vertical-align: middle;\n",
              "    }\n",
              "\n",
              "    .dataframe tbody tr th {\n",
              "        vertical-align: top;\n",
              "    }\n",
              "\n",
              "    .dataframe thead th {\n",
              "        text-align: right;\n",
              "    }\n",
              "</style>\n",
              "<table border=\"1\" class=\"dataframe\">\n",
              "  <thead>\n",
              "    <tr style=\"text-align: right;\">\n",
              "      <th></th>\n",
              "      <th>Unnamed: 0</th>\n",
              "      <th>UNITID</th>\n",
              "      <th>EFYTOTLT</th>\n",
              "      <th>EFYTOTLM</th>\n",
              "      <th>EFYTOTLW</th>\n",
              "      <th>EFYAIANT</th>\n",
              "      <th>EFYAIANM</th>\n",
              "      <th>EFYAIANW</th>\n",
              "      <th>EFYASIAT</th>\n",
              "      <th>EFYASIAM</th>\n",
              "      <th>...</th>\n",
              "      <th>ADMSSNW</th>\n",
              "      <th>ENRLT</th>\n",
              "      <th>ENRLM</th>\n",
              "      <th>ENRLW</th>\n",
              "      <th>ENRLFT</th>\n",
              "      <th>ENRLFTM</th>\n",
              "      <th>ENRLFTW</th>\n",
              "      <th>ENRLPT</th>\n",
              "      <th>ENRLPTM</th>\n",
              "      <th>ENRLPTW</th>\n",
              "    </tr>\n",
              "  </thead>\n",
              "  <tbody>\n",
              "    <tr>\n",
              "      <th>0</th>\n",
              "      <td>0</td>\n",
              "      <td>100654</td>\n",
              "      <td>5479</td>\n",
              "      <td>2193</td>\n",
              "      <td>3286</td>\n",
              "      <td>11</td>\n",
              "      <td>4</td>\n",
              "      <td>7</td>\n",
              "      <td>10</td>\n",
              "      <td>5</td>\n",
              "      <td>...</td>\n",
              "      <td>5888</td>\n",
              "      <td>1664</td>\n",
              "      <td>676</td>\n",
              "      <td>988</td>\n",
              "      <td>1622</td>\n",
              "      <td>660</td>\n",
              "      <td>962</td>\n",
              "      <td>42</td>\n",
              "      <td>16</td>\n",
              "      <td>26</td>\n",
              "    </tr>\n",
              "    <tr>\n",
              "      <th>1</th>\n",
              "      <td>1</td>\n",
              "      <td>100663</td>\n",
              "      <td>14969</td>\n",
              "      <td>5771</td>\n",
              "      <td>9198</td>\n",
              "      <td>29</td>\n",
              "      <td>9</td>\n",
              "      <td>20</td>\n",
              "      <td>951</td>\n",
              "      <td>421</td>\n",
              "      <td>...</td>\n",
              "      <td>5373</td>\n",
              "      <td>2154</td>\n",
              "      <td>765</td>\n",
              "      <td>1389</td>\n",
              "      <td>2102</td>\n",
              "      <td>738</td>\n",
              "      <td>1364</td>\n",
              "      <td>52</td>\n",
              "      <td>27</td>\n",
              "      <td>25</td>\n",
              "    </tr>\n",
              "    <tr>\n",
              "      <th>2</th>\n",
              "      <td>3</td>\n",
              "      <td>100706</td>\n",
              "      <td>8898</td>\n",
              "      <td>5082</td>\n",
              "      <td>3816</td>\n",
              "      <td>96</td>\n",
              "      <td>53</td>\n",
              "      <td>43</td>\n",
              "      <td>315</td>\n",
              "      <td>178</td>\n",
              "      <td>...</td>\n",
              "      <td>1958</td>\n",
              "      <td>1345</td>\n",
              "      <td>847</td>\n",
              "      <td>498</td>\n",
              "      <td>1328</td>\n",
              "      <td>840</td>\n",
              "      <td>488</td>\n",
              "      <td>17</td>\n",
              "      <td>7</td>\n",
              "      <td>10</td>\n",
              "    </tr>\n",
              "    <tr>\n",
              "      <th>3</th>\n",
              "      <td>4</td>\n",
              "      <td>100724</td>\n",
              "      <td>4127</td>\n",
              "      <td>1543</td>\n",
              "      <td>2584</td>\n",
              "      <td>8</td>\n",
              "      <td>3</td>\n",
              "      <td>5</td>\n",
              "      <td>16</td>\n",
              "      <td>7</td>\n",
              "      <td>...</td>\n",
              "      <td>4724</td>\n",
              "      <td>975</td>\n",
              "      <td>347</td>\n",
              "      <td>628</td>\n",
              "      <td>926</td>\n",
              "      <td>322</td>\n",
              "      <td>604</td>\n",
              "      <td>49</td>\n",
              "      <td>25</td>\n",
              "      <td>24</td>\n",
              "    </tr>\n",
              "    <tr>\n",
              "      <th>4</th>\n",
              "      <td>5</td>\n",
              "      <td>100751</td>\n",
              "      <td>35872</td>\n",
              "      <td>15888</td>\n",
              "      <td>19984</td>\n",
              "      <td>137</td>\n",
              "      <td>58</td>\n",
              "      <td>79</td>\n",
              "      <td>460</td>\n",
              "      <td>199</td>\n",
              "      <td>...</td>\n",
              "      <td>19692</td>\n",
              "      <td>6507</td>\n",
              "      <td>2752</td>\n",
              "      <td>3755</td>\n",
              "      <td>6466</td>\n",
              "      <td>2728</td>\n",
              "      <td>3738</td>\n",
              "      <td>41</td>\n",
              "      <td>24</td>\n",
              "      <td>17</td>\n",
              "    </tr>\n",
              "  </tbody>\n",
              "</table>\n",
              "<p>5 rows × 49 columns</p>\n",
              "</div>\n",
              "      <button class=\"colab-df-convert\" onclick=\"convertToInteractive('df-eaf6e68f-1e4b-4604-b088-ea570726b555')\"\n",
              "              title=\"Convert this dataframe to an interactive table.\"\n",
              "              style=\"display:none;\">\n",
              "        \n",
              "  <svg xmlns=\"http://www.w3.org/2000/svg\" height=\"24px\"viewBox=\"0 0 24 24\"\n",
              "       width=\"24px\">\n",
              "    <path d=\"M0 0h24v24H0V0z\" fill=\"none\"/>\n",
              "    <path d=\"M18.56 5.44l.94 2.06.94-2.06 2.06-.94-2.06-.94-.94-2.06-.94 2.06-2.06.94zm-11 1L8.5 8.5l.94-2.06 2.06-.94-2.06-.94L8.5 2.5l-.94 2.06-2.06.94zm10 10l.94 2.06.94-2.06 2.06-.94-2.06-.94-.94-2.06-.94 2.06-2.06.94z\"/><path d=\"M17.41 7.96l-1.37-1.37c-.4-.4-.92-.59-1.43-.59-.52 0-1.04.2-1.43.59L10.3 9.45l-7.72 7.72c-.78.78-.78 2.05 0 2.83L4 21.41c.39.39.9.59 1.41.59.51 0 1.02-.2 1.41-.59l7.78-7.78 2.81-2.81c.8-.78.8-2.07 0-2.86zM5.41 20L4 18.59l7.72-7.72 1.47 1.35L5.41 20z\"/>\n",
              "  </svg>\n",
              "      </button>\n",
              "      \n",
              "  <style>\n",
              "    .colab-df-container {\n",
              "      display:flex;\n",
              "      flex-wrap:wrap;\n",
              "      gap: 12px;\n",
              "    }\n",
              "\n",
              "    .colab-df-convert {\n",
              "      background-color: #E8F0FE;\n",
              "      border: none;\n",
              "      border-radius: 50%;\n",
              "      cursor: pointer;\n",
              "      display: none;\n",
              "      fill: #1967D2;\n",
              "      height: 32px;\n",
              "      padding: 0 0 0 0;\n",
              "      width: 32px;\n",
              "    }\n",
              "\n",
              "    .colab-df-convert:hover {\n",
              "      background-color: #E2EBFA;\n",
              "      box-shadow: 0px 1px 2px rgba(60, 64, 67, 0.3), 0px 1px 3px 1px rgba(60, 64, 67, 0.15);\n",
              "      fill: #174EA6;\n",
              "    }\n",
              "\n",
              "    [theme=dark] .colab-df-convert {\n",
              "      background-color: #3B4455;\n",
              "      fill: #D2E3FC;\n",
              "    }\n",
              "\n",
              "    [theme=dark] .colab-df-convert:hover {\n",
              "      background-color: #434B5C;\n",
              "      box-shadow: 0px 1px 3px 1px rgba(0, 0, 0, 0.15);\n",
              "      filter: drop-shadow(0px 1px 2px rgba(0, 0, 0, 0.3));\n",
              "      fill: #FFFFFF;\n",
              "    }\n",
              "  </style>\n",
              "\n",
              "      <script>\n",
              "        const buttonEl =\n",
              "          document.querySelector('#df-eaf6e68f-1e4b-4604-b088-ea570726b555 button.colab-df-convert');\n",
              "        buttonEl.style.display =\n",
              "          google.colab.kernel.accessAllowed ? 'block' : 'none';\n",
              "\n",
              "        async function convertToInteractive(key) {\n",
              "          const element = document.querySelector('#df-eaf6e68f-1e4b-4604-b088-ea570726b555');\n",
              "          const dataTable =\n",
              "            await google.colab.kernel.invokeFunction('convertToInteractive',\n",
              "                                                     [key], {});\n",
              "          if (!dataTable) return;\n",
              "\n",
              "          const docLinkHtml = 'Like what you see? Visit the ' +\n",
              "            '<a target=\"_blank\" href=https://colab.research.google.com/notebooks/data_table.ipynb>data table notebook</a>'\n",
              "            + ' to learn more about interactive tables.';\n",
              "          element.innerHTML = '';\n",
              "          dataTable['output_type'] = 'display_data';\n",
              "          await google.colab.output.renderOutput(dataTable, element);\n",
              "          const docLink = document.createElement('div');\n",
              "          docLink.innerHTML = docLinkHtml;\n",
              "          element.appendChild(docLink);\n",
              "        }\n",
              "      </script>\n",
              "    </div>\n",
              "  </div>\n",
              "  "
            ],
            "text/plain": [
              "   Unnamed: 0  UNITID  EFYTOTLT  EFYTOTLM  EFYTOTLW  EFYAIANT  EFYAIANM  \\\n",
              "0           0  100654      5479      2193      3286        11         4   \n",
              "1           1  100663     14969      5771      9198        29         9   \n",
              "2           3  100706      8898      5082      3816        96        53   \n",
              "3           4  100724      4127      1543      2584         8         3   \n",
              "4           5  100751     35872     15888     19984       137        58   \n",
              "\n",
              "   EFYAIANW  EFYASIAT  EFYASIAM  ...  ADMSSNW  ENRLT  ENRLM  ENRLW  ENRLFT  \\\n",
              "0         7        10         5  ...     5888   1664    676    988    1622   \n",
              "1        20       951       421  ...     5373   2154    765   1389    2102   \n",
              "2        43       315       178  ...     1958   1345    847    498    1328   \n",
              "3         5        16         7  ...     4724    975    347    628     926   \n",
              "4        79       460       199  ...    19692   6507   2752   3755    6466   \n",
              "\n",
              "   ENRLFTM  ENRLFTW  ENRLPT  ENRLPTM  ENRLPTW  \n",
              "0      660      962      42       16       26  \n",
              "1      738     1364      52       27       25  \n",
              "2      840      488      17        7       10  \n",
              "3      322      604      49       25       24  \n",
              "4     2728     3738      41       24       17  \n",
              "\n",
              "[5 rows x 49 columns]"
            ]
          },
          "metadata": {},
          "execution_count": 84
        }
      ]
    },
    {
      "cell_type": "code",
      "source": [
        "df_student_enrollment_no_open_enroll_merged.drop(['Unnamed: 0'], axis = 1, inplace = True)"
      ],
      "metadata": {
        "id": "BER2tfootmqL"
      },
      "execution_count": 85,
      "outputs": []
    },
    {
      "cell_type": "code",
      "source": [
        "df_student_enrollment_no_open_enroll_merged.to_csv('/content/gdrive/Shareddrives/DATA_606_Capstone/Merged_data/df_student_enrollment_no_open_enroll_merged.csv')"
      ],
      "metadata": {
        "id": "PY7Fp9MDt1-h"
      },
      "execution_count": 86,
      "outputs": []
    },
    {
      "cell_type": "markdown",
      "source": [
        "### We have finished the initial data cleaning \n",
        "\n",
        "### We now have the data and variables we need to study what affects enrollment for Undergraduates the most "
      ],
      "metadata": {
        "id": "2zyJB9dSuibk"
      }
    }
  ]
}