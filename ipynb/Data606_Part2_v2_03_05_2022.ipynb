{
  "nbformat": 4,
  "nbformat_minor": 0,
  "metadata": {
    "colab": {
      "name": "Data606_Part2_v2_03_05_2022.ipynb",
      "provenance": []
    },
    "kernelspec": {
      "name": "python3",
      "display_name": "Python 3"
    },
    "language_info": {
      "name": "python"
    }
  },
  "cells": [
    {
      "cell_type": "markdown",
      "source": [
        "### We are actually not fully done with the data cleaning, if we look at the variables one more time \n",
        "\n",
        "Here is the lsit of the variables currently composing our csv \n",
        "There are 97 Variables in total: \n",
        "\n",
        "1\tUNITID\tUnique identification number of the institution\n",
        "\n",
        "2\tINSTNM\tInstitution (entity) name\n",
        "\n",
        "3\tSTABBR\tState abbreviation\n",
        "\n",
        "4\tOBEREG\tGeographic region\n",
        "\n",
        "5\tHLOFFER\tHighest level of offering\n",
        "\n",
        "6\tGROFFER\tGraduate offering\n",
        "\n",
        "7\tHDEGOFFR\tHighest degree offered\n",
        "\n",
        "8\tHBCU\tHistorically Black College or University\n",
        "\n",
        "9\tLOCALE\tDegree of urbanization (Urban-centric locale)\n",
        "\n",
        "10\tPOSTSEC\tPrimarily postsecondary indicator\n",
        "\n",
        "11\tINSTCAT\tInstitutional category\n",
        "\n",
        "12\tINSTSIZE\tInstitution size category\n",
        "\n",
        "13\tCNTLAFFI\tInstitutional control or affiliation\n",
        "\n",
        "14\tLEVEL3\tAssociate's degree\n",
        "\n",
        "15\tLEVEL5\tBachelor's degree\n",
        "\n",
        "16\tCALSYS\tCalendar system\n",
        "\n",
        "17\tFT_UG\tFull-time undergraduate students are enrolled\n",
        "\n",
        "18\tFT_FTUG\tFull time first-time degree/certificate-seeking undergraduate students enrolled\n",
        "\n",
        "19\tPT_UG\tPart-time undergraduate students are enrolled\n",
        "\n",
        "20\tPT_FTUG\tPart time first-time degree/certificate-seeking undergraduate students enrolled\n",
        "\n",
        "21\tOPENADMP\tOpen admission policy\n",
        "\n",
        "22\tVET1\tYellow Ribbon Program (officially known as Post-9/11 GI Bill, Yellow Ribbon Program)\n",
        "\n",
        "23\tVET2\tCredit for military training\n",
        "\n",
        "24\tCREDITS1\tDual enrollment\n",
        "\n",
        "25\tCREDITS2\tCredit for life experiences\n",
        "\n",
        "26\tCREDITS3\tAdvanced placement (AP) credits\n",
        "\n",
        "27\tCREDITS4\tInstitution does not accept dual, credit for life, or AP credits\n",
        "\n",
        "28\tSLO5\tROTC\n",
        "\n",
        "29\tSLO6\tStudy abroad\n",
        "\n",
        "30\tSLO7\tWeekend/evening  college\n",
        "\n",
        "31\tSLO83\tTeacher certification: Approved by the state for initial certifcation or licensure of teachers.\n",
        "\n",
        "32\tYRSCOLL\tYears of college-level work required\n",
        "\n",
        "33\tSTUSRV1\tRemedial services\n",
        "\n",
        "34\tSTUSRV2\tAcademic/career counseling service\n",
        "\n",
        "35\tSTUSRV3\tEmployment services for students\n",
        "\n",
        "36\tSTUSRV4\tPlacement services for completers\n",
        "\n",
        "37\tSTUSRV8\tOn-campus day care for students' children\n",
        "\n",
        "38\tSTUSRV9\tNone of the above selected services are offered\n",
        "\n",
        "39\tLIBRES1\tLibrary resources/services: Physical facilities\n",
        "\n",
        "40\tTUITPL\tAny alternative tuition plans offered by institution\n",
        "\n",
        "41\tTUITPL1\tTuition guaranteed plan\n",
        "\n",
        "42\tTUITPL2\tPrepaid tuition plan\n",
        "\n",
        "43\tTUITPL3\tTuition payment plan\n",
        "\n",
        "44\tTUITPL4\tOther alternative tuition plan\n",
        "\n",
        "45\tDSTNUGC\tUndergraduate level distance education courses offered\n",
        "\n",
        "46\tDSTNUGP\tUndergraduate level distance education programs offered\n",
        "\n",
        "47\tDSTNCED1\tUndergraduate level programs or courses are offered via distance education\n",
        "\n",
        "48\tALLONCAM\tFull-time, first-time degree/certificate-seeking students required to live on campus\n",
        "\n",
        "49\tTUITVARY\tTuition charge varies for in-district, in-state, out-of-state students\n",
        "\n",
        "50\tROOM\tInstitution provide on-campus housing\n",
        "\n",
        "51\tBOARD\tInstitution provides board or meal plan\n",
        "\n",
        "52\tAPPLFEEU\tUndergraduate application fee\n",
        "\n",
        "53\tRMANDBRDAMT\tRoom and board amount \n",
        "\n",
        "54\tEFYTOTLT\tGrand total\n",
        "\n",
        "55\tEFYTOTLM\tGrand total men\n",
        "\n",
        "56\tEFYTOTLW\tGrand total women\n",
        "\n",
        "57\tEFYAIANT\tAmerican Indian or Alaska Native total\n",
        "\n",
        "58\tEFYAIANM\tAmerican Indian or Alaska Native men\n",
        "\n",
        "59\tEFYAIANW\tAmerican Indian or Alaska Native women\n",
        "\n",
        "60\tEFYASIAT\tAsian total\n",
        "\n",
        "61\tEFYASIAM\tAsian men\n",
        "\n",
        "62\tEFYASIAW\tAsian women\n",
        "\n",
        "63\tEFYBKAAT\tBlack or African American total\n",
        "\n",
        "64\tEFYBKAAM\tBlack or African American men\n",
        "\n",
        "65\tEFYBKAAW\tBlack or African American women\n",
        "\n",
        "66\tEFYHISPT\tHispanic or Latino total\n",
        "\n",
        "67\tEFYHISPM\tHispanic or Latino men\n",
        "\n",
        "68\tEFYHISPW\tHispanic or Latino women\n",
        "\n",
        "69\tEFYNHPIT\tNative Hawaiian or Other Pacific Islander total\n",
        "\n",
        "70\tEFYNHPIM\tNative Hawaiian or Other Pacific Islander men\n",
        "\n",
        "71\tEFYNHPIW\tNative Hawaiian or Other Pacific Islander women\n",
        "\n",
        "72\tEFYWHITT\tWhite total\n",
        "\n",
        "73\tEFYWHITM\tWhite men\n",
        "\n",
        "74\tEFYWHITW\tWhite women\n",
        "\n",
        "75\tEFY2MORT\tTwo or more races total\n",
        "\n",
        "76\tEFY2MORM\tTwo or more races men\n",
        "\n",
        "77\tEFY2MORW\tTwo or more races women\n",
        "\n",
        "78\tEFYUNKNT\tRace/ethnicity unknown total\n",
        "\n",
        "79\tEFYUNKNM\tRace/ethnicity unknown men\n",
        "\n",
        "80\tEFYUNKNW\tRace/ethnicity unknown women\n",
        "\n",
        "81\tEFYNRALT\tNonresident alien total\n",
        "\n",
        "82\tEFYNRALM\tNonresident alien men\n",
        "\n",
        "83\tEFYNRALW\tNonresident alien women\n",
        "\n",
        "84\tADMCON1\t\tSecondary school GPA\n",
        "\n",
        "85\tADMCON2\t\tSecondary school rank\n",
        "\n",
        "86\tADMCON3\t\tSecondary school record\n",
        "\n",
        "87\tADMCON4\t\tCompletion of college-preparatory program\n",
        "\n",
        "88\tADMCON5\t\tRecommendations\n",
        "\n",
        "89\tADMCON6\t\tFormal demonstration of competencies\n",
        "\n",
        "90\tADMCON7\t\tAdmission test scores\n",
        "\n",
        "91\tADMCON8\t\tTOEFL (Test of English as a Foreign Language\n",
        "\n",
        "92\tADMCON9\t\tOther Test (Wonderlic, WISC-III, etc.)\n",
        "\n",
        "93\tAPPLCN\t\tApplicants total\n",
        "\n",
        "94\tADMSSN\t\tAdmissions total\n",
        "\n",
        "95\tENRLT\t\tEnrolled total\n",
        "\n",
        "96\tSATNUM\t\tNumber of first-time degree/certificate-seeking students submitting SAT scores\n",
        "\n",
        "97\tACTNUM\t\tNumber of first-time degree/certificate-seeking students submitting ACT scores\n",
        "\n",
        "\n"
      ],
      "metadata": {
        "id": "sTBXSzv_zzCe"
      }
    },
    {
      "cell_type": "code",
      "execution_count": 1,
      "metadata": {
        "colab": {
          "base_uri": "https://localhost:8080/"
        },
        "id": "hsMG0TVfY4zR",
        "outputId": "87758018-b474-4374-a6f8-a5cd5713f0ad"
      },
      "outputs": [
        {
          "output_type": "stream",
          "name": "stdout",
          "text": [
            "Mounted at /content/gdrive\n"
          ]
        }
      ],
      "source": [
        "from google.colab import drive\n",
        "drive.mount ('/content/gdrive')\n",
        "# /content/gdrive/Shareddrives/DATA_606_Capstone"
      ]
    },
    {
      "cell_type": "code",
      "source": [
        "import pandas as pd\n",
        "# import glob\n",
        "# import os \n",
        "\n",
        "import numpy as np \n",
        "\n",
        "# from datetime import datetime \n",
        "import time \n",
        "import csv\n",
        "\n",
        "import matplotlib.pyplot as plt\n",
        "\n",
        "import seaborn as sns"
      ],
      "metadata": {
        "id": "5S-pQQavZMw6"
      },
      "execution_count": 2,
      "outputs": []
    },
    {
      "cell_type": "code",
      "source": [
        "def read_data(filename):\n",
        "    start_time = time.time()\n",
        "    df=pd.read_csv(filename,low_memory=False,encoding='cp1252') # added encoding because I was getting an error in reading the files \n",
        "    # https://stackoverflow.com/questions/45529507/unicodedecodeerror-utf-8-codec-cant-decode-byte-0x96-in-position-35-invalid\n",
        "        # df=pd.read_csv(filename,low_memory=False)\n",
        "    print(time.time() - start_time, 'seconds')\n",
        "    return df"
      ],
      "metadata": {
        "id": "q9dBtPfTcO5b"
      },
      "execution_count": 3,
      "outputs": []
    },
    {
      "cell_type": "code",
      "source": [
        "df_merged_all = read_data('/content/gdrive/Shareddrives/DATA_606_Capstone/Merged_data/df_merged_all.csv')"
      ],
      "metadata": {
        "colab": {
          "base_uri": "https://localhost:8080/"
        },
        "id": "nfZ4qsMzcPd3",
        "outputId": "117a6bab-7c36-4944-bfeb-22201cf94a65"
      },
      "execution_count": 4,
      "outputs": [
        {
          "output_type": "stream",
          "name": "stdout",
          "text": [
            "1.816293478012085 seconds\n"
          ]
        }
      ]
    },
    {
      "cell_type": "code",
      "source": [
        "# df_merged_all.info()"
      ],
      "metadata": {
        "id": "J4zIE5iFcaf_"
      },
      "execution_count": 5,
      "outputs": []
    },
    {
      "cell_type": "code",
      "source": [
        "df_merged_all.columns"
      ],
      "metadata": {
        "colab": {
          "base_uri": "https://localhost:8080/"
        },
        "id": "bPup1OUJ3STc",
        "outputId": "43d9c802-63bb-4925-96b9-d44c0dc55870"
      },
      "execution_count": 6,
      "outputs": [
        {
          "output_type": "execute_result",
          "data": {
            "text/plain": [
              "Index(['Unnamed: 0', 'UNITID', 'INSTNM', 'STABBR', 'OBEREG', 'HLOFFER',\n",
              "       'GROFFER', 'HDEGOFFR', 'HBCU', 'LOCALE', 'POSTSEC', 'INSTCAT',\n",
              "       'INSTSIZE', 'CNTLAFFI', 'LEVEL3', 'LEVEL5', 'CALSYS', 'FT_UG',\n",
              "       'FT_FTUG', 'PT_UG', 'PT_FTUG', 'OPENADMP', 'VET1', 'VET2', 'CREDITS1',\n",
              "       'CREDITS2', 'CREDITS3', 'CREDITS4', 'SLO5', 'SLO6', 'SLO7', 'SLO83',\n",
              "       'YRSCOLL', 'STUSRV1', 'STUSRV2', 'STUSRV3', 'STUSRV4', 'STUSRV8',\n",
              "       'STUSRV9', 'LIBRES1', 'TUITPL', 'TUITPL1', 'TUITPL2', 'TUITPL3',\n",
              "       'TUITPL4', 'DSTNUGC', 'DSTNUGP', 'DSTNCED1', 'ALLONCAM', 'TUITVARY',\n",
              "       'ROOM', 'BOARD', 'APPLFEEU', 'RMANDBRDAMT', 'EFYTOTLT', 'EFYTOTLM',\n",
              "       'EFYTOTLW', 'EFYAIANT', 'EFYAIANM', 'EFYAIANW', 'EFYASIAT', 'EFYASIAM',\n",
              "       'EFYASIAW', 'EFYBKAAT', 'EFYBKAAM', 'EFYBKAAW', 'EFYHISPT', 'EFYHISPM',\n",
              "       'EFYHISPW', 'EFYNHPIT', 'EFYNHPIM', 'EFYNHPIW', 'EFYWHITT', 'EFYWHITM',\n",
              "       'EFYWHITW', 'EFY2MORT', 'EFY2MORM', 'EFY2MORW', 'EFYUNKNT', 'EFYUNKNM',\n",
              "       'EFYUNKNW', 'EFYNRALT', 'EFYNRALM', 'EFYNRALW', 'ADMCON1', 'ADMCON2',\n",
              "       'ADMCON3', 'ADMCON4', 'ADMCON5', 'ADMCON6', 'ADMCON7', 'ADMCON8',\n",
              "       'ADMCON9', 'APPLCN', 'ADMSSN', 'ENRLT', 'SATNUM', 'ACTNUM'],\n",
              "      dtype='object')"
            ]
          },
          "metadata": {},
          "execution_count": 6
        }
      ]
    },
    {
      "cell_type": "code",
      "source": [
        "df_merged_all['POSTSEC'].value_counts()\n",
        "\n",
        "# I can drop this column since the single institution here listed offers undergraduate degree even \n",
        "# if its primary purpose is not to provide a postgraduate degree (the institution is a military institution, see notebook 1) "
      ],
      "metadata": {
        "colab": {
          "base_uri": "https://localhost:8080/"
        },
        "id": "pYKWfRgn1jYp",
        "outputId": "e06ea92f-d2e3-4013-8e0d-8b886d53e06b"
      },
      "execution_count": 7,
      "outputs": [
        {
          "output_type": "execute_result",
          "data": {
            "text/plain": [
              "1    3546\n",
              "2       1\n",
              "Name: POSTSEC, dtype: int64"
            ]
          },
          "metadata": {},
          "execution_count": 7
        }
      ]
    },
    {
      "cell_type": "markdown",
      "source": [
        "### I will set my target variable to be Total Student Enrollment ( ENRLT ) , independently of race and gender, thus I will not use the varaibles pertaining to enrollemnt by gender and race for the time being  \n",
        "\n",
        "### I will also separately consider the effects of these variables on Admission numbers and on Applicants numbers therefore I will separate these variables out\n",
        "\n",
        "### Finally, I will slice out from the list of variables 'SATNUM' and 'ACTNUM', which represent the total number of SAT and ACT tests submitted. \n",
        "(NOTE: Test submission requirements are captured by ADMCON7 ) "
      ],
      "metadata": {
        "id": "J9YBI1fS20sq"
      }
    },
    {
      "cell_type": "code",
      "source": [
        "df_merged_all.drop(['Unnamed: 0', 'POSTSEC','EFYTOTLM', 'EFYTOTLW',\n",
        "       'EFYAIANT', 'EFYAIANM', 'EFYAIANW', 'EFYASIAT', 'EFYASIAM', 'EFYASIAW',\n",
        "       'EFYBKAAT', 'EFYBKAAM', 'EFYBKAAW', 'EFYHISPT', 'EFYHISPM', 'EFYHISPW',\n",
        "       'EFYNHPIT', 'EFYNHPIM', 'EFYNHPIW', 'EFYWHITT', 'EFYWHITM', 'EFYWHITW',\n",
        "       'EFY2MORT', 'EFY2MORM', 'EFY2MORW', 'EFYUNKNT', 'EFYUNKNM', 'EFYUNKNW',\n",
        "       'EFYNRALT', 'EFYNRALM', 'EFYNRALW','SATNUM','ACTNUM'], axis = 1, inplace = True)"
      ],
      "metadata": {
        "id": "tknz7Nv3c0XO"
      },
      "execution_count": 8,
      "outputs": []
    },
    {
      "cell_type": "code",
      "source": [
        "df_merged_all.info()"
      ],
      "metadata": {
        "colab": {
          "base_uri": "https://localhost:8080/"
        },
        "id": "YPv5CZ_2N-KY",
        "outputId": "54ad134b-550a-405d-c563-7b6c01b28a76"
      },
      "execution_count": 9,
      "outputs": [
        {
          "output_type": "stream",
          "name": "stdout",
          "text": [
            "<class 'pandas.core.frame.DataFrame'>\n",
            "RangeIndex: 3547 entries, 0 to 3546\n",
            "Data columns (total 65 columns):\n",
            " #   Column       Non-Null Count  Dtype  \n",
            "---  ------       --------------  -----  \n",
            " 0   UNITID       3547 non-null   int64  \n",
            " 1   INSTNM       3547 non-null   object \n",
            " 2   STABBR       3547 non-null   object \n",
            " 3   OBEREG       3547 non-null   int64  \n",
            " 4   HLOFFER      3547 non-null   int64  \n",
            " 5   GROFFER      3547 non-null   int64  \n",
            " 6   HDEGOFFR     3547 non-null   int64  \n",
            " 7   HBCU         3547 non-null   int64  \n",
            " 8   LOCALE       3547 non-null   int64  \n",
            " 9   INSTCAT      3547 non-null   int64  \n",
            " 10  INSTSIZE     3547 non-null   int64  \n",
            " 11  CNTLAFFI     3547 non-null   int64  \n",
            " 12  LEVEL3       3547 non-null   int64  \n",
            " 13  LEVEL5       3547 non-null   int64  \n",
            " 14  CALSYS       3547 non-null   int64  \n",
            " 15  FT_UG        3547 non-null   int64  \n",
            " 16  FT_FTUG      3547 non-null   int64  \n",
            " 17  PT_UG        3547 non-null   int64  \n",
            " 18  PT_FTUG      3547 non-null   int64  \n",
            " 19  OPENADMP     3547 non-null   int64  \n",
            " 20  VET1         3547 non-null   int64  \n",
            " 21  VET2         3547 non-null   int64  \n",
            " 22  CREDITS1     3547 non-null   int64  \n",
            " 23  CREDITS2     3547 non-null   int64  \n",
            " 24  CREDITS3     3547 non-null   int64  \n",
            " 25  CREDITS4     3547 non-null   int64  \n",
            " 26  SLO5         3547 non-null   int64  \n",
            " 27  SLO6         3547 non-null   int64  \n",
            " 28  SLO7         3547 non-null   int64  \n",
            " 29  SLO83        3547 non-null   int64  \n",
            " 30  YRSCOLL      3547 non-null   int64  \n",
            " 31  STUSRV1      3547 non-null   int64  \n",
            " 32  STUSRV2      3547 non-null   int64  \n",
            " 33  STUSRV3      3547 non-null   int64  \n",
            " 34  STUSRV4      3547 non-null   int64  \n",
            " 35  STUSRV8      3547 non-null   int64  \n",
            " 36  STUSRV9      3547 non-null   int64  \n",
            " 37  LIBRES1      3547 non-null   int64  \n",
            " 38  TUITPL       3547 non-null   int64  \n",
            " 39  TUITPL1      3547 non-null   int64  \n",
            " 40  TUITPL2      3547 non-null   int64  \n",
            " 41  TUITPL3      3547 non-null   int64  \n",
            " 42  TUITPL4      3547 non-null   int64  \n",
            " 43  DSTNUGC      3547 non-null   int64  \n",
            " 44  DSTNUGP      3547 non-null   int64  \n",
            " 45  DSTNCED1     3547 non-null   int64  \n",
            " 46  ALLONCAM     3547 non-null   int64  \n",
            " 47  TUITVARY     3547 non-null   int64  \n",
            " 48  ROOM         3547 non-null   int64  \n",
            " 49  BOARD        3547 non-null   int64  \n",
            " 50  APPLFEEU     3547 non-null   int64  \n",
            " 51  RMANDBRDAMT  3547 non-null   int64  \n",
            " 52  EFYTOTLT     3547 non-null   int64  \n",
            " 53  ADMCON1      3547 non-null   float64\n",
            " 54  ADMCON2      3547 non-null   float64\n",
            " 55  ADMCON3      3547 non-null   float64\n",
            " 56  ADMCON4      3547 non-null   float64\n",
            " 57  ADMCON5      3547 non-null   float64\n",
            " 58  ADMCON6      3547 non-null   float64\n",
            " 59  ADMCON7      3547 non-null   float64\n",
            " 60  ADMCON8      3547 non-null   float64\n",
            " 61  ADMCON9      3547 non-null   float64\n",
            " 62  APPLCN       3547 non-null   float64\n",
            " 63  ADMSSN       3547 non-null   float64\n",
            " 64  ENRLT        3547 non-null   float64\n",
            "dtypes: float64(12), int64(51), object(2)\n",
            "memory usage: 1.8+ MB\n"
          ]
        }
      ]
    },
    {
      "cell_type": "code",
      "source": [
        "df_merged_all['ADMCON1'].unique()"
      ],
      "metadata": {
        "colab": {
          "base_uri": "https://localhost:8080/"
        },
        "id": "8_cd6SHVOCN2",
        "outputId": "3e0fef0d-ae6e-4f44-b186-3371f64c927a"
      },
      "execution_count": 10,
      "outputs": [
        {
          "output_type": "execute_result",
          "data": {
            "text/plain": [
              "array([1., 3., 2., 5.])"
            ]
          },
          "metadata": {},
          "execution_count": 10
        }
      ]
    },
    {
      "cell_type": "markdown",
      "source": [
        "### Let us take a moment and note that our data is labelled data and thus we are going to be focusing primarily on Supervised Machine Learning Models. \n",
        "\n",
        "### Traditional Supervised Machine Learning Models include: Linear Regression; Logistic Regression; K-Nearest Neighbors; Support ector Machines; Decision Trees and Random FOrests; and Neural Networks. \n",
        "### -- Ideally it would be interesting to first look at some of these for the 2020 data then generalize to include historical data as well. \n",
        "\n",
        "### We can start by looking out our Target variables (enrollment, vs applications, vs admissions) in terms of a linear regression model"
      ],
      "metadata": {
        "id": "GRW0TSO978F0"
      }
    },
    {
      "cell_type": "code",
      "source": [
        "# tot_admissions = df_merged_all['ADMSSN']\n",
        "# tot_enrollment = df_merged_all['ENRLT']\n",
        "# tot_applicants = df_merged_all['APPLCN']"
      ],
      "metadata": {
        "id": "qZf73PML4mwJ"
      },
      "execution_count": 11,
      "outputs": []
    },
    {
      "cell_type": "code",
      "source": [
        ""
      ],
      "metadata": {
        "id": "KnrqLMqFAiNA"
      },
      "execution_count": 11,
      "outputs": []
    },
    {
      "cell_type": "code",
      "source": [
        "df_merged_all.to_csv('/content/gdrive/Shareddrives/DATA_606_Capstone/Merged_data/df_merged_all_clean.csv')"
      ],
      "metadata": {
        "id": "8n01NS5cAQhS"
      },
      "execution_count": 12,
      "outputs": []
    }
  ]
}